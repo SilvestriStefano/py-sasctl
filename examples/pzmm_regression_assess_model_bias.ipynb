{
 "cells": [
  {
   "cell_type": "markdown",
   "source": [
    "Copyright © 2023, SAS Institute Inc., Cary, NC, USA.  All Rights Reserved.\n",
    "SPDX-License-Identifier: Apache-2.0"
   ],
   "metadata": {
    "collapsed": false
   }
  },
  {
   "cell_type": "markdown",
   "source": [
    "# Exams Dataset : Assess Bias of Regression Models\n",
    "\n",
    "This notebook provides an example of how to integrate bias assessment into the python model to SAS Model Manager (on either SAS Viya 3.5 or SAS Viya 4)  workflow using the exam data set [^1]. Lines of code that must be modified by the user, such as directory paths or the host server are noted with the comment \"_Changes required by user._\"\n",
    "\n",
    "_**Note:** If you download only this notebook and not the rest of the repository, you must also download the exams.csv file from the data folder in the examples directory. These files are used when executing this notebook example._\n",
    "\n",
    "Here are the steps shown in this notebook:\n",
    "\n",
    "1. Import, review, and preprocess data for model training.\n",
    "2. Build, train, and assess a scikit-learn models.\n",
    "3. Create score tables for models.\n",
    "4. Create JSON files for model assessment\n",
    "5. Create other files necessary to import model into Model Manager (pickle files, metadata JSON files, score code, etc.)\n",
    "6. Zip the pickle, JSON, and score code files into an archive file.\n",
    "7. Import the ZIP archive file to SAS Model Manager via the Session object and relevant function call.\n",
    "\n",
    "[^1]: source: http://roycekimmons.com/tools/generated_data/exams"
   ],
   "metadata": {
    "collapsed": false
   }
  },
  {
   "cell_type": "markdown",
   "source": [
    "## Import Modules"
   ],
   "metadata": {
    "collapsed": false
   }
  },
  {
   "cell_type": "code",
   "execution_count": 1,
   "outputs": [],
   "source": [
    "from sasctl import Session\n",
    "import sasctl.pzmm as pzmm\n",
    "import pandas as pd\n",
    "from sklearn.model_selection import train_test_split\n",
    "from sklearn.linear_model import LinearRegression\n",
    "from sklearn.ensemble import GradientBoostingRegressor\n",
    "from sklearn.ensemble import RandomForestRegressor\n",
    "from sklearn.metrics import mean_squared_error\n",
    "from sklearn.metrics import mean_absolute_error\n",
    "from sklearn.metrics import r2_score\n",
    "import seaborn as sns\n",
    "import numpy as np\n",
    "from pathlib import Path\n",
    "import regex as re"
   ],
   "metadata": {
    "collapsed": false
   }
  },
  {
   "cell_type": "markdown",
   "source": [
    "## Load and Pre-process Data"
   ],
   "metadata": {
    "collapsed": false
   }
  },
  {
   "cell_type": "code",
   "execution_count": 2,
   "outputs": [
    {
     "data": {
      "text/plain": "   gender race/ethnicity parental level of education         lunch  \\\n0    male        group A                 high school      standard   \n1  female        group E            some high school  free/reduced   \n2  female        group E                some college      standard   \n3  female        group D                some college      standard   \n4    male        group E          associate's degree  free/reduced   \n\n  test preparation course  math score  reading score  writing score  \n0                    none          62             59             53  \n1               completed          56             62             64  \n2               completed          91             97             96  \n3               completed          81             93             99  \n4                    none          73             62             57  ",
      "text/html": "<div>\n<style scoped>\n    .dataframe tbody tr th:only-of-type {\n        vertical-align: middle;\n    }\n\n    .dataframe tbody tr th {\n        vertical-align: top;\n    }\n\n    .dataframe thead th {\n        text-align: right;\n    }\n</style>\n<table border=\"1\" class=\"dataframe\">\n  <thead>\n    <tr style=\"text-align: right;\">\n      <th></th>\n      <th>gender</th>\n      <th>race/ethnicity</th>\n      <th>parental level of education</th>\n      <th>lunch</th>\n      <th>test preparation course</th>\n      <th>math score</th>\n      <th>reading score</th>\n      <th>writing score</th>\n    </tr>\n  </thead>\n  <tbody>\n    <tr>\n      <th>0</th>\n      <td>male</td>\n      <td>group A</td>\n      <td>high school</td>\n      <td>standard</td>\n      <td>none</td>\n      <td>62</td>\n      <td>59</td>\n      <td>53</td>\n    </tr>\n    <tr>\n      <th>1</th>\n      <td>female</td>\n      <td>group E</td>\n      <td>some high school</td>\n      <td>free/reduced</td>\n      <td>completed</td>\n      <td>56</td>\n      <td>62</td>\n      <td>64</td>\n    </tr>\n    <tr>\n      <th>2</th>\n      <td>female</td>\n      <td>group E</td>\n      <td>some college</td>\n      <td>standard</td>\n      <td>completed</td>\n      <td>91</td>\n      <td>97</td>\n      <td>96</td>\n    </tr>\n    <tr>\n      <th>3</th>\n      <td>female</td>\n      <td>group D</td>\n      <td>some college</td>\n      <td>standard</td>\n      <td>completed</td>\n      <td>81</td>\n      <td>93</td>\n      <td>99</td>\n    </tr>\n    <tr>\n      <th>4</th>\n      <td>male</td>\n      <td>group E</td>\n      <td>associate's degree</td>\n      <td>free/reduced</td>\n      <td>none</td>\n      <td>73</td>\n      <td>62</td>\n      <td>57</td>\n    </tr>\n  </tbody>\n</table>\n</div>"
     },
     "execution_count": 2,
     "metadata": {},
     "output_type": "execute_result"
    }
   ],
   "source": [
    "df_raw = pd.read_csv('data/exams.csv')\n",
    "df_raw.head()"
   ],
   "metadata": {
    "collapsed": false,
    "ExecuteTime": {
     "end_time": "2023-07-06T15:04:45.094941600Z",
     "start_time": "2023-07-06T15:04:45.033136Z"
    }
   }
  },
  {
   "cell_type": "code",
   "execution_count": 4,
   "outputs": [
    {
     "data": {
      "text/plain": "               math score                                                  \\\n                    count       mean        std   min    25%   50%    75%   \nrace/ethnicity                                                              \ngroup A              62.0  67.387097  14.602217  33.0  57.25  69.0  78.75   \ngroup B             199.0  63.738693  16.392042  24.0  53.00  64.0  76.00   \ngroup C             342.0  64.909357  14.419377  19.0  56.00  66.0  74.00   \ngroup D             245.0  67.987755  14.207329  24.0  58.00  67.0  78.00   \ngroup E             152.0  76.578947  14.315983  40.0  67.00  77.0  87.25   \n\n                       \n                  max  \nrace/ethnicity         \ngroup A         100.0  \ngroup B          96.0  \ngroup C         100.0  \ngroup D         100.0  \ngroup E         100.0  ",
      "text/html": "<div>\n<style scoped>\n    .dataframe tbody tr th:only-of-type {\n        vertical-align: middle;\n    }\n\n    .dataframe tbody tr th {\n        vertical-align: top;\n    }\n\n    .dataframe thead tr th {\n        text-align: left;\n    }\n\n    .dataframe thead tr:last-of-type th {\n        text-align: right;\n    }\n</style>\n<table border=\"1\" class=\"dataframe\">\n  <thead>\n    <tr>\n      <th></th>\n      <th colspan=\"8\" halign=\"left\">math score</th>\n    </tr>\n    <tr>\n      <th></th>\n      <th>count</th>\n      <th>mean</th>\n      <th>std</th>\n      <th>min</th>\n      <th>25%</th>\n      <th>50%</th>\n      <th>75%</th>\n      <th>max</th>\n    </tr>\n    <tr>\n      <th>race/ethnicity</th>\n      <th></th>\n      <th></th>\n      <th></th>\n      <th></th>\n      <th></th>\n      <th></th>\n      <th></th>\n      <th></th>\n    </tr>\n  </thead>\n  <tbody>\n    <tr>\n      <th>group A</th>\n      <td>62.0</td>\n      <td>67.387097</td>\n      <td>14.602217</td>\n      <td>33.0</td>\n      <td>57.25</td>\n      <td>69.0</td>\n      <td>78.75</td>\n      <td>100.0</td>\n    </tr>\n    <tr>\n      <th>group B</th>\n      <td>199.0</td>\n      <td>63.738693</td>\n      <td>16.392042</td>\n      <td>24.0</td>\n      <td>53.00</td>\n      <td>64.0</td>\n      <td>76.00</td>\n      <td>96.0</td>\n    </tr>\n    <tr>\n      <th>group C</th>\n      <td>342.0</td>\n      <td>64.909357</td>\n      <td>14.419377</td>\n      <td>19.0</td>\n      <td>56.00</td>\n      <td>66.0</td>\n      <td>74.00</td>\n      <td>100.0</td>\n    </tr>\n    <tr>\n      <th>group D</th>\n      <td>245.0</td>\n      <td>67.987755</td>\n      <td>14.207329</td>\n      <td>24.0</td>\n      <td>58.00</td>\n      <td>67.0</td>\n      <td>78.00</td>\n      <td>100.0</td>\n    </tr>\n    <tr>\n      <th>group E</th>\n      <td>152.0</td>\n      <td>76.578947</td>\n      <td>14.315983</td>\n      <td>40.0</td>\n      <td>67.00</td>\n      <td>77.0</td>\n      <td>87.25</td>\n      <td>100.0</td>\n    </tr>\n  </tbody>\n</table>\n</div>"
     },
     "execution_count": 4,
     "metadata": {},
     "output_type": "execute_result"
    },
    {
     "data": {
      "text/plain": "<Figure size 640x480 with 1 Axes>",
      "image/png": "[encoded data removed]"
     },
     "metadata": {},
     "output_type": "display_data"
    }
   ],
   "source": [
    "sns.barplot(df_raw, x='race/ethnicity', y='math score')\n",
    "df_raw[['race/ethnicity', 'math score']].groupby('race/ethnicity').describe()"
   ],
   "metadata": {
    "collapsed": false,
    "ExecuteTime": {
     "end_time": "2023-07-06T15:05:12.964053800Z",
     "start_time": "2023-07-06T15:05:12.554083500Z"
    }
   }
  },
  {
   "cell_type": "code",
   "execution_count": 5,
   "outputs": [
    {
     "data": {
      "text/plain": "       math score                                                     \n            count       mean        std   min   25%   50%   75%    max\ngender                                                                \nfemale      495.0  64.880808  14.911885  24.0  56.0  65.0  75.0  100.0\nmale        505.0  69.786139  15.373840  19.0  60.0  70.0  81.0  100.0",
      "text/html": "<div>\n<style scoped>\n    .dataframe tbody tr th:only-of-type {\n        vertical-align: middle;\n    }\n\n    .dataframe tbody tr th {\n        vertical-align: top;\n    }\n\n    .dataframe thead tr th {\n        text-align: left;\n    }\n\n    .dataframe thead tr:last-of-type th {\n        text-align: right;\n    }\n</style>\n<table border=\"1\" class=\"dataframe\">\n  <thead>\n    <tr>\n      <th></th>\n      <th colspan=\"8\" halign=\"left\">math score</th>\n    </tr>\n    <tr>\n      <th></th>\n      <th>count</th>\n      <th>mean</th>\n      <th>std</th>\n      <th>min</th>\n      <th>25%</th>\n      <th>50%</th>\n      <th>75%</th>\n      <th>max</th>\n    </tr>\n    <tr>\n      <th>gender</th>\n      <th></th>\n      <th></th>\n      <th></th>\n      <th></th>\n      <th></th>\n      <th></th>\n      <th></th>\n      <th></th>\n    </tr>\n  </thead>\n  <tbody>\n    <tr>\n      <th>female</th>\n      <td>495.0</td>\n      <td>64.880808</td>\n      <td>14.911885</td>\n      <td>24.0</td>\n      <td>56.0</td>\n      <td>65.0</td>\n      <td>75.0</td>\n      <td>100.0</td>\n    </tr>\n    <tr>\n      <th>male</th>\n      <td>505.0</td>\n      <td>69.786139</td>\n      <td>15.373840</td>\n      <td>19.0</td>\n      <td>60.0</td>\n      <td>70.0</td>\n      <td>81.0</td>\n      <td>100.0</td>\n    </tr>\n  </tbody>\n</table>\n</div>"
     },
     "execution_count": 5,
     "metadata": {},
     "output_type": "execute_result"
    },
    {
     "data": {
      "text/plain": "<Figure size 640x480 with 1 Axes>",
      "image/png": "[encoded data removed]"
     },
     "metadata": {},
     "output_type": "display_data"
    }
   ],
   "source": [
    "sns.barplot(df_raw, x='gender', y='math score')\n",
    "df_raw[['gender', 'math score']].groupby('gender').describe()"
   ],
   "metadata": {
    "collapsed": false,
    "ExecuteTime": {
     "end_time": "2023-07-06T15:06:15.450080800Z",
     "start_time": "2023-07-06T15:06:15.183426300Z"
    }
   }
  },
  {
   "cell_type": "code",
   "execution_count": 107,
   "outputs": [
    {
     "data": {
      "text/plain": "   composite score  gender_male  race/ethnicity_group A  \\\n0              161         True                   False   \n1              176         True                   False   \n2              112         True                    True   \n3              262         True                   False   \n4              141         True                   False   \n\n   race/ethnicity_group B  race/ethnicity_group C  race/ethnicity_group D  \\\n0                    True                   False                   False   \n1                    True                   False                   False   \n2                   False                   False                   False   \n3                    True                   False                   False   \n4                   False                    True                   False   \n\n   parental level of education_associate's degree  \\\n0                                           False   \n1                                           False   \n2                                            True   \n3                                           False   \n4                                           False   \n\n   parental level of education_bachelor's degree  \\\n0                                          False   \n1                                          False   \n2                                          False   \n3                                          False   \n4                                          False   \n\n   parental level of education_high school  \\\n0                                    False   \n1                                    False   \n2                                    False   \n3                                    False   \n4                                    False   \n\n   parental level of education_some college  \\\n0                                      True   \n1                                      True   \n2                                     False   \n3                                     False   \n4                                     False   \n\n   parental level of education_some high school  lunch_free/reduced  \\\n0                                         False                True   \n1                                         False                True   \n2                                         False               False   \n3                                         False                True   \n4                                          True                True   \n\n   test preparation course_none  \n0                          True  \n1                         False  \n2                          True  \n3                          True  \n4                          True  ",
      "text/html": "<div>\n<style scoped>\n    .dataframe tbody tr th:only-of-type {\n        vertical-align: middle;\n    }\n\n    .dataframe tbody tr th {\n        vertical-align: top;\n    }\n\n    .dataframe thead th {\n        text-align: right;\n    }\n</style>\n<table border=\"1\" class=\"dataframe\">\n  <thead>\n    <tr style=\"text-align: right;\">\n      <th></th>\n      <th>composite score</th>\n      <th>gender_male</th>\n      <th>race/ethnicity_group A</th>\n      <th>race/ethnicity_group B</th>\n      <th>race/ethnicity_group C</th>\n      <th>race/ethnicity_group D</th>\n      <th>parental level of education_associate's degree</th>\n      <th>parental level of education_bachelor's degree</th>\n      <th>parental level of education_high school</th>\n      <th>parental level of education_some college</th>\n      <th>parental level of education_some high school</th>\n      <th>lunch_free/reduced</th>\n      <th>test preparation course_none</th>\n    </tr>\n  </thead>\n  <tbody>\n    <tr>\n      <th>0</th>\n      <td>161</td>\n      <td>True</td>\n      <td>False</td>\n      <td>True</td>\n      <td>False</td>\n      <td>False</td>\n      <td>False</td>\n      <td>False</td>\n      <td>False</td>\n      <td>True</td>\n      <td>False</td>\n      <td>True</td>\n      <td>True</td>\n    </tr>\n    <tr>\n      <th>1</th>\n      <td>176</td>\n      <td>True</td>\n      <td>False</td>\n      <td>True</td>\n      <td>False</td>\n      <td>False</td>\n      <td>False</td>\n      <td>False</td>\n      <td>False</td>\n      <td>True</td>\n      <td>False</td>\n      <td>True</td>\n      <td>False</td>\n    </tr>\n    <tr>\n      <th>2</th>\n      <td>112</td>\n      <td>True</td>\n      <td>True</td>\n      <td>False</td>\n      <td>False</td>\n      <td>False</td>\n      <td>True</td>\n      <td>False</td>\n      <td>False</td>\n      <td>False</td>\n      <td>False</td>\n      <td>False</td>\n      <td>True</td>\n    </tr>\n    <tr>\n      <th>3</th>\n      <td>262</td>\n      <td>True</td>\n      <td>False</td>\n      <td>True</td>\n      <td>False</td>\n      <td>False</td>\n      <td>False</td>\n      <td>False</td>\n      <td>False</td>\n      <td>False</td>\n      <td>False</td>\n      <td>True</td>\n      <td>True</td>\n    </tr>\n    <tr>\n      <th>4</th>\n      <td>141</td>\n      <td>True</td>\n      <td>False</td>\n      <td>False</td>\n      <td>True</td>\n      <td>False</td>\n      <td>False</td>\n      <td>False</td>\n      <td>False</td>\n      <td>False</td>\n      <td>True</td>\n      <td>True</td>\n      <td>True</td>\n    </tr>\n  </tbody>\n</table>\n</div>"
     },
     "execution_count": 107,
     "metadata": {},
     "output_type": "execute_result"
    }
   ],
   "source": [
    "df = df_raw.drop(['math score', 'reading score', 'writing score'], axis=1).dropna()\n",
    "df = pd.get_dummies(df, columns=df.drop('composite score', axis=1).columns)\n",
    "df = df.drop(['gender_female', 'race/ethnicity_group E', 'parental level of education_master\\'s degree', 'lunch_standard', 'test preparation course_completed'], axis = 1)\n",
    "df.head()"
   ],
   "metadata": {
    "collapsed": false,
    "ExecuteTime": {
     "end_time": "2023-07-06T14:55:56.759816800Z",
     "start_time": "2023-07-06T14:55:56.649797300Z"
    }
   }
  },
  {
   "cell_type": "code",
   "execution_count": 108,
   "outputs": [],
   "source": [
    "new_cols = []\n",
    "for col in df.columns:\n",
    "    col = col.replace('/', \"\")\n",
    "    col = col.replace(\" \", \"_\")\n",
    "    col = col.replace(\"'\", \"\")\n",
    "    new_cols.append(col)\n",
    "\n",
    "df.columns = new_cols"
   ],
   "metadata": {
    "collapsed": false,
    "ExecuteTime": {
     "end_time": "2023-07-06T14:55:57.237913800Z",
     "start_time": "2023-07-06T14:55:57.237913800Z"
    }
   }
  },
  {
   "cell_type": "markdown",
   "source": [
    "## Train Python Models"
   ],
   "metadata": {
    "collapsed": false
   }
  },
  {
   "cell_type": "code",
   "execution_count": 109,
   "outputs": [],
   "source": [
    "target = 'composite_score'\n",
    "features = df.drop(target, axis = 1).columns\n",
    "\n",
    "# train python models #\n",
    "X_train, X_test, Y_train, Y_test = train_test_split(df[features], df[target], train_size=0.7, test_size=0.3,\n",
    "                                                    random_state=42)"
   ],
   "metadata": {
    "collapsed": false,
    "ExecuteTime": {
     "end_time": "2023-07-06T14:55:59.850764900Z",
     "start_time": "2023-07-06T14:55:59.819401900Z"
    }
   }
  },
  {
   "cell_type": "code",
   "execution_count": 110,
   "outputs": [
    {
     "data": {
      "text/plain": "GradientBoostingRegressor(random_state=42)",
      "text/html": "<style>#sk-container-id-5 {color: black;background-color: white;}#sk-container-id-5 pre{padding: 0;}#sk-container-id-5 div.sk-toggleable {background-color: white;}#sk-container-id-5 label.sk-toggleable__label {cursor: pointer;display: block;width: 100%;margin-bottom: 0;padding: 0.3em;box-sizing: border-box;text-align: center;}#sk-container-id-5 label.sk-toggleable__label-arrow:before {content: \"▸\";float: left;margin-right: 0.25em;color: #696969;}#sk-container-id-5 label.sk-toggleable__label-arrow:hover:before {color: black;}#sk-container-id-5 div.sk-estimator:hover label.sk-toggleable__label-arrow:before {color: black;}#sk-container-id-5 div.sk-toggleable__content {max-height: 0;max-width: 0;overflow: hidden;text-align: left;background-color: #f0f8ff;}#sk-container-id-5 div.sk-toggleable__content pre {margin: 0.2em;color: black;border-radius: 0.25em;background-color: #f0f8ff;}#sk-container-id-5 input.sk-toggleable__control:checked~div.sk-toggleable__content {max-height: 200px;max-width: 100%;overflow: auto;}#sk-container-id-5 input.sk-toggleable__control:checked~label.sk-toggleable__label-arrow:before {content: \"▾\";}#sk-container-id-5 div.sk-estimator input.sk-toggleable__control:checked~label.sk-toggleable__label {background-color: #d4ebff;}#sk-container-id-5 div.sk-label input.sk-toggleable__control:checked~label.sk-toggleable__label {background-color: #d4ebff;}#sk-container-id-5 input.sk-hidden--visually {border: 0;clip: rect(1px 1px 1px 1px);clip: rect(1px, 1px, 1px, 1px);height: 1px;margin: -1px;overflow: hidden;padding: 0;position: absolute;width: 1px;}#sk-container-id-5 div.sk-estimator {font-family: monospace;background-color: #f0f8ff;border: 1px dotted black;border-radius: 0.25em;box-sizing: border-box;margin-bottom: 0.5em;}#sk-container-id-5 div.sk-estimator:hover {background-color: #d4ebff;}#sk-container-id-5 div.sk-parallel-item::after {content: \"\";width: 100%;border-bottom: 1px solid gray;flex-grow: 1;}#sk-container-id-5 div.sk-label:hover label.sk-toggleable__label {background-color: #d4ebff;}#sk-container-id-5 div.sk-serial::before {content: \"\";position: absolute;border-left: 1px solid gray;box-sizing: border-box;top: 0;bottom: 0;left: 50%;z-index: 0;}#sk-container-id-5 div.sk-serial {display: flex;flex-direction: column;align-items: center;background-color: white;padding-right: 0.2em;padding-left: 0.2em;position: relative;}#sk-container-id-5 div.sk-item {position: relative;z-index: 1;}#sk-container-id-5 div.sk-parallel {display: flex;align-items: stretch;justify-content: center;background-color: white;position: relative;}#sk-container-id-5 div.sk-item::before, #sk-container-id-5 div.sk-parallel-item::before {content: \"\";position: absolute;border-left: 1px solid gray;box-sizing: border-box;top: 0;bottom: 0;left: 50%;z-index: -1;}#sk-container-id-5 div.sk-parallel-item {display: flex;flex-direction: column;z-index: 1;position: relative;background-color: white;}#sk-container-id-5 div.sk-parallel-item:first-child::after {align-self: flex-end;width: 50%;}#sk-container-id-5 div.sk-parallel-item:last-child::after {align-self: flex-start;width: 50%;}#sk-container-id-5 div.sk-parallel-item:only-child::after {width: 0;}#sk-container-id-5 div.sk-dashed-wrapped {border: 1px dashed gray;margin: 0 0.4em 0.5em 0.4em;box-sizing: border-box;padding-bottom: 0.4em;background-color: white;}#sk-container-id-5 div.sk-label label {font-family: monospace;font-weight: bold;display: inline-block;line-height: 1.2em;}#sk-container-id-5 div.sk-label-container {text-align: center;}#sk-container-id-5 div.sk-container {/* jupyter's `normalize.less` sets `[hidden] { display: none; }` but bootstrap.min.css set `[hidden] { display: none !important; }` so we also need the `!important` here to be able to override the default hidden behavior on the sphinx rendered scikit-learn.org. See: https://github.com/scikit-learn/scikit-learn/issues/21755 */display: inline-block !important;position: relative;}#sk-container-id-5 div.sk-text-repr-fallback {display: none;}</style><div id=\"sk-container-id-5\" class=\"sk-top-container\"><div class=\"sk-text-repr-fallback\"><pre>GradientBoostingRegressor(random_state=42)</pre><b>In a Jupyter environment, please rerun this cell to show the HTML representation or trust the notebook. <br />On GitHub, the HTML representation is unable to render, please try loading this page with nbviewer.org.</b></div><div class=\"sk-container\" hidden><div class=\"sk-item\"><div class=\"sk-estimator sk-toggleable\"><input class=\"sk-toggleable__control sk-hidden--visually\" id=\"sk-estimator-id-5\" type=\"checkbox\" checked><label for=\"sk-estimator-id-5\" class=\"sk-toggleable__label sk-toggleable__label-arrow\">GradientBoostingRegressor</label><div class=\"sk-toggleable__content\"><pre>GradientBoostingRegressor(random_state=42)</pre></div></div></div></div></div>"
     },
     "execution_count": 110,
     "metadata": {},
     "output_type": "execute_result"
    }
   ],
   "source": [
    "lr = LinearRegression()\n",
    "rfr = RandomForestRegressor(random_state=42)\n",
    "gbr = GradientBoostingRegressor(random_state=42)\n",
    "\n",
    "lr.fit(X_train, Y_train)\n",
    "rfr.fit(X_train, Y_train)\n",
    "gbr.fit(X_train, Y_train)"
   ],
   "metadata": {
    "collapsed": false,
    "ExecuteTime": {
     "end_time": "2023-07-06T14:56:01.008268700Z",
     "start_time": "2023-07-06T14:56:00.724595200Z"
    }
   }
  },
  {
   "cell_type": "markdown",
   "source": [
    "## Assess Models"
   ],
   "metadata": {
    "collapsed": false
   }
  },
  {
   "cell_type": "code",
   "execution_count": 111,
   "outputs": [],
   "source": [
    "def sort_feature_importance(model, data):\n",
    "    features = {}\n",
    "    for importance, name in sorted(zip(model.feature_importances_, data.columns), reverse=True):\n",
    "        features[name] = str(np.round(importance*100, 2)) + \"%\"\n",
    "    return features"
   ],
   "metadata": {
    "collapsed": false,
    "ExecuteTime": {
     "end_time": "2023-07-06T14:56:06.803604400Z",
     "start_time": "2023-07-06T14:56:06.697006Z"
    }
   }
  },
  {
   "cell_type": "code",
   "execution_count": 112,
   "outputs": [
    {
     "data": {
      "text/plain": "                                              RandomForest GradientBoosting\ntest_preparation_course_none                        17.67%           20.43%\ngender_male                                         12.08%           14.66%\nlunch_freereduced                                   11.21%           10.38%\nparental_level_of_education_high_school              9.35%           11.73%\nparental_level_of_education_associates_degree         7.7%            11.0%\nraceethnicity_group_D                                7.51%             3.7%\nraceethnicity_group_B                                7.35%            7.97%\nparental_level_of_education_some_high_school         6.92%            9.21%\nraceethnicity_group_C                                5.76%             3.8%\nparental_level_of_education_some_college             5.65%            1.67%\nraceethnicity_group_A                                5.44%             3.9%\nparental_level_of_education_bachelors_degree         3.37%            1.56%",
      "text/html": "<div>\n<style scoped>\n    .dataframe tbody tr th:only-of-type {\n        vertical-align: middle;\n    }\n\n    .dataframe tbody tr th {\n        vertical-align: top;\n    }\n\n    .dataframe thead th {\n        text-align: right;\n    }\n</style>\n<table border=\"1\" class=\"dataframe\">\n  <thead>\n    <tr style=\"text-align: right;\">\n      <th></th>\n      <th>RandomForest</th>\n      <th>GradientBoosting</th>\n    </tr>\n  </thead>\n  <tbody>\n    <tr>\n      <th>test_preparation_course_none</th>\n      <td>17.67%</td>\n      <td>20.43%</td>\n    </tr>\n    <tr>\n      <th>gender_male</th>\n      <td>12.08%</td>\n      <td>14.66%</td>\n    </tr>\n    <tr>\n      <th>lunch_freereduced</th>\n      <td>11.21%</td>\n      <td>10.38%</td>\n    </tr>\n    <tr>\n      <th>parental_level_of_education_high_school</th>\n      <td>9.35%</td>\n      <td>11.73%</td>\n    </tr>\n    <tr>\n      <th>parental_level_of_education_associates_degree</th>\n      <td>7.7%</td>\n      <td>11.0%</td>\n    </tr>\n    <tr>\n      <th>raceethnicity_group_D</th>\n      <td>7.51%</td>\n      <td>3.7%</td>\n    </tr>\n    <tr>\n      <th>raceethnicity_group_B</th>\n      <td>7.35%</td>\n      <td>7.97%</td>\n    </tr>\n    <tr>\n      <th>parental_level_of_education_some_high_school</th>\n      <td>6.92%</td>\n      <td>9.21%</td>\n    </tr>\n    <tr>\n      <th>raceethnicity_group_C</th>\n      <td>5.76%</td>\n      <td>3.8%</td>\n    </tr>\n    <tr>\n      <th>parental_level_of_education_some_college</th>\n      <td>5.65%</td>\n      <td>1.67%</td>\n    </tr>\n    <tr>\n      <th>raceethnicity_group_A</th>\n      <td>5.44%</td>\n      <td>3.9%</td>\n    </tr>\n    <tr>\n      <th>parental_level_of_education_bachelors_degree</th>\n      <td>3.37%</td>\n      <td>1.56%</td>\n    </tr>\n  </tbody>\n</table>\n</div>"
     },
     "execution_count": 112,
     "metadata": {},
     "output_type": "execute_result"
    }
   ],
   "source": [
    "importances = pd.DataFrame.from_dict(sort_feature_importance(rfr, X_train), orient=\"index\").rename(columns={0: \"RandomForest\"})\n",
    "importances[\"GradientBoosting\"] = pd.DataFrame.from_dict(sort_feature_importance(gbr, X_train), orient=\"index\")\n",
    "importances"
   ],
   "metadata": {
    "collapsed": false,
    "ExecuteTime": {
     "end_time": "2023-07-06T14:56:07.422456300Z",
     "start_time": "2023-07-06T14:56:07.391508500Z"
    }
   }
  },
  {
   "cell_type": "code",
   "execution_count": 113,
   "outputs": [
    {
     "data": {
      "text/plain": "                          MSE        MAE       RSQ\nLinearRegression  1120.879483  26.721537  0.091752\nRandomForest      1059.318005  23.818255  0.141636\nGradientBoost     1359.523403  27.447378 -0.101621",
      "text/html": "<div>\n<style scoped>\n    .dataframe tbody tr th:only-of-type {\n        vertical-align: middle;\n    }\n\n    .dataframe tbody tr th {\n        vertical-align: top;\n    }\n\n    .dataframe thead th {\n        text-align: right;\n    }\n</style>\n<table border=\"1\" class=\"dataframe\">\n  <thead>\n    <tr style=\"text-align: right;\">\n      <th></th>\n      <th>MSE</th>\n      <th>MAE</th>\n      <th>RSQ</th>\n    </tr>\n  </thead>\n  <tbody>\n    <tr>\n      <th>LinearRegression</th>\n      <td>1120.879483</td>\n      <td>26.721537</td>\n      <td>0.091752</td>\n    </tr>\n    <tr>\n      <th>RandomForest</th>\n      <td>1059.318005</td>\n      <td>23.818255</td>\n      <td>0.141636</td>\n    </tr>\n    <tr>\n      <th>GradientBoost</th>\n      <td>1359.523403</td>\n      <td>27.447378</td>\n      <td>-0.101621</td>\n    </tr>\n  </tbody>\n</table>\n</div>"
     },
     "execution_count": 113,
     "metadata": {},
     "output_type": "execute_result"
    }
   ],
   "source": [
    "metrics = {'LinearRegression': {'MSE': mean_squared_error(Y_test, lr.predict(X_test)),\n",
    "                                  'MAE': mean_absolute_error(Y_test, lr.predict(X_test)),\n",
    "                                  'RSQ': r2_score(Y_test, lr.predict(X_test))},\n",
    "           'RandomForest': {'MSE': mean_squared_error(Y_test, rfr.predict(X_test)),\n",
    "                                  'MAE': mean_absolute_error(Y_test, rfr.predict(X_test)),\n",
    "                                  'RSQ': r2_score(Y_test, rfr.predict(X_test))},\n",
    "           'GradientBoost': {'MSE': mean_squared_error(Y_test, gbr.predict(X_test)),\n",
    "                                  'MAE': mean_absolute_error(Y_test, gbr.predict(X_test)),\n",
    "                                  'RSQ': r2_score(Y_test, gbr.predict(X_test))}}\n",
    "\n",
    "pd.DataFrame(metrics).transpose()"
   ],
   "metadata": {
    "collapsed": false,
    "ExecuteTime": {
     "end_time": "2023-07-06T14:56:09.108422300Z",
     "start_time": "2023-07-06T14:56:09.065096Z"
    }
   }
  },
  {
   "cell_type": "markdown",
   "source": [
    "## Create Score Tables"
   ],
   "metadata": {
    "collapsed": false
   }
  },
  {
   "cell_type": "code",
   "execution_count": 75,
   "outputs": [
    {
     "data": {
      "text/plain": "  raceethnicity\n0       group_D\n1       group_D\n2       group_E\n3       group_D\n4       group_E",
      "text/html": "<div>\n<style scoped>\n    .dataframe tbody tr th:only-of-type {\n        vertical-align: middle;\n    }\n\n    .dataframe tbody tr th {\n        vertical-align: top;\n    }\n\n    .dataframe thead th {\n        text-align: right;\n    }\n</style>\n<table border=\"1\" class=\"dataframe\">\n  <thead>\n    <tr style=\"text-align: right;\">\n      <th></th>\n      <th>raceethnicity</th>\n    </tr>\n  </thead>\n  <tbody>\n    <tr>\n      <th>0</th>\n      <td>group_D</td>\n    </tr>\n    <tr>\n      <th>1</th>\n      <td>group_D</td>\n    </tr>\n    <tr>\n      <th>2</th>\n      <td>group_E</td>\n    </tr>\n    <tr>\n      <th>3</th>\n      <td>group_D</td>\n    </tr>\n    <tr>\n      <th>4</th>\n      <td>group_E</td>\n    </tr>\n  </tbody>\n</table>\n</div>"
     },
     "execution_count": 75,
     "metadata": {},
     "output_type": "execute_result"
    }
   ],
   "source": [
    "# reconstructing race/ethnicity variable\n",
    "race = pd.from_dummies(X_test[['raceethnicity_group_A', 'raceethnicity_group_B', 'raceethnicity_group_C', 'raceethnicity_group_D']], sep='_', default_category={\"raceethnicity\": \"group_E\"})\n",
    "race.head()"
   ],
   "metadata": {
    "collapsed": false,
    "ExecuteTime": {
     "end_time": "2023-06-30T13:57:58.664325300Z",
     "start_time": "2023-06-30T13:57:58.633046700Z"
    }
   }
  },
  {
   "cell_type": "code",
   "execution_count": 76,
   "outputs": [
    {
     "data": {
      "text/plain": "83      male\n53      male\n70    female\n45      male\n44    female\n39      male\n22      male\n80    female\n10      male\n0       male\n18      male\n30      male\n73    female\n33    female\n90      male\n4       male\n76    female\n77      male\n12      male\n31    female\n55    female\n88    female\n26    female\n42      male\n69    female\n15      male\n40      male\n96      male\n9       male\n72    female\nName: gender_male, dtype: object"
     },
     "execution_count": 76,
     "metadata": {},
     "output_type": "execute_result"
    }
   ],
   "source": [
    "# recreating gender variable\n",
    "gender = X_test['gender_male'].apply(lambda x: 'male' if x else 'female')\n",
    "gender"
   ],
   "metadata": {
    "collapsed": false,
    "ExecuteTime": {
     "end_time": "2023-06-30T13:57:58.947346900Z",
     "start_time": "2023-06-30T13:57:58.931272400Z"
    }
   }
  },
  {
   "cell_type": "code",
   "execution_count": 77,
   "outputs": [],
   "source": [
    "def build_score_table(model):\n",
    "    score_data = {'Predicted_Composite_Score': model.predict(X_test),\n",
    "                  'Composite_Score': Y_test.to_numpy(),\n",
    "                  'Race': race.to_numpy()[:,0],\n",
    "                  'Gender': gender}\n",
    "    data = pd.DataFrame(score_data)\n",
    "    return data"
   ],
   "metadata": {
    "collapsed": false,
    "ExecuteTime": {
     "end_time": "2023-06-30T13:57:59.421076700Z",
     "start_time": "2023-06-30T13:57:59.416874700Z"
    }
   }
  },
  {
   "cell_type": "code",
   "execution_count": 78,
   "outputs": [],
   "source": [
    "score_tables = {\"LinearRegression\": build_score_table(lr),\n",
    "                \"RandomForest\": build_score_table(rfr),\n",
    "                \"GradientBoost\": build_score_table(gbr)}"
   ],
   "metadata": {
    "collapsed": false,
    "ExecuteTime": {
     "end_time": "2023-06-30T13:57:59.965238800Z",
     "start_time": "2023-06-30T13:57:59.948474200Z"
    }
   }
  },
  {
   "cell_type": "code",
   "execution_count": 79,
   "outputs": [
    {
     "name": "stdout",
     "output_type": "stream",
     "text": [
      "LinearRegression \n",
      "     Predicted_Composite_Score  Composite_Score     Race  Gender\n",
      "83                 203.164794              199  group_D    male\n",
      "53                 206.754746              264  group_D    male\n",
      "70                 191.327416              163  group_E  female\n",
      "45                 178.560747              160  group_D    male\n",
      "44                 211.251022              193  group_E  female\n",
      "RandomForest \n",
      "     Predicted_Composite_Score  Composite_Score     Race  Gender\n",
      "83                 201.582417              199  group_D    male\n",
      "53                 240.742000              264  group_D    male\n",
      "70                 199.406667              163  group_E  female\n",
      "45                 143.170667              160  group_D    male\n",
      "44                 186.840000              193  group_E  female\n",
      "GradientBoost \n",
      "     Predicted_Composite_Score  Composite_Score     Race  Gender\n",
      "83                 223.756650              199  group_D    male\n",
      "53                 232.962790              264  group_D    male\n",
      "70                 192.686348              163  group_E  female\n",
      "45                 146.394089              160  group_D    male\n",
      "44                 187.665352              193  group_E  female\n"
     ]
    }
   ],
   "source": [
    "for k,v in score_tables.items():\n",
    "    print(f'{k} \\n {v.head()}')"
   ],
   "metadata": {
    "collapsed": false,
    "ExecuteTime": {
     "end_time": "2023-06-30T13:58:00.477591800Z",
     "start_time": "2023-06-30T13:58:00.446290300Z"
    }
   }
  },
  {
   "cell_type": "markdown",
   "source": [
    "## Get File Properties"
   ],
   "metadata": {
    "collapsed": false
   }
  },
  {
   "cell_type": "code",
   "execution_count": 80,
   "outputs": [],
   "source": [
    "# setting up environment\n",
    "hostname = ''\n",
    "username = ''\n",
    "password = ''\n",
    "\n",
    "sess = Session(hostname, username, password, protocol='http')"
   ],
   "metadata": {
    "collapsed": false,
    "ExecuteTime": {
     "end_time": "2023-06-30T13:58:01.679644800Z",
     "start_time": "2023-06-30T13:58:01.445842100Z"
    }
   }
  },
  {
   "cell_type": "code",
   "execution_count": 81,
   "outputs": [],
   "source": [
    "# Model names within SAS Model Manager\n",
    "model_prefix = [\"LinearRegression\", \"RandomForest\", \"GradientBoost\"]\n",
    "# Directory location for the model files\n",
    "zip_folder = [Path.cwd() / \"data/BiasMetrics/examModels/LinearRegression/\",\n",
    "             Path.cwd() / \"data/BiasMetrics/examModels/RandomForest/\",\n",
    "             Path.cwd() / \"data/BiasMetrics/examModels/GradientBoost\"] # Changes required by user\n",
    "model = [lr, rfr, gbr]\n",
    "# Output variables expected in SAS Model Manager. If a classification value is expected to be output, it should be the first metric.\n",
    "score_metrics = [\"EM_PREDICTION\"]"
   ],
   "metadata": {
    "collapsed": false,
    "ExecuteTime": {
     "end_time": "2023-06-30T13:58:01.993199Z",
     "start_time": "2023-06-30T13:58:01.971346100Z"
    }
   }
  },
  {
   "cell_type": "code",
   "execution_count": 82,
   "outputs": [
    {
     "name": "stdout",
     "output_type": "stream",
     "text": [
      "before formatting: Predicted_Composite_Score    float64\n",
      "Composite_Score                int64\n",
      "Race                          object\n",
      "Gender                        object\n",
      "dtype: object\n",
      "after formatting: Predicted_Composite_Score    float64\n",
      "Composite_Score                int64\n",
      "Race                          object\n",
      "Gender                        object\n",
      "dtype: object\n",
      "maxDifferences.json was successfully written and saved to C:\\Users\\elmcfa\\PycharmProjects\\python-sasctl\\examples\\data\\BiasMetrics\\examModels\\LinearRegression\\maxDifferences.json\n",
      "groupMetrics.json was successfully written and saved to C:\\Users\\elmcfa\\PycharmProjects\\python-sasctl\\examples\\data\\BiasMetrics\\examModels\\LinearRegression\\groupMetrics.json\n",
      "before formatting: Predicted_Composite_Score    float64\n",
      "Composite_Score                int64\n",
      "Race                          object\n",
      "Gender                        object\n",
      "dtype: object\n",
      "after formatting: Predicted_Composite_Score    float64\n",
      "Composite_Score                int64\n",
      "Race                          object\n",
      "Gender                        object\n",
      "dtype: object\n",
      "maxDifferences.json was successfully written and saved to C:\\Users\\elmcfa\\PycharmProjects\\python-sasctl\\examples\\data\\BiasMetrics\\examModels\\RandomForest\\maxDifferences.json\n",
      "groupMetrics.json was successfully written and saved to C:\\Users\\elmcfa\\PycharmProjects\\python-sasctl\\examples\\data\\BiasMetrics\\examModels\\RandomForest\\groupMetrics.json\n",
      "before formatting: Predicted_Composite_Score    float64\n",
      "Composite_Score                int64\n",
      "Race                          object\n",
      "Gender                        object\n",
      "dtype: object\n",
      "after formatting: Predicted_Composite_Score    float64\n",
      "Composite_Score                int64\n",
      "Race                          object\n",
      "Gender                        object\n",
      "dtype: object\n",
      "maxDifferences.json was successfully written and saved to C:\\Users\\elmcfa\\PycharmProjects\\python-sasctl\\examples\\data\\BiasMetrics\\examModels\\GradientBoost\\maxDifferences.json\n",
      "groupMetrics.json was successfully written and saved to C:\\Users\\elmcfa\\PycharmProjects\\python-sasctl\\examples\\data\\BiasMetrics\\examModels\\GradientBoost\\groupMetrics.json\n"
     ]
    }
   ],
   "source": [
    "for (model, path) in zip(model_prefix, zip_folder):\n",
    "    pzmm.JSONFiles.assess_model_bias(\n",
    "        score_table=score_tables[model],\n",
    "        actual_values='Composite_Score',\n",
    "        sensitive_values=['Race', 'Gender'],\n",
    "        pred_values='Predicted_Composite_Score',\n",
    "        json_path=path\n",
    "    )"
   ],
   "metadata": {
    "collapsed": false,
    "ExecuteTime": {
     "end_time": "2023-06-30T13:58:17.028335100Z",
     "start_time": "2023-06-30T13:58:02.534152300Z"
    }
   }
  }
 ],
 "metadata": {
  "kernelspec": {
   "display_name": "Python 3",
   "language": "python",
   "name": "python3"
  },
  "language_info": {
   "codemirror_mode": {
    "name": "ipython",
    "version": 2
   },
   "file_extension": ".py",
   "mimetype": "text/x-python",
   "name": "python",
   "nbconvert_exporter": "python",
   "pygments_lexer": "ipython2",
   "version": "2.7.6"
  }
 },
 "nbformat": 4,
 "nbformat_minor": 0
}
