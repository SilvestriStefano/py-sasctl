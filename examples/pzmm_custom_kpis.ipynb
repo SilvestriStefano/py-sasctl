{
 "cells": [
  {
   "cell_type": "markdown",
   "metadata": {},
   "source": [
    "# Integrating Key Performance Indicators and Hyperparameters Into Model Manager\n",
    "SAS Model Manager generates certain Key Performance Indicators (KPIs) automatically based on user created performance definitions. However, we may want to include other KPIs to measure model parameters not tracked by MM.\n",
    "\n",
    "This can be done by performing local tests on models we've passed to SAS Model Manager, then passing up the resulting values as custom KPI values.\n",
    "\n",
    "For certain Python models, python-sasctl will also generate a json file containing the hyperparameters of the model, making them easily accessible for future use."
   ]
  },
  {
   "cell_type": "markdown",
   "metadata": {},
   "source": [
    "### Python Package Imports"
   ]
  },
  {
   "cell_type": "code",
   "execution_count": 1,
   "metadata": {},
   "outputs": [],
   "source": [
    "# Standard Library\n",
    "from pathlib import Path\n",
    "import warnings\n",
    "\n",
    "# Third Party\n",
    "import pandas as pd\n",
    "from sklearn.model_selection import train_test_split\n",
    "from sklearn.tree import DecisionTreeClassifier\n",
    "\n",
    "# Application Specific\n",
    "import sasctl.pzmm as pzmm\n",
    "from sasctl import Session\n",
    "from sasctl.pzmm.model_parameters import ModelParameters as mp\n",
    "\n",
    "# Global Package Options\n",
    "pd.options.mode.chained_assignment = None  # default=\"warn\"\n",
    "warnings.simplefilter(action=\"ignore\", category=FutureWarning)"
   ]
  },
  {
   "cell_type": "markdown",
   "metadata": {},
   "source": [
    "### Building the Model\n",
    "For more information on building models for SAS Model Manager, please reference the [binary classification model](/pzmm_binary_classification_model_import.ipynb), [regression model](/pzmm_regression_model_import.ipynb), and [multiclass classification model](/pzmm_multi_classification_model_import.ipynb) notebooks."
   ]
  },
  {
   "cell_type": "code",
   "execution_count": 2,
   "metadata": {},
   "outputs": [],
   "source": [
    "hmeq_data = pd.read_csv(\"data/hmeq.csv\", sep=\",\")"
   ]
  },
  {
   "cell_type": "code",
   "execution_count": 3,
   "metadata": {},
   "outputs": [],
   "source": [
    "predictorColumns = [\"LOAN\", \"MORTDUE\", \"VALUE\", \"YOJ\", \"DEROG\", \"DELINQ\", \"CLAGE\", \"NINQ\", \"CLNO\", \"DEBTINC\"]\n",
    "\n",
    "target_column = \"BAD\"\n",
    "x = hmeq_data[predictorColumns]\n",
    "y = hmeq_data[target_column]\n",
    "\n",
    "x_train, x_test, y_train, y_test = train_test_split(x, y, test_size=0.3, random_state=42)\n",
    "\n",
    "x_test.fillna(x_test.mean(), inplace=True)\n",
    "x_train.fillna(x_train.mean(), inplace=True)"
   ]
  },
  {
   "cell_type": "code",
   "execution_count": 4,
   "metadata": {},
   "outputs": [],
   "source": [
    "tree_model = DecisionTreeClassifier(random_state=42)\n",
    "tree_model = tree_model.fit(x_train, y_train)"
   ]
  },
  {
   "cell_type": "code",
   "execution_count": 5,
   "metadata": {},
   "outputs": [],
   "source": [
    "y_tree_predict = tree_model.predict(x_test)\n",
    "y_tree_proba = tree_model.predict_proba(x_test)"
   ]
  },
  {
   "cell_type": "code",
   "execution_count": 13,
   "metadata": {},
   "outputs": [
    {
     "name": "stdout",
     "output_type": "stream",
     "text": [
      "Model DTC_KPIsV1 was successfully pickled and saved to C:\\Users\\sclind\\Documents\\Python Scripts\\GitHub\\sassoftware\\python-sasctl\\examples\\data\\hmeqModels\\DTC_KPIs\\DTC_KPIsV1.pickle.\n"
     ]
    }
   ],
   "source": [
    "path = Path.cwd() / \"data/hmeqModels/DTC_KPIs/\"\n",
    "prefix = \"DTC_KPIsV1\"\n",
    "score_metrics = [\"EM_CLASSIFICATION\", \"EM_EVENTPROBABILITY\"]\n",
    "pzmm.PickleModel.pickle_trained_model(tree_model, prefix, path)"
   ]
  },
  {
   "cell_type": "code",
   "execution_count": 14,
   "metadata": {},
   "outputs": [
    {
     "name": "stdout",
     "output_type": "stream",
     "text": [
      "inputVar.json was successfully written and saved to C:\\Users\\sclind\\Documents\\Python Scripts\\GitHub\\sassoftware\\python-sasctl\\examples\\data\\hmeqModels\\DTC_KPIs\\inputVar.json\n",
      "outputVar.json was successfully written and saved to C:\\Users\\sclind\\Documents\\Python Scripts\\GitHub\\sassoftware\\python-sasctl\\examples\\data\\hmeqModels\\DTC_KPIs\\outputVar.json\n",
      "ModelProperties.json was successfully written and saved to C:\\Users\\sclind\\Documents\\Python Scripts\\GitHub\\sassoftware\\python-sasctl\\examples\\data\\hmeqModels\\DTC_KPIs\\ModelProperties.json\n",
      "fileMetadata.json was successfully written and saved to C:\\Users\\sclind\\Documents\\Python Scripts\\GitHub\\sassoftware\\python-sasctl\\examples\\data\\hmeqModels\\DTC_KPIs\\fileMetadata.json\n"
     ]
    }
   ],
   "source": [
    "pzmm.JSONFiles.write_var_json(hmeq_data[predictorColumns], is_input=True, json_path=path)\n",
    "\n",
    "output_var = pd.DataFrame(columns=score_metrics, data=[[\"A\", 0.5]])\n",
    "pzmm.JSONFiles.write_var_json(output_var, is_input=False, json_path=path)\n",
    "\n",
    "pzmm.JSONFiles.write_model_properties_json(\n",
    "    model_name=prefix,\n",
    "    model_desc=f\"Description for the {prefix} model.\",\n",
    "    target_variable=target_column,\n",
    "    model_algorithm=\"Decision tree\",\n",
    "    model_function=\"Classification\",\n",
    "    target_values=[\"1\", \"0\"],\n",
    "    json_path=path,\n",
    "    modeler=\"sasdemo\"\n",
    ")\n",
    "\n",
    "pzmm.JSONFiles.write_file_metadata_json(model_prefix=prefix, json_path=path)"
   ]
  },
  {
   "cell_type": "code",
   "execution_count": 15,
   "metadata": {},
   "outputs": [
    {
     "name": "stdout",
     "output_type": "stream",
     "text": [
      "dmcas_fitstat.json was successfully written and saved to C:\\Users\\sclind\\Documents\\Python Scripts\\GitHub\\sassoftware\\python-sasctl\\examples\\data\\hmeqModels\\DTC_KPIs\\dmcas_fitstat.json\n",
      "dmcas_roc.json was successfully written and saved to C:\\Users\\sclind\\Documents\\Python Scripts\\GitHub\\sassoftware\\python-sasctl\\examples\\data\\hmeqModels\\DTC_KPIs\\dmcas_roc.json\n",
      "dmcas_lift.json was successfully written and saved to C:\\Users\\sclind\\Documents\\Python Scripts\\GitHub\\sassoftware\\python-sasctl\\examples\\data\\hmeqModels\\DTC_KPIs\\dmcas_lift.json\n"
     ]
    }
   ],
   "source": [
    "import getpass\n",
    "\n",
    "username = \"edmdev\"#getpass.getpass()\n",
    "password = \"Go4thsas\"#getpass.getpass()\n",
    "host = \"base.ingress-nginx.wenbao-rc1-m1.modelmanager.sashq-d.openstack.sas.com\"#\"demo.sas.com\"\n",
    "\n",
    "sess = Session(host, username, password, protocol=\"http\")\n",
    "\n",
    "train_proba = tree_model.predict_proba(x_train)\n",
    "\n",
    "train_data = pd.concat([y_train.reset_index(drop=True), pd.Series(data=train_proba[:, 1])], axis=1)\n",
    "test_data = pd.concat([y_test.reset_index(drop=True), pd.Series(data=y_tree_proba[:, 1])], axis=1)\n",
    "\n",
    "pzmm.JSONFiles.calculate_model_statistics(\n",
    "    target_value=1, \n",
    "    train_data=train_data, \n",
    "    test_data=test_data, \n",
    "    json_path=path\n",
    ")"
   ]
  },
  {
   "cell_type": "code",
   "execution_count": 16,
   "metadata": {},
   "outputs": [
    {
     "name": "stdout",
     "output_type": "stream",
     "text": [
      "Model score code was written successfully to C:\\Users\\sclind\\Documents\\Python Scripts\\GitHub\\sassoftware\\python-sasctl\\examples\\data\\hmeqModels\\DTC_KPIs\\score_DTC_KPIsV1.py and uploaded to SAS Model Manager.\n",
      "All model files were zipped to C:\\Users\\sclind\\Documents\\Python Scripts\\GitHub\\sassoftware\\python-sasctl\\examples\\data\\hmeqModels\\DTC_KPIs.\n"
     ]
    },
    {
     "name": "stderr",
     "output_type": "stream",
     "text": [
      "C:\\Users\\sclind\\.conda\\envs\\dev-py38\\lib\\site-packages\\sasctl\\pzmm\\write_score_code.py:1060: UserWarning: Due to the ambiguity of the provided metrics and prediction return types, the score code assumes that a classification and the target event probability should be returned.\n",
      "  warn(\n"
     ]
    },
    {
     "name": "stdout",
     "output_type": "stream",
     "text": [
      "Model was successfully imported into SAS Model Manager as DTC_KPIsV1 with the following UUID: 615e4328-6341-415e-97c9-654f6d3e2baa.\n"
     ]
    }
   ],
   "source": [
    "model = pzmm.ImportModel.import_model(\n",
    "    model_files=path, \n",
    "    model_prefix=prefix, \n",
    "    project=\"HMEQ_CustomKPIsV3\", \n",
    "    input_data=x, \n",
    "    predict_method= [tree_model.predict_proba, [int, int]], \n",
    "    score_metrics=score_metrics, \n",
    "    target_values=[\"1\", \"0\"],\n",
    "    model_file_name=prefix + \".pickle\",\n",
    "    missing_values=True,\n",
    "    overwrite_model=True\n",
    ")"
   ]
  },
  {
   "cell_type": "markdown",
   "metadata": {},
   "source": [
    "### Updating Model and Project Properties\n",
    "In order to allow for performance definitions to be run in SAS Model Manager, certain properties need to be set for both the model and the project."
   ]
  },
  {
   "cell_type": "code",
   "execution_count": 17,
   "metadata": {},
   "outputs": [],
   "source": [
    "from sasctl._services.model_repository import ModelRepository as mr\n",
    "\n",
    "model = mr.get_model(model[0].id)\n",
    "\n",
    "model[\"targetEvent\"] = \"1\"\n",
    "model[\"targetVariable\"] = \"BAD\"\n",
    "model[\"function\"] = \"Classification\"\n",
    "model[\"targetLevel\"] = \"Binary\"\n",
    "model[\"eventProbVar\"] = \"EM_EVENTPROBABILITY\"\n",
    "\n",
    "model = mr.update_model(model)"
   ]
  },
  {
   "cell_type": "code",
   "execution_count": 18,
   "metadata": {},
   "outputs": [],
   "source": [
    "project = mr.get_project(model.projectName)\n",
    "\n",
    "variables = model[\"inputVariables\"] + model[\"outputVariables\"]\n",
    "\n",
    "project[\"targetVariable\"] = \"BAD\"\n",
    "project[\"variables\"] = variables\n",
    "project[\"targetLevel\"] = \"Binary\"\n",
    "project[\"targetEventValue\"] = \"1\"\n",
    "project[\"classTargetValues\"] = \".5\"\n",
    "project[\"function\"] = \"Classification\"\n",
    "project[\"eventProbabilityVariable\"] = \"EM_EVENTPROBABILITY\"\n",
    "\n",
    "project = mr.update_project(project)"
   ]
  },
  {
   "cell_type": "markdown",
   "metadata": {},
   "source": [
    "### Hyperparameter Generation\n",
    "If the hyperparameter json file is not generated automatically, this code block will generate it and add it to SAS Model Manager."
   ]
  },
  {
   "cell_type": "code",
   "execution_count": 19,
   "metadata": {},
   "outputs": [],
   "source": [
    "mp.generate_hyperparameters(tree_model, prefix, path)\n",
    "\n",
    "with open(path / f\"{prefix}Hyperparameters.json\", \"r\") as f:\n",
    "    mr.add_model_content(model, f, f\"{prefix}Hyperparameters.json\")"
   ]
  },
  {
   "cell_type": "markdown",
   "metadata": {},
   "source": [
    "Once the model has been uploaded to SAS Model Manager, custom hyperparameters can be added to the hyperparameter json file using the `add_hyperparamters` function. The custom hyperparameters are passed in as kwargs."
   ]
  },
  {
   "cell_type": "code",
   "execution_count": 20,
   "metadata": {},
   "outputs": [],
   "source": [
    "mp.add_hyperparameters(model, example=1)"
   ]
  },
  {
   "cell_type": "code",
   "execution_count": 27,
   "metadata": {},
   "outputs": [
    {
     "name": "stderr",
     "output_type": "stream",
     "text": [
      "C:\\Users\\sclind\\.conda\\envs\\dev-py38\\lib\\site-packages\\sasctl\\pzmm\\model_parameters.py:252: DeprecationWarning: distutils Version classes are deprecated. Use packaging.version instead.\n",
      "  if pd.__version__ >= StrictVersion(\"1.0.3\"):\n"
     ]
    },
    {
     "ename": "AttributeError",
     "evalue": "'RestObj' object has no attribute 'json'",
     "output_type": "error",
     "traceback": [
      "\u001b[1;31m---------------------------------------------------------------------------\u001b[0m",
      "\u001b[1;31mAttributeError\u001b[0m                            Traceback (most recent call last)",
      "Cell \u001b[1;32mIn[27], line 1\u001b[0m\n\u001b[1;32m----> 1\u001b[0m \u001b[43mmp\u001b[49m\u001b[38;5;241;43m.\u001b[39;49m\u001b[43mupdate_kpis\u001b[49m\u001b[43m(\u001b[49m\u001b[43mproject\u001b[49m\u001b[38;5;241;43m=\u001b[39;49m\u001b[43mproject\u001b[49m\u001b[43m)\u001b[49m\n",
      "File \u001b[1;32m~\\.conda\\envs\\dev-py38\\lib\\site-packages\\sasctl\\pzmm\\model_parameters.py:150\u001b[0m, in \u001b[0;36mModelParameters.update_kpis\u001b[1;34m(cls, project, server, caslib)\u001b[0m\n\u001b[0;32m    148\u001b[0m     \u001b[38;5;28mprint\u001b[39m(\u001b[38;5;124mf\u001b[39m\u001b[38;5;124m'\u001b[39m\u001b[38;5;124mNo hyperparameter file for current model \u001b[39m\u001b[38;5;132;01m{\u001b[39;00mmodel_name\u001b[38;5;132;01m}\u001b[39;00m\u001b[38;5;124m. Attempting for next model...\u001b[39m\u001b[38;5;124m'\u001b[39m)\n\u001b[0;32m    149\u001b[0m \u001b[38;5;28;01melse\u001b[39;00m:\n\u001b[1;32m--> 150\u001b[0m     updated_json \u001b[38;5;241m=\u001b[39m \u001b[38;5;28mcls\u001b[39m\u001b[38;5;241m.\u001b[39m_update_json(model, \u001b[43mcurrent_params\u001b[49m\u001b[38;5;241;43m.\u001b[39;49m\u001b[43mjson\u001b[49m(), kpis)\n\u001b[0;32m    151\u001b[0m     mr\u001b[38;5;241m.\u001b[39madd_model_content(model, json\u001b[38;5;241m.\u001b[39mdumps(updated_json, indent\u001b[38;5;241m=\u001b[39m\u001b[38;5;241m4\u001b[39m), file_name)\n",
      "File \u001b[1;32m~\\.conda\\envs\\dev-py38\\lib\\site-packages\\sasctl\\core.py:199\u001b[0m, in \u001b[0;36mRestObj.__getattr__\u001b[1;34m(self, item)\u001b[0m\n\u001b[0;32m    195\u001b[0m         \u001b[38;5;28;01mreturn\u001b[39;00m RestObj(result)\n\u001b[0;32m    197\u001b[0m     \u001b[38;5;28;01mreturn\u001b[39;00m result\n\u001b[1;32m--> 199\u001b[0m \u001b[38;5;28;01mraise\u001b[39;00m \u001b[38;5;167;01mAttributeError\u001b[39;00m(\n\u001b[0;32m    200\u001b[0m     \u001b[38;5;124m\"\u001b[39m\u001b[38;5;124m'\u001b[39m\u001b[38;5;132;01m%s\u001b[39;00m\u001b[38;5;124m'\u001b[39m\u001b[38;5;124m object has no attribute \u001b[39m\u001b[38;5;124m'\u001b[39m\u001b[38;5;132;01m%s\u001b[39;00m\u001b[38;5;124m'\u001b[39m\u001b[38;5;124m\"\u001b[39m \u001b[38;5;241m%\u001b[39m (\u001b[38;5;28mself\u001b[39m\u001b[38;5;241m.\u001b[39m\u001b[38;5;18m__class__\u001b[39m\u001b[38;5;241m.\u001b[39m\u001b[38;5;18m__name__\u001b[39m, item)\n\u001b[0;32m    201\u001b[0m )\n",
      "\u001b[1;31mAttributeError\u001b[0m: 'RestObj' object has no attribute 'json'"
     ]
    }
   ],
   "source": [
    "mp.update_kpis(project=project)"
   ]
  },
  {
   "cell_type": "markdown",
   "metadata": {
    "tags": []
   },
   "source": [
    "### Performance Definition\n",
    "To create a performance definition, we first have to pass up data for the performance definition to run on. All data used for performance defintions should be named using the following format: \n",
    "\n",
    "{Table Prefix}\\_{Time}\\_{Time Label}"
   ]
  },
  {
   "cell_type": "code",
   "execution_count": 23,
   "metadata": {},
   "outputs": [
    {
     "name": "stdout",
     "output_type": "stream",
     "text": [
      "Unexpected exception formatting exception. Falling back to standard exception\n"
     ]
    },
    {
     "name": "stderr",
     "output_type": "stream",
     "text": [
      "Traceback (most recent call last):\n",
      "  File \"C:\\Users\\sclind\\.conda\\envs\\dev-py38\\lib\\site-packages\\IPython\\core\\interactiveshell.py\", line 3433, in run_code\n",
      "    exec(code_obj, self.user_global_ns, self.user_ns)\n",
      "  File \"<ipython-input-23-5f03f39f6a35>\", line 4, in <module>\n",
      "    cas.upload_file(\n",
      "  File \"C:\\Users\\sclind\\.conda\\envs\\dev-py38\\lib\\site-packages\\sasctl\\_services\\cas_management.py\", line 433, in upload_file\n",
      "    tbl = cls.post(\n",
      "  File \"C:\\Users\\sclind\\.conda\\envs\\dev-py38\\lib\\site-packages\\sasctl\\_services\\service.py\", line 113, in post\n",
      "    return cls.request(\"post\", *args, **kwargs)\n",
      "  File \"C:\\Users\\sclind\\.conda\\envs\\dev-py38\\lib\\site-packages\\sasctl\\_services\\service.py\", line 93, in request\n",
      "    return core.request(verb, path, session, format_, **kwargs)\n",
      "  File \"C:\\Users\\sclind\\.conda\\envs\\dev-py38\\lib\\site-packages\\sasctl\\core.py\", line 2033, in request\n",
      "    raise HTTPError(\n",
      "urllib.error.HTTPError: HTTP Error 409: {\"version\":2,\"httpStatusCode\":409,\"errorCode\":12226,\"message\":\"The action was not successful.\",\"details\":[\"2-0-2710093: 0x887ff85d:TKCASTAB_LOADTABLE_EXISTS\",\"ERROR: The table HMEQPERF_1_Q1 already exists in caslib Public.\",\"ERROR: The action stopped due to errors.\",\"path: /casManagement/servers/cas-shared-default/caslibs/Public/tables\",\"correlator: f45100a0-d92a-4db4-a221-a4dbb089fb41\"]}\n",
      "\n",
      "During handling of the above exception, another exception occurred:\n",
      "\n",
      "Traceback (most recent call last):\n",
      "  File \"C:\\Users\\sclind\\.conda\\envs\\dev-py38\\lib\\site-packages\\IPython\\core\\interactiveshell.py\", line 2049, in showtraceback\n",
      "    if hasattr(value, \"_render_traceback_\"):\n",
      "  File \"C:\\Users\\sclind\\.conda\\envs\\dev-py38\\lib\\tempfile.py\", line 467, in __getattr__\n",
      "    file = self.__dict__['file']\n",
      "KeyError: 'file'\n"
     ]
    }
   ],
   "source": [
    "from sasctl._services.cas_management import CASManagement as cas\n",
    "\n",
    "for x in range(1, 5):\n",
    "    cas.upload_file(\n",
    "        file=f\"data/HMEQPERF_{x}_Q{x}.csv\", \n",
    "        name=f\"HMEQPERF_{x}_Q{x}\")\n",
    "    print(x)"
   ]
  },
  {
   "cell_type": "markdown",
   "metadata": {},
   "source": [
    "After pushing up the data, the performance definition can be created. When the performance definition is run, the KPIs are generated within Model Manager."
   ]
  },
  {
   "cell_type": "code",
   "execution_count": 24,
   "metadata": {},
   "outputs": [],
   "source": [
    "from sasctl._services.model_management import ModelManagement as mm\n",
    "\n",
    "performance_task = mm.create_performance_definition(table_prefix=\"hmeqperf\", project=project, scoring_required=True)"
   ]
  },
  {
   "cell_type": "code",
   "execution_count": 25,
   "metadata": {},
   "outputs": [],
   "source": [
    "performance_definition = mm.list_performance_definitions(filter=f\"eq(projectId,\\\"{project.id}\\\")\")\n",
    "\n",
    "performance_job = mm.execute_performance_definition(performance_definition[0].id)"
   ]
  },
  {
   "cell_type": "markdown",
   "metadata": {},
   "source": [
    "Once the performance defintion is run, it is possible to update the hyperparameter json file to include the KPIs that have been generated. This is not a necessary step, but could be helpful when analyzing which hyperparameters lead to better KPIs."
   ]
  },
  {
   "cell_type": "code",
   "execution_count": 26,
   "metadata": {},
   "outputs": [
    {
     "name": "stderr",
     "output_type": "stream",
     "text": [
      "C:\\Users\\sclind\\.conda\\envs\\dev-py38\\lib\\site-packages\\sasctl\\pzmm\\model_parameters.py:252: DeprecationWarning: distutils Version classes are deprecated. Use packaging.version instead.\n",
      "  if pd.__version__ >= StrictVersion(\"1.0.3\"):\n"
     ]
    },
    {
     "ename": "SystemError",
     "evalue": "No KPI table exists for project HMEQ_CustomKPIsV3. Please confirm that the performance definition completed or custom KPIs have been uploaded successfully.",
     "output_type": "error",
     "traceback": [
      "\u001b[1;31m---------------------------------------------------------------------------\u001b[0m",
      "\u001b[1;31mSystemError\u001b[0m                               Traceback (most recent call last)",
      "Cell \u001b[1;32mIn[26], line 1\u001b[0m\n\u001b[1;32m----> 1\u001b[0m \u001b[43mmp\u001b[49m\u001b[38;5;241;43m.\u001b[39;49m\u001b[43mupdate_kpis\u001b[49m\u001b[43m(\u001b[49m\u001b[43mproject\u001b[49m\u001b[43m)\u001b[49m\n",
      "File \u001b[1;32m~\\.conda\\envs\\dev-py38\\lib\\site-packages\\sasctl\\pzmm\\model_parameters.py:140\u001b[0m, in \u001b[0;36mModelParameters.update_kpis\u001b[1;34m(cls, project, server, caslib)\u001b[0m\n\u001b[0;32m    116\u001b[0m \u001b[38;5;129m@classmethod\u001b[39m\n\u001b[0;32m    117\u001b[0m \u001b[38;5;28;01mdef\u001b[39;00m \u001b[38;5;21mupdate_kpis\u001b[39m(\n\u001b[0;32m    118\u001b[0m     \u001b[38;5;28mcls\u001b[39m,\n\u001b[1;32m   (...)\u001b[0m\n\u001b[0;32m    121\u001b[0m     caslib: Optional[\u001b[38;5;28mstr\u001b[39m] \u001b[38;5;241m=\u001b[39m \u001b[38;5;124m\"\u001b[39m\u001b[38;5;124mModelPerformanceData\u001b[39m\u001b[38;5;124m\"\u001b[39m,\n\u001b[0;32m    122\u001b[0m ) \u001b[38;5;241m-\u001b[39m\u001b[38;5;241m>\u001b[39m \u001b[38;5;28;01mNone\u001b[39;00m:\n\u001b[0;32m    123\u001b[0m \u001b[38;5;250m    \u001b[39m\u001b[38;5;124;03m\"\"\"\u001b[39;00m\n\u001b[0;32m    124\u001b[0m \u001b[38;5;124;03m    Updates hyperparameter file to include KPIs generated by performance\u001b[39;00m\n\u001b[0;32m    125\u001b[0m \u001b[38;5;124;03m    definitions, as well as any custom KPIs imported by user to the SAS KPI data\u001b[39;00m\n\u001b[1;32m   (...)\u001b[0m\n\u001b[0;32m    138\u001b[0m \u001b[38;5;124;03m        \"ModelPerformanceData\".\u001b[39;00m\n\u001b[0;32m    139\u001b[0m \u001b[38;5;124;03m    \"\"\"\u001b[39;00m\n\u001b[1;32m--> 140\u001b[0m     kpis \u001b[38;5;241m=\u001b[39m \u001b[38;5;28;43mcls\u001b[39;49m\u001b[38;5;241;43m.\u001b[39;49m\u001b[43mget_project_kpis\u001b[49m\u001b[43m(\u001b[49m\u001b[43mproject\u001b[49m\u001b[43m,\u001b[49m\u001b[43m \u001b[49m\u001b[43mserver\u001b[49m\u001b[43m,\u001b[49m\u001b[43m \u001b[49m\u001b[43mcaslib\u001b[49m\u001b[43m)\u001b[49m\n\u001b[0;32m    141\u001b[0m     models_to_update \u001b[38;5;241m=\u001b[39m kpis[\u001b[38;5;124m\"\u001b[39m\u001b[38;5;124mModelUUID\u001b[39m\u001b[38;5;124m\"\u001b[39m]\u001b[38;5;241m.\u001b[39munique()\u001b[38;5;241m.\u001b[39mtolist()\n\u001b[0;32m    143\u001b[0m     \u001b[38;5;28;01mfor\u001b[39;00m model \u001b[38;5;129;01min\u001b[39;00m models_to_update:\n",
      "File \u001b[1;32m~\\.conda\\envs\\dev-py38\\lib\\site-packages\\sasctl\\pzmm\\model_parameters.py:278\u001b[0m, in \u001b[0;36mModelParameters.get_project_kpis\u001b[1;34m(project, server, caslib, filter_column, filter_value)\u001b[0m\n\u001b[0;32m    276\u001b[0m \u001b[38;5;28;01mif\u001b[39;00m \u001b[38;5;129;01mnot\u001b[39;00m kpi_table_columns:\n\u001b[0;32m    277\u001b[0m     project \u001b[38;5;241m=\u001b[39m mr\u001b[38;5;241m.\u001b[39mget_project(project)\n\u001b[1;32m--> 278\u001b[0m     \u001b[38;5;28;01mraise\u001b[39;00m \u001b[38;5;167;01mSystemError\u001b[39;00m(\n\u001b[0;32m    279\u001b[0m         \u001b[38;5;124mf\u001b[39m\u001b[38;5;124m\"\u001b[39m\u001b[38;5;124mNo KPI table exists for project \u001b[39m\u001b[38;5;132;01m{\u001b[39;00mproject\u001b[38;5;241m.\u001b[39mname\u001b[38;5;132;01m}\u001b[39;00m\u001b[38;5;124m.\u001b[39m\u001b[38;5;124m\"\u001b[39m\n\u001b[0;32m    280\u001b[0m         \u001b[38;5;241m+\u001b[39m \u001b[38;5;124m\"\u001b[39m\u001b[38;5;124m Please confirm that the performance definition completed\u001b[39m\u001b[38;5;124m\"\u001b[39m\n\u001b[0;32m    281\u001b[0m         \u001b[38;5;241m+\u001b[39m \u001b[38;5;124m\"\u001b[39m\u001b[38;5;124m or custom KPIs have been uploaded successfully.\u001b[39m\u001b[38;5;124m\"\u001b[39m\n\u001b[0;32m    282\u001b[0m     )\n\u001b[0;32m    283\u001b[0m \u001b[38;5;66;03m# Parse through the json response to create a pandas DataFrame\u001b[39;00m\n\u001b[0;32m    284\u001b[0m cols \u001b[38;5;241m=\u001b[39m json_normalize(kpi_table_columns\u001b[38;5;241m.\u001b[39mjson(), \u001b[38;5;124m\"\u001b[39m\u001b[38;5;124mitems\u001b[39m\u001b[38;5;124m\"\u001b[39m)\n",
      "\u001b[1;31mSystemError\u001b[0m: No KPI table exists for project HMEQ_CustomKPIsV3. Please confirm that the performance definition completed or custom KPIs have been uploaded successfully."
     ]
    }
   ],
   "source": [
    "mp.update_kpis(project)"
   ]
  },
  {
   "cell_type": "markdown",
   "metadata": {},
   "source": [
    "### Custom KPIs\n",
    "It is also possible to generate custom key performance indicators and pass them up to SAS Model Manager. Below, using the same data sets as were used in the SAS performance definition, the recall score is calculated, and then passed up to the KPI table in SAS Model Manager."
   ]
  },
  {
   "cell_type": "code",
   "execution_count": null,
   "metadata": {},
   "outputs": [],
   "source": [
    "from sklearn.metrics import jaccard_score\n",
    "\n",
    "recall_list = list()\n",
    "time_labels = list()\n",
    "time_sks = list()\n",
    "name = [\"jaccard\" for x in range(4)]\n",
    "\n",
    "for x in range(1, 5):\n",
    "    test_data = pd.read_csv(f\"data/HMEQPERF_{x}_Q{x}.csv\")\n",
    "    x_test = test_data[predictorColumns]\n",
    "    y_test = test_data[target_column]\n",
    "    test_data_predictions = tree_model.predict(x_test)\n",
    "    recall = jaccard_score(y_test, test_data_predictions)\n",
    "    recall_list.append(recall)\n",
    "    time_labels.append(f\"Q{x}\")\n",
    "    time_sks.append(x)\n",
    "\n",
    "#TODO: allow option to add multiple of same custom KPI\n",
    "model = mr.get_model(model)\n",
    "mm.create_custom_kpi(\n",
    "    model=model.id,\n",
    "    project=project,\n",
    "    kpiName=name,\n",
    "    kpiValue=recall_list,\n",
    "    timeLabel=time_labels,\n",
    "    timeSK=time_sks\n",
    ")"
   ]
  },
  {
   "cell_type": "markdown",
   "metadata": {},
   "source": [
    "Once the KPIs have been generated, the hyperparameter file can updated, and the new KPIs will appear in the file."
   ]
  },
  {
   "cell_type": "code",
   "execution_count": null,
   "metadata": {},
   "outputs": [],
   "source": [
    "import json\n",
    "\n",
    "mp.update_kpis(\"HMEQModels\")\n",
    "\n",
    "hyperparameters = mp.get_hyperparameters(\"DecisionTreeClassifier\")\n",
    "\n",
    "print(json.dumps(hyperparameters, indent=4))"
   ]
  }
 ],
 "metadata": {
  "kernelspec": {
   "display_name": "dev-py38",
   "language": "python",
   "name": "dev-py38"
  },
  "language_info": {
   "codemirror_mode": {
    "name": "ipython",
    "version": 3
   },
   "file_extension": ".py",
   "mimetype": "text/x-python",
   "name": "python",
   "nbconvert_exporter": "python",
   "pygments_lexer": "ipython3",
   "version": "3.8.16"
  }
 },
 "nbformat": 4,
 "nbformat_minor": 4
}
