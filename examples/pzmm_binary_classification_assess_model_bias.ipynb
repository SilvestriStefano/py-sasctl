{
 "cells": [
  {
   "cell_type": "markdown",
   "source": [
    "Copyright © 2023, SAS Institute Inc., Cary, NC, USA.  All Rights Reserved.\n",
    "SPDX-License-Identifier: Apache-2.0"
   ],
   "metadata": {
    "collapsed": false
   }
  },
  {
   "cell_type": "markdown",
   "source": [
    "# Titanic Dataset : Assess Bias of a Binary Classification Model and Import into Model Manager\n",
    "\n",
    "This notebook provides an example of how to integrate bias assessment in the python model to SAS Model Manager (on either SAS Viya or SAS Viya 4) workflow using the titanic dataset. Lines of code that must be modified by the user, such as directory paths or the host server are noted with the comment \"_Changes required by user._\".\n",
    "\n",
    "_**Note:** If you download only this notebook and not the rest of the repository, you must also download the titanic.csv file from the data folder in the examples directory. These files are used when executing this notebook example._\n",
    "\n",
    "Here are the steps shown in this notebook:\n",
    "\n",
    "1. Import, review, and preprocess data for model training.\n",
    "2. Build, train, and assess a scikit-learn decision tree, random forest, and gradient boosting model.\n",
    "3. Serialize the models into separate pickle files.\n",
    "4. Write the bias assessment JSON files\n",
    "5. Write the metadata JSON files needed for importing into SAS Model Manager as well as optional files for fit statistics and ROC/Lift charts.\n",
    "6. Write a score code Python file for model scoring.\n",
    "7. Zip the pickle, JSON, and score code files into an archive file.\n",
    "8. Import the ZIP archive file to SAS Model Manager via the Session object and relevant function call."
   ],
   "metadata": {
    "collapsed": false
   }
  },
  {
   "cell_type": "markdown",
   "source": [
    "## Import Modules"
   ],
   "metadata": {
    "collapsed": false
   }
  },
  {
   "cell_type": "code",
   "execution_count": 188,
   "outputs": [],
   "source": [
    "from sasctl import Session\n",
    "import sasctl.pzmm as pzmm\n",
    "from sklearn.model_selection import train_test_split\n",
    "from sklearn.ensemble import GradientBoostingClassifier, RandomForestClassifier\n",
    "from sklearn.tree import DecisionTreeClassifier\n",
    "from sklearn.metrics import classification_report, confusion_matrix\n",
    "import pandas as pd\n",
    "from pathlib import Path\n",
    "import seaborn as sns\n",
    "import numpy as np"
   ],
   "metadata": {
    "collapsed": false,
    "ExecuteTime": {
     "end_time": "2023-06-29T17:10:20.950216600Z",
     "start_time": "2023-06-29T17:10:20.938044200Z"
    }
   }
  },
  {
   "cell_type": "markdown",
   "source": [
    "## Load and Pre-process Data"
   ],
   "metadata": {
    "collapsed": false
   }
  },
  {
   "cell_type": "code",
   "execution_count": 151,
   "outputs": [
    {
     "data": {
      "text/plain": "   PassengerId  Survived  Pclass      Lname  \\\n0            1         0       3     Braund   \n1            2         1       1    Cumings   \n2            3         1       3  Heikkinen   \n3            4         1       1   Futrelle   \n4            5         0       3      Allen   \n\n                                          Name     Sex   Age  SibSp  Parch  \\\n0                              Mr. Owen Harris    male  22.0      1      0   \n1   Mrs. John Bradley (Florence Briggs Thayer)  female  38.0      1      0   \n2                                  Miss. Laina  female  26.0      0      0   \n3           Mrs. Jacques Heath (Lily May Peel)  female  35.0      1      0   \n4                            Mr. William Henry    male  35.0      0      0   \n\n             Ticket     Fare Cabin Embarked  \n0         A/5 21171   7.2500   NaN        S  \n1          PC 17599  71.2833   C85        C  \n2  STON/O2. 3101282   7.9250   NaN        S  \n3            113803  53.1000  C123        S  \n4            373450   8.0500   NaN        S  ",
      "text/html": "<div>\n<style scoped>\n    .dataframe tbody tr th:only-of-type {\n        vertical-align: middle;\n    }\n\n    .dataframe tbody tr th {\n        vertical-align: top;\n    }\n\n    .dataframe thead th {\n        text-align: right;\n    }\n</style>\n<table border=\"1\" class=\"dataframe\">\n  <thead>\n    <tr style=\"text-align: right;\">\n      <th></th>\n      <th>PassengerId</th>\n      <th>Survived</th>\n      <th>Pclass</th>\n      <th>Lname</th>\n      <th>Name</th>\n      <th>Sex</th>\n      <th>Age</th>\n      <th>SibSp</th>\n      <th>Parch</th>\n      <th>Ticket</th>\n      <th>Fare</th>\n      <th>Cabin</th>\n      <th>Embarked</th>\n    </tr>\n  </thead>\n  <tbody>\n    <tr>\n      <th>0</th>\n      <td>1</td>\n      <td>0</td>\n      <td>3</td>\n      <td>Braund</td>\n      <td>Mr. Owen Harris</td>\n      <td>male</td>\n      <td>22.0</td>\n      <td>1</td>\n      <td>0</td>\n      <td>A/5 21171</td>\n      <td>7.2500</td>\n      <td>NaN</td>\n      <td>S</td>\n    </tr>\n    <tr>\n      <th>1</th>\n      <td>2</td>\n      <td>1</td>\n      <td>1</td>\n      <td>Cumings</td>\n      <td>Mrs. John Bradley (Florence Briggs Thayer)</td>\n      <td>female</td>\n      <td>38.0</td>\n      <td>1</td>\n      <td>0</td>\n      <td>PC 17599</td>\n      <td>71.2833</td>\n      <td>C85</td>\n      <td>C</td>\n    </tr>\n    <tr>\n      <th>2</th>\n      <td>3</td>\n      <td>1</td>\n      <td>3</td>\n      <td>Heikkinen</td>\n      <td>Miss. Laina</td>\n      <td>female</td>\n      <td>26.0</td>\n      <td>0</td>\n      <td>0</td>\n      <td>STON/O2. 3101282</td>\n      <td>7.9250</td>\n      <td>NaN</td>\n      <td>S</td>\n    </tr>\n    <tr>\n      <th>3</th>\n      <td>4</td>\n      <td>1</td>\n      <td>1</td>\n      <td>Futrelle</td>\n      <td>Mrs. Jacques Heath (Lily May Peel)</td>\n      <td>female</td>\n      <td>35.0</td>\n      <td>1</td>\n      <td>0</td>\n      <td>113803</td>\n      <td>53.1000</td>\n      <td>C123</td>\n      <td>S</td>\n    </tr>\n    <tr>\n      <th>4</th>\n      <td>5</td>\n      <td>0</td>\n      <td>3</td>\n      <td>Allen</td>\n      <td>Mr. William Henry</td>\n      <td>male</td>\n      <td>35.0</td>\n      <td>0</td>\n      <td>0</td>\n      <td>373450</td>\n      <td>8.0500</td>\n      <td>NaN</td>\n      <td>S</td>\n    </tr>\n  </tbody>\n</table>\n</div>"
     },
     "execution_count": 151,
     "metadata": {},
     "output_type": "execute_result"
    }
   ],
   "source": [
    "df_raw = pd.read_csv('data/titanic.csv')\n",
    "df_raw.head()"
   ],
   "metadata": {
    "collapsed": false,
    "ExecuteTime": {
     "end_time": "2023-06-29T15:29:48.730333Z",
     "start_time": "2023-06-29T15:29:48.638215300Z"
    }
   }
  },
  {
   "cell_type": "code",
   "execution_count": 208,
   "outputs": [
    {
     "data": {
      "text/plain": "Sex\nmale      100\nfemale     56\nName: count, dtype: int64"
     },
     "execution_count": 208,
     "metadata": {},
     "output_type": "execute_result"
    }
   ],
   "source": [
    "df_raw['Sex'].value_counts()"
   ],
   "metadata": {
    "collapsed": false,
    "ExecuteTime": {
     "end_time": "2023-06-30T16:28:27.629495700Z",
     "start_time": "2023-06-30T16:28:27.586610300Z"
    }
   }
  },
  {
   "cell_type": "code",
   "execution_count": 209,
   "outputs": [
    {
     "data": {
      "text/plain": "                 proportion\nSex    Survived            \nfemale 1           0.714286\n       0           0.285714\nmale   0           0.860000\n       1           0.140000",
      "text/html": "<div>\n<style scoped>\n    .dataframe tbody tr th:only-of-type {\n        vertical-align: middle;\n    }\n\n    .dataframe tbody tr th {\n        vertical-align: top;\n    }\n\n    .dataframe thead th {\n        text-align: right;\n    }\n</style>\n<table border=\"1\" class=\"dataframe\">\n  <thead>\n    <tr style=\"text-align: right;\">\n      <th></th>\n      <th></th>\n      <th>proportion</th>\n    </tr>\n    <tr>\n      <th>Sex</th>\n      <th>Survived</th>\n      <th></th>\n    </tr>\n  </thead>\n  <tbody>\n    <tr>\n      <th rowspan=\"2\" valign=\"top\">female</th>\n      <th>1</th>\n      <td>0.714286</td>\n    </tr>\n    <tr>\n      <th>0</th>\n      <td>0.285714</td>\n    </tr>\n    <tr>\n      <th rowspan=\"2\" valign=\"top\">male</th>\n      <th>0</th>\n      <td>0.860000</td>\n    </tr>\n    <tr>\n      <th>1</th>\n      <td>0.140000</td>\n    </tr>\n  </tbody>\n</table>\n</div>"
     },
     "execution_count": 209,
     "metadata": {},
     "output_type": "execute_result"
    },
    {
     "data": {
      "text/plain": "<Figure size 640x480 with 1 Axes>",
      "image/png": "[encoded data removed]"
     },
     "metadata": {},
     "output_type": "display_data"
    }
   ],
   "source": [
    "# summary statistics for survival by gender\n",
    "sns.histplot(x=df_raw['Sex'], hue=df_raw['Survived'].astype(str), multiple=\"stack\", stat=\"percent\")\n",
    "df_raw[['Sex', 'Survived']].groupby('Sex').value_counts(normalize=True).to_frame()"
   ],
   "metadata": {
    "collapsed": false,
    "ExecuteTime": {
     "end_time": "2023-06-30T16:33:43.542084800Z",
     "start_time": "2023-06-30T16:33:42.948209700Z"
    }
   }
  },
  {
   "cell_type": "code",
   "execution_count": 182,
   "outputs": [],
   "source": [
    "#df['Survived'] = df['Survived'].astype(str)\n",
    "columns = ['Survived', 'Pclass', 'Sex', 'Age', 'SibSp', 'Parch', 'Fare', 'Embarked']\n",
    "df = df_raw[columns].dropna()\n",
    "df = pd.get_dummies(df, columns=['Sex', 'Pclass', 'Embarked'])\n",
    "df = df.drop(['Sex_male', 'Pclass_3', 'Embarked_S'], axis = 1)"
   ],
   "metadata": {
    "collapsed": false,
    "ExecuteTime": {
     "end_time": "2023-06-29T17:07:07.609462900Z",
     "start_time": "2023-06-29T17:07:07.603914600Z"
    }
   }
  },
  {
   "cell_type": "code",
   "execution_count": 183,
   "outputs": [
    {
     "data": {
      "text/plain": "   Survived   Age  SibSp  Parch     Fare  Sex_female  Pclass_1  Pclass_2  \\\n0         0  22.0      1      0   7.2500       False     False     False   \n1         1  38.0      1      0  71.2833        True      True     False   \n2         1  26.0      0      0   7.9250        True     False     False   \n3         1  35.0      1      0  53.1000        True      True     False   \n4         0  35.0      0      0   8.0500       False     False     False   \n\n   Embarked_C  Embarked_Q  \n0       False       False  \n1        True       False  \n2       False       False  \n3       False       False  \n4       False       False  ",
      "text/html": "<div>\n<style scoped>\n    .dataframe tbody tr th:only-of-type {\n        vertical-align: middle;\n    }\n\n    .dataframe tbody tr th {\n        vertical-align: top;\n    }\n\n    .dataframe thead th {\n        text-align: right;\n    }\n</style>\n<table border=\"1\" class=\"dataframe\">\n  <thead>\n    <tr style=\"text-align: right;\">\n      <th></th>\n      <th>Survived</th>\n      <th>Age</th>\n      <th>SibSp</th>\n      <th>Parch</th>\n      <th>Fare</th>\n      <th>Sex_female</th>\n      <th>Pclass_1</th>\n      <th>Pclass_2</th>\n      <th>Embarked_C</th>\n      <th>Embarked_Q</th>\n    </tr>\n  </thead>\n  <tbody>\n    <tr>\n      <th>0</th>\n      <td>0</td>\n      <td>22.0</td>\n      <td>1</td>\n      <td>0</td>\n      <td>7.2500</td>\n      <td>False</td>\n      <td>False</td>\n      <td>False</td>\n      <td>False</td>\n      <td>False</td>\n    </tr>\n    <tr>\n      <th>1</th>\n      <td>1</td>\n      <td>38.0</td>\n      <td>1</td>\n      <td>0</td>\n      <td>71.2833</td>\n      <td>True</td>\n      <td>True</td>\n      <td>False</td>\n      <td>True</td>\n      <td>False</td>\n    </tr>\n    <tr>\n      <th>2</th>\n      <td>1</td>\n      <td>26.0</td>\n      <td>0</td>\n      <td>0</td>\n      <td>7.9250</td>\n      <td>True</td>\n      <td>False</td>\n      <td>False</td>\n      <td>False</td>\n      <td>False</td>\n    </tr>\n    <tr>\n      <th>3</th>\n      <td>1</td>\n      <td>35.0</td>\n      <td>1</td>\n      <td>0</td>\n      <td>53.1000</td>\n      <td>True</td>\n      <td>True</td>\n      <td>False</td>\n      <td>False</td>\n      <td>False</td>\n    </tr>\n    <tr>\n      <th>4</th>\n      <td>0</td>\n      <td>35.0</td>\n      <td>0</td>\n      <td>0</td>\n      <td>8.0500</td>\n      <td>False</td>\n      <td>False</td>\n      <td>False</td>\n      <td>False</td>\n      <td>False</td>\n    </tr>\n  </tbody>\n</table>\n</div>"
     },
     "execution_count": 183,
     "metadata": {},
     "output_type": "execute_result"
    }
   ],
   "source": [
    "df.head()"
   ],
   "metadata": {
    "collapsed": false,
    "ExecuteTime": {
     "end_time": "2023-06-29T17:07:09.807916800Z",
     "start_time": "2023-06-29T17:07:09.760548200Z"
    }
   }
  },
  {
   "cell_type": "markdown",
   "source": [
    "## Train Python Models"
   ],
   "metadata": {
    "collapsed": false
   }
  },
  {
   "cell_type": "code",
   "execution_count": 184,
   "outputs": [],
   "source": [
    "features = df.drop('Survived', axis=1).columns\n",
    "target = 'Survived'\n",
    "\n",
    "X_train, X_test, Y_train, Y_test = train_test_split(df[features], df[target], train_size=0.7, test_size=0.3,\n",
    "                                                    random_state=42)"
   ],
   "metadata": {
    "collapsed": false,
    "ExecuteTime": {
     "end_time": "2023-06-29T17:07:14.666130700Z",
     "start_time": "2023-06-29T17:07:14.577097600Z"
    }
   }
  },
  {
   "cell_type": "code",
   "execution_count": 185,
   "outputs": [
    {
     "data": {
      "text/plain": "GradientBoostingClassifier(random_state=42)",
      "text/html": "<style>#sk-container-id-10 {color: black;background-color: white;}#sk-container-id-10 pre{padding: 0;}#sk-container-id-10 div.sk-toggleable {background-color: white;}#sk-container-id-10 label.sk-toggleable__label {cursor: pointer;display: block;width: 100%;margin-bottom: 0;padding: 0.3em;box-sizing: border-box;text-align: center;}#sk-container-id-10 label.sk-toggleable__label-arrow:before {content: \"▸\";float: left;margin-right: 0.25em;color: #696969;}#sk-container-id-10 label.sk-toggleable__label-arrow:hover:before {color: black;}#sk-container-id-10 div.sk-estimator:hover label.sk-toggleable__label-arrow:before {color: black;}#sk-container-id-10 div.sk-toggleable__content {max-height: 0;max-width: 0;overflow: hidden;text-align: left;background-color: #f0f8ff;}#sk-container-id-10 div.sk-toggleable__content pre {margin: 0.2em;color: black;border-radius: 0.25em;background-color: #f0f8ff;}#sk-container-id-10 input.sk-toggleable__control:checked~div.sk-toggleable__content {max-height: 200px;max-width: 100%;overflow: auto;}#sk-container-id-10 input.sk-toggleable__control:checked~label.sk-toggleable__label-arrow:before {content: \"▾\";}#sk-container-id-10 div.sk-estimator input.sk-toggleable__control:checked~label.sk-toggleable__label {background-color: #d4ebff;}#sk-container-id-10 div.sk-label input.sk-toggleable__control:checked~label.sk-toggleable__label {background-color: #d4ebff;}#sk-container-id-10 input.sk-hidden--visually {border: 0;clip: rect(1px 1px 1px 1px);clip: rect(1px, 1px, 1px, 1px);height: 1px;margin: -1px;overflow: hidden;padding: 0;position: absolute;width: 1px;}#sk-container-id-10 div.sk-estimator {font-family: monospace;background-color: #f0f8ff;border: 1px dotted black;border-radius: 0.25em;box-sizing: border-box;margin-bottom: 0.5em;}#sk-container-id-10 div.sk-estimator:hover {background-color: #d4ebff;}#sk-container-id-10 div.sk-parallel-item::after {content: \"\";width: 100%;border-bottom: 1px solid gray;flex-grow: 1;}#sk-container-id-10 div.sk-label:hover label.sk-toggleable__label {background-color: #d4ebff;}#sk-container-id-10 div.sk-serial::before {content: \"\";position: absolute;border-left: 1px solid gray;box-sizing: border-box;top: 0;bottom: 0;left: 50%;z-index: 0;}#sk-container-id-10 div.sk-serial {display: flex;flex-direction: column;align-items: center;background-color: white;padding-right: 0.2em;padding-left: 0.2em;position: relative;}#sk-container-id-10 div.sk-item {position: relative;z-index: 1;}#sk-container-id-10 div.sk-parallel {display: flex;align-items: stretch;justify-content: center;background-color: white;position: relative;}#sk-container-id-10 div.sk-item::before, #sk-container-id-10 div.sk-parallel-item::before {content: \"\";position: absolute;border-left: 1px solid gray;box-sizing: border-box;top: 0;bottom: 0;left: 50%;z-index: -1;}#sk-container-id-10 div.sk-parallel-item {display: flex;flex-direction: column;z-index: 1;position: relative;background-color: white;}#sk-container-id-10 div.sk-parallel-item:first-child::after {align-self: flex-end;width: 50%;}#sk-container-id-10 div.sk-parallel-item:last-child::after {align-self: flex-start;width: 50%;}#sk-container-id-10 div.sk-parallel-item:only-child::after {width: 0;}#sk-container-id-10 div.sk-dashed-wrapped {border: 1px dashed gray;margin: 0 0.4em 0.5em 0.4em;box-sizing: border-box;padding-bottom: 0.4em;background-color: white;}#sk-container-id-10 div.sk-label label {font-family: monospace;font-weight: bold;display: inline-block;line-height: 1.2em;}#sk-container-id-10 div.sk-label-container {text-align: center;}#sk-container-id-10 div.sk-container {/* jupyter's `normalize.less` sets `[hidden] { display: none; }` but bootstrap.min.css set `[hidden] { display: none !important; }` so we also need the `!important` here to be able to override the default hidden behavior on the sphinx rendered scikit-learn.org. See: https://github.com/scikit-learn/scikit-learn/issues/21755 */display: inline-block !important;position: relative;}#sk-container-id-10 div.sk-text-repr-fallback {display: none;}</style><div id=\"sk-container-id-10\" class=\"sk-top-container\"><div class=\"sk-text-repr-fallback\"><pre>GradientBoostingClassifier(random_state=42)</pre><b>In a Jupyter environment, please rerun this cell to show the HTML representation or trust the notebook. <br />On GitHub, the HTML representation is unable to render, please try loading this page with nbviewer.org.</b></div><div class=\"sk-container\" hidden><div class=\"sk-item\"><div class=\"sk-estimator sk-toggleable\"><input class=\"sk-toggleable__control sk-hidden--visually\" id=\"sk-estimator-id-10\" type=\"checkbox\" checked><label for=\"sk-estimator-id-10\" class=\"sk-toggleable__label sk-toggleable__label-arrow\">GradientBoostingClassifier</label><div class=\"sk-toggleable__content\"><pre>GradientBoostingClassifier(random_state=42)</pre></div></div></div></div></div>"
     },
     "execution_count": 185,
     "metadata": {},
     "output_type": "execute_result"
    }
   ],
   "source": [
    "dtc = DecisionTreeClassifier(random_state=42)\n",
    "rfc = RandomForestClassifier(random_state=42)\n",
    "gbc = GradientBoostingClassifier(random_state=42)\n",
    "\n",
    "dtc.fit(X_train, Y_train)\n",
    "rfc.fit(X_train, Y_train)\n",
    "gbc.fit(X_train, Y_train)"
   ],
   "metadata": {
    "collapsed": false,
    "ExecuteTime": {
     "end_time": "2023-06-29T17:07:15.569694300Z",
     "start_time": "2023-06-29T17:07:15.382794500Z"
    }
   }
  },
  {
   "cell_type": "markdown",
   "source": [
    "## Assess Models"
   ],
   "metadata": {
    "collapsed": false
   }
  },
  {
   "cell_type": "code",
   "execution_count": 186,
   "outputs": [],
   "source": [
    "# Calculate the importance of a predictor\n",
    "def sort_feature_importance(model, data):\n",
    "    features = {}\n",
    "    for importance, name in sorted(zip(model.feature_importances_, data.columns), reverse=True):\n",
    "        features[name] = str(np.round(importance*100, 2)) + \"%\"\n",
    "    return features"
   ],
   "metadata": {
    "collapsed": false,
    "ExecuteTime": {
     "end_time": "2023-06-29T17:07:23.905583500Z",
     "start_time": "2023-06-29T17:07:23.873928300Z"
    }
   }
  },
  {
   "cell_type": "code",
   "execution_count": 187,
   "outputs": [
    {
     "data": {
      "text/plain": "           DecisionTree RandomForest GradientBoosting\nSex_female       35.19%       29.75%           37.51%\nFare             28.41%       24.44%           27.86%\nAge              25.94%       22.93%            21.1%\nSibSp             5.46%         8.0%             8.0%\nPclass_1          5.01%         3.2%            1.31%\nPclass_2           0.0%        3.42%            2.71%\nParch              0.0%        4.38%            0.15%\nEmbarked_Q         0.0%        0.55%            0.34%\nEmbarked_C         0.0%        3.33%            1.02%",
      "text/html": "<div>\n<style scoped>\n    .dataframe tbody tr th:only-of-type {\n        vertical-align: middle;\n    }\n\n    .dataframe tbody tr th {\n        vertical-align: top;\n    }\n\n    .dataframe thead th {\n        text-align: right;\n    }\n</style>\n<table border=\"1\" class=\"dataframe\">\n  <thead>\n    <tr style=\"text-align: right;\">\n      <th></th>\n      <th>DecisionTree</th>\n      <th>RandomForest</th>\n      <th>GradientBoosting</th>\n    </tr>\n  </thead>\n  <tbody>\n    <tr>\n      <th>Sex_female</th>\n      <td>35.19%</td>\n      <td>29.75%</td>\n      <td>37.51%</td>\n    </tr>\n    <tr>\n      <th>Fare</th>\n      <td>28.41%</td>\n      <td>24.44%</td>\n      <td>27.86%</td>\n    </tr>\n    <tr>\n      <th>Age</th>\n      <td>25.94%</td>\n      <td>22.93%</td>\n      <td>21.1%</td>\n    </tr>\n    <tr>\n      <th>SibSp</th>\n      <td>5.46%</td>\n      <td>8.0%</td>\n      <td>8.0%</td>\n    </tr>\n    <tr>\n      <th>Pclass_1</th>\n      <td>5.01%</td>\n      <td>3.2%</td>\n      <td>1.31%</td>\n    </tr>\n    <tr>\n      <th>Pclass_2</th>\n      <td>0.0%</td>\n      <td>3.42%</td>\n      <td>2.71%</td>\n    </tr>\n    <tr>\n      <th>Parch</th>\n      <td>0.0%</td>\n      <td>4.38%</td>\n      <td>0.15%</td>\n    </tr>\n    <tr>\n      <th>Embarked_Q</th>\n      <td>0.0%</td>\n      <td>0.55%</td>\n      <td>0.34%</td>\n    </tr>\n    <tr>\n      <th>Embarked_C</th>\n      <td>0.0%</td>\n      <td>3.33%</td>\n      <td>1.02%</td>\n    </tr>\n  </tbody>\n</table>\n</div>"
     },
     "execution_count": 187,
     "metadata": {},
     "output_type": "execute_result"
    }
   ],
   "source": [
    "importances = pd.DataFrame.from_dict(sort_feature_importance(dtc, X_train), orient=\"index\").rename(columns={0: \"DecisionTree\"})\n",
    "importances[\"RandomForest\"] = pd.DataFrame.from_dict(sort_feature_importance(rfc, X_train), orient=\"index\")\n",
    "importances[\"GradientBoosting\"] = pd.DataFrame.from_dict(sort_feature_importance(gbc, X_train), orient=\"index\")\n",
    "importances"
   ],
   "metadata": {
    "collapsed": false,
    "ExecuteTime": {
     "end_time": "2023-06-29T17:07:24.448449100Z",
     "start_time": "2023-06-29T17:07:24.400849800Z"
    }
   }
  },
  {
   "cell_type": "code",
   "execution_count": 200,
   "outputs": [
    {
     "name": "stdout",
     "output_type": "stream",
     "text": [
      "[[26  3]\n",
      " [ 5  4]]\n",
      "              precision    recall  f1-score   support\n",
      "\n",
      "           0       0.84      0.90      0.87        29\n",
      "           1       0.57      0.44      0.50         9\n",
      "\n",
      "    accuracy                           0.79        38\n",
      "   macro avg       0.71      0.67      0.68        38\n",
      "weighted avg       0.78      0.79      0.78        38\n",
      "\n",
      "Decision Tree Model Accuracy = 78.95%\n"
     ]
    }
   ],
   "source": [
    "y_dtc_predict = dtc.predict(X_test)\n",
    "y_dtc_proba = dtc.predict_proba(X_test)\n",
    "print(confusion_matrix(Y_test, y_dtc_predict))\n",
    "print(classification_report(Y_test, y_dtc_predict))\n",
    "print(\"Decision Tree Model Accuracy = \" + str(np.round(dtc.score(X_test, Y_test)*100,2)) + \"%\")"
   ],
   "metadata": {
    "collapsed": false,
    "ExecuteTime": {
     "end_time": "2023-06-30T12:25:36.769128500Z",
     "start_time": "2023-06-30T12:25:36.737628200Z"
    }
   }
  },
  {
   "cell_type": "code",
   "execution_count": 202,
   "outputs": [
    {
     "name": "stdout",
     "output_type": "stream",
     "text": [
      "[[26  3]\n",
      " [ 5  4]]\n",
      "              precision    recall  f1-score   support\n",
      "\n",
      "           0       0.84      0.90      0.87        29\n",
      "           1       0.57      0.44      0.50         9\n",
      "\n",
      "    accuracy                           0.79        38\n",
      "   macro avg       0.71      0.67      0.68        38\n",
      "weighted avg       0.78      0.79      0.78        38\n",
      "\n",
      "Random Forest Model Accuracy = 78.95%\n"
     ]
    }
   ],
   "source": [
    "y_rfc_predict = rfc.predict(X_test)\n",
    "y_rfc_proba = rfc.predict_proba(X_test)\n",
    "print(confusion_matrix(Y_test, y_rfc_predict))\n",
    "print(classification_report(Y_test, y_rfc_predict))\n",
    "print(\"Random Forest Model Accuracy = \" + str(np.round(rfc.score(X_test, Y_test)*100,2)) + \"%\")"
   ],
   "metadata": {
    "collapsed": false,
    "ExecuteTime": {
     "end_time": "2023-06-30T12:26:32.569984900Z",
     "start_time": "2023-06-30T12:26:32.506777Z"
    }
   }
  },
  {
   "cell_type": "code",
   "execution_count": 203,
   "outputs": [
    {
     "name": "stdout",
     "output_type": "stream",
     "text": [
      "[[25  4]\n",
      " [ 5  4]]\n",
      "              precision    recall  f1-score   support\n",
      "\n",
      "           0       0.83      0.86      0.85        29\n",
      "           1       0.50      0.44      0.47         9\n",
      "\n",
      "    accuracy                           0.76        38\n",
      "   macro avg       0.67      0.65      0.66        38\n",
      "weighted avg       0.75      0.76      0.76        38\n",
      "\n",
      "Gradient Boosting Model Accuracy = 76.32%\n"
     ]
    }
   ],
   "source": [
    "y_gbc_predict = gbc.predict(X_test)\n",
    "y_gbc_proba = gbc.predict_proba(X_test)\n",
    "print(confusion_matrix(Y_test, y_gbc_predict))\n",
    "print(classification_report(Y_test, y_gbc_predict))\n",
    "print(\"Gradient Boosting Model Accuracy = \" + str(np.round(gbc.score(X_test, Y_test)*100,2)) + \"%\")"
   ],
   "metadata": {
    "collapsed": false,
    "ExecuteTime": {
     "end_time": "2023-06-30T12:27:10.313896800Z",
     "start_time": "2023-06-30T12:27:10.292510900Z"
    }
   }
  },
  {
   "cell_type": "markdown",
   "source": [
    "## Create Score Tables"
   ],
   "metadata": {
    "collapsed": false
   }
  },
  {
   "cell_type": "code",
   "execution_count": 204,
   "outputs": [],
   "source": [
    "# recreating sex variable\n",
    "sex = X_test['Sex_female'].apply(lambda x: 'female' if x else 'male')"
   ],
   "metadata": {
    "collapsed": false,
    "ExecuteTime": {
     "end_time": "2023-06-30T12:42:28.951604400Z",
     "start_time": "2023-06-30T12:42:28.935962500Z"
    }
   }
  },
  {
   "cell_type": "code",
   "execution_count": 205,
   "outputs": [],
   "source": [
    "def build_score_table(model):\n",
    "    score_data = {'P_Survived1': model.predict_proba(X_test)[:,1],\n",
    "                  'P_Survived0': model.predict_proba(X_test)[:,0],\n",
    "                  'Survived': Y_test.to_numpy(),\n",
    "                  'Sex': sex}\n",
    "    data = pd.DataFrame(score_data)\n",
    "    return data"
   ],
   "metadata": {
    "collapsed": false,
    "ExecuteTime": {
     "end_time": "2023-06-30T12:42:30.893201900Z",
     "start_time": "2023-06-30T12:42:30.875968400Z"
    }
   }
  },
  {
   "cell_type": "code",
   "execution_count": 206,
   "outputs": [],
   "source": [
    "score_tables = {\"DecisionTree\": build_score_table(dtc),\n",
    "                \"RandomForest\": build_score_table(rfc),\n",
    "                \"GradientBoost\": build_score_table(gbc)}"
   ],
   "metadata": {
    "collapsed": false,
    "ExecuteTime": {
     "end_time": "2023-06-30T12:42:32.872495100Z",
     "start_time": "2023-06-30T12:42:32.814470Z"
    }
   }
  },
  {
   "cell_type": "code",
   "execution_count": 207,
   "outputs": [
    {
     "name": "stdout",
     "output_type": "stream",
     "text": [
      "DecisionTree \n",
      "     P_Survived1  P_Survived0  Survived     Sex\n",
      "21          0.0          1.0         1    male\n",
      "57          0.0          1.0         0    male\n",
      "50          0.0          1.0         0    male\n",
      "99          0.0          1.0         0    male\n",
      "71          0.0          1.0         0  female\n",
      "RandomForest \n",
      "     P_Survived1  P_Survived0  Survived     Sex\n",
      "21         0.01         0.99         1    male\n",
      "57         0.31         0.69         0    male\n",
      "50         0.24         0.76         0    male\n",
      "99         0.04         0.96         0    male\n",
      "71         0.51         0.49         0  female\n",
      "GradientBoost \n",
      "     P_Survived1  P_Survived0  Survived     Sex\n",
      "21     0.006381     0.993619         1    male\n",
      "57     0.320892     0.679108         0    male\n",
      "50     0.239965     0.760035         0    male\n",
      "99     0.008723     0.991277         0    male\n",
      "71     0.971452     0.028548         0  female\n"
     ]
    }
   ],
   "source": [
    "for k,v in score_tables.items():\n",
    "    print(f'{k} \\n {v.head()}')"
   ],
   "metadata": {
    "collapsed": false,
    "ExecuteTime": {
     "end_time": "2023-06-30T12:42:34.058392Z",
     "start_time": "2023-06-30T12:42:34.022051600Z"
    }
   }
  },
  {
   "cell_type": "markdown",
   "source": [
    "## Get File Properties"
   ],
   "metadata": {
    "collapsed": false
   }
  },
  {
   "cell_type": "code",
   "execution_count": 149,
   "outputs": [],
   "source": [
    "# setting up environment\n",
    "hostname = ''\n",
    "username = ''\n",
    "password = ''\n",
    "\n",
    "sess = Session(hostname, username, password, protocol='http')"
   ],
   "metadata": {
    "collapsed": false,
    "ExecuteTime": {
     "end_time": "2023-06-28T18:21:05.266925300Z",
     "start_time": "2023-06-28T18:21:04.464685300Z"
    }
   }
  },
  {
   "cell_type": "code",
   "execution_count": 145,
   "outputs": [],
   "source": [
    "# Model names within SAS Model Manager\n",
    "model_prefix = [\"DecisionTree\", \"RandomForest\", \"GradientBoost\"]\n",
    "# Directory location for the model files\n",
    "zip_folder = [Path.cwd() / \"data/BiasMetrics/titanicModels/DecisionTree/\",\n",
    "             Path.cwd() / \"data/BiasMetrics/titanicModels/RandomForest/\",\n",
    "             Path.cwd() / \"data/BiasMetrics/titanicModels/GradientBoost\"] # Changes required by user\n",
    "model = [dtc, rfc, gbc]\n",
    "# Output variables expected in SAS Model Manager. If a classification value is expected to be output, it should be the first metric.\n",
    "score_metrics = [\"EM_CLASSIFICATION\", \"EM_EVENTPROBABILITY\"]"
   ],
   "metadata": {
    "collapsed": false,
    "ExecuteTime": {
     "end_time": "2023-06-28T18:13:59.270987600Z",
     "start_time": "2023-06-28T18:13:59.263938600Z"
    }
   }
  },
  {
   "cell_type": "code",
   "execution_count": 135,
   "outputs": [
    {
     "name": "stdout",
     "output_type": "stream",
     "text": [
      "maxDifferences.json was successfully written and saved to C:\\Users\\elmcfa\\PycharmProjects\\python-sasctl\\examples\\data\\BiasMetrics\\titanicModels\\DecisionTree\\maxDifferences.json\n",
      "groupMetrics.json was successfully written and saved to C:\\Users\\elmcfa\\PycharmProjects\\python-sasctl\\examples\\data\\BiasMetrics\\titanicModels\\DecisionTree\\groupMetrics.json\n",
      "maxDifferences.json was successfully written and saved to C:\\Users\\elmcfa\\PycharmProjects\\python-sasctl\\examples\\data\\BiasMetrics\\titanicModels\\RandomForest\\maxDifferences.json\n",
      "groupMetrics.json was successfully written and saved to C:\\Users\\elmcfa\\PycharmProjects\\python-sasctl\\examples\\data\\BiasMetrics\\titanicModels\\RandomForest\\groupMetrics.json\n",
      "maxDifferences.json was successfully written and saved to C:\\Users\\elmcfa\\PycharmProjects\\python-sasctl\\examples\\data\\BiasMetrics\\titanicModels\\GradientBoost\\maxDifferences.json\n",
      "groupMetrics.json was successfully written and saved to C:\\Users\\elmcfa\\PycharmProjects\\python-sasctl\\examples\\data\\BiasMetrics\\titanicModels\\GradientBoost\\groupMetrics.json\n"
     ]
    }
   ],
   "source": [
    "# getting assess bias json files\n",
    "for (model, path) in zip(model_prefix, zip_folder):\n",
    "    pzmm.JSONFiles.assess_model_bias(\n",
    "        score_table=score_tables[model],\n",
    "        actual_values='Survived',\n",
    "        sensitive_values='Sex',\n",
    "        prob_values=['P_Survived1', 'P_Survived0'],\n",
    "        json_path=path\n",
    "    )"
   ],
   "metadata": {
    "collapsed": false,
    "ExecuteTime": {
     "end_time": "2023-06-28T17:56:33.698736400Z",
     "start_time": "2023-06-28T17:56:24.580048100Z"
    }
   }
  },
  {
   "cell_type": "code",
   "execution_count": 136,
   "outputs": [
    {
     "name": "stdout",
     "output_type": "stream",
     "text": [
      "Model DecisionTree was successfully pickled and saved to C:\\Users\\elmcfa\\PycharmProjects\\python-sasctl\\examples\\data\\BiasMetrics\\titanicModels\\DecisionTree\\DecisionTree.pickle.\n",
      "Model RandomForest was successfully pickled and saved to C:\\Users\\elmcfa\\PycharmProjects\\python-sasctl\\examples\\data\\BiasMetrics\\titanicModels\\RandomForest\\RandomForest.pickle.\n",
      "Model GradientBoost was successfully pickled and saved to C:\\Users\\elmcfa\\PycharmProjects\\python-sasctl\\examples\\data\\BiasMetrics\\titanicModels\\GradientBoost\\GradientBoost.pickle.\n"
     ]
    }
   ],
   "source": [
    "# Serialize the models to a pickle format\n",
    "for (mod, prefix, path) in zip(model, model_prefix, zip_folder):\n",
    "    pzmm.PickleModel.pickle_trained_model(\n",
    "        model_prefix=prefix,\n",
    "        trained_model=mod,\n",
    "        pickle_path=path\n",
    "    )"
   ],
   "metadata": {
    "collapsed": false,
    "ExecuteTime": {
     "end_time": "2023-06-28T17:56:37.710346500Z",
     "start_time": "2023-06-28T17:56:37.689756900Z"
    }
   }
  },
  {
   "cell_type": "code",
   "execution_count": 39,
   "outputs": [
    {
     "name": "stdout",
     "output_type": "stream",
     "text": [
      "inputVar.json was successfully written and saved to C:\\Users\\elmcfa\\PycharmProjects\\python-sasctl\\examples\\data\\BiasMetrics\\titanicModels\\DecisionTree\\inputVar.json\n",
      "outputVar.json was successfully written and saved to C:\\Users\\elmcfa\\PycharmProjects\\python-sasctl\\examples\\data\\BiasMetrics\\titanicModels\\DecisionTree\\outputVar.json\n",
      "ModelProperties.json was successfully written and saved to C:\\Users\\elmcfa\\PycharmProjects\\python-sasctl\\examples\\data\\BiasMetrics\\titanicModels\\DecisionTree\\ModelProperties.json\n",
      "fileMetadata.json was successfully written and saved to C:\\Users\\elmcfa\\PycharmProjects\\python-sasctl\\examples\\data\\BiasMetrics\\titanicModels\\DecisionTree\\fileMetadata.json\n",
      "inputVar.json was successfully written and saved to C:\\Users\\elmcfa\\PycharmProjects\\python-sasctl\\examples\\data\\BiasMetrics\\titanicModels\\RandomForest\\inputVar.json\n",
      "outputVar.json was successfully written and saved to C:\\Users\\elmcfa\\PycharmProjects\\python-sasctl\\examples\\data\\BiasMetrics\\titanicModels\\RandomForest\\outputVar.json\n",
      "ModelProperties.json was successfully written and saved to C:\\Users\\elmcfa\\PycharmProjects\\python-sasctl\\examples\\data\\BiasMetrics\\titanicModels\\RandomForest\\ModelProperties.json\n",
      "fileMetadata.json was successfully written and saved to C:\\Users\\elmcfa\\PycharmProjects\\python-sasctl\\examples\\data\\BiasMetrics\\titanicModels\\RandomForest\\fileMetadata.json\n",
      "inputVar.json was successfully written and saved to C:\\Users\\elmcfa\\PycharmProjects\\python-sasctl\\examples\\data\\BiasMetrics\\titanicModels\\GradientBoost\\inputVar.json\n",
      "outputVar.json was successfully written and saved to C:\\Users\\elmcfa\\PycharmProjects\\python-sasctl\\examples\\data\\BiasMetrics\\titanicModels\\GradientBoost\\outputVar.json\n",
      "ModelProperties.json was successfully written and saved to C:\\Users\\elmcfa\\PycharmProjects\\python-sasctl\\examples\\data\\BiasMetrics\\titanicModels\\GradientBoost\\ModelProperties.json\n",
      "fileMetadata.json was successfully written and saved to C:\\Users\\elmcfa\\PycharmProjects\\python-sasctl\\examples\\data\\BiasMetrics\\titanicModels\\GradientBoost\\fileMetadata.json\n"
     ]
    }
   ],
   "source": [
    "def write_json_files(data, predict, target, path, prefix):\n",
    "    # Write input variable mapping to a json file\n",
    "    pzmm.JSONFiles.write_var_json(input_data=data[predict], is_input=True, json_path=path)\n",
    "\n",
    "    # Set output variables and assign an event threshold, then write output variable mapping\n",
    "    output_var = pd.DataFrame(columns=score_metrics, data=[[\"A\", 0.5]]) # data argument includes example expected types for outputs\n",
    "    pzmm.JSONFiles.write_var_json(output_var, is_input=False, json_path=path)\n",
    "\n",
    "    # Write model properties to a json file\n",
    "    pzmm.JSONFiles.write_model_properties_json(\n",
    "        model_name=prefix,\n",
    "        target_variable=target, # Target variable to make predictions about (Survived in this case)\n",
    "        target_values=[\"1\", \"0\"], # Possible values for the target variable (1 or 0 for binary classification of Survived)\n",
    "        json_path=path,\n",
    "        model_desc=f\"Description for the {prefix} model.\",\n",
    "        model_algorithm=\"\",\n",
    "        modeler=\"sasdemo\",\n",
    "    )\n",
    "\n",
    "    # Write model metadata to a json file so that SAS Model Manager can properly identify all model files\n",
    "    pzmm.JSONFiles.write_file_metadata_json(model_prefix=prefix, json_path=path)\n",
    "\n",
    "for (prefix, path) in zip(model_prefix, zip_folder):\n",
    "    write_json_files(df, features, target, path, prefix)"
   ],
   "metadata": {
    "collapsed": false,
    "ExecuteTime": {
     "end_time": "2023-06-28T15:01:35.871501700Z",
     "start_time": "2023-06-28T15:01:35.839806300Z"
    }
   }
  },
  {
   "cell_type": "code",
   "execution_count": 142,
   "outputs": [
    {
     "name": "stdout",
     "output_type": "stream",
     "text": [
      "dmcas_fitstat.json was successfully written and saved to C:\\Users\\elmcfa\\PycharmProjects\\python-sasctl\\examples\\data\\BiasMetrics\\titanicModels\\DecisionTree\\dmcas_fitstat.json\n",
      "dmcas_roc.json was successfully written and saved to C:\\Users\\elmcfa\\PycharmProjects\\python-sasctl\\examples\\data\\BiasMetrics\\titanicModels\\DecisionTree\\dmcas_roc.json\n",
      "dmcas_lift.json was successfully written and saved to C:\\Users\\elmcfa\\PycharmProjects\\python-sasctl\\examples\\data\\BiasMetrics\\titanicModels\\DecisionTree\\dmcas_lift.json\n",
      "dmcas_fitstat.json was successfully written and saved to C:\\Users\\elmcfa\\PycharmProjects\\python-sasctl\\examples\\data\\BiasMetrics\\titanicModels\\RandomForest\\dmcas_fitstat.json\n",
      "dmcas_roc.json was successfully written and saved to C:\\Users\\elmcfa\\PycharmProjects\\python-sasctl\\examples\\data\\BiasMetrics\\titanicModels\\RandomForest\\dmcas_roc.json\n",
      "dmcas_lift.json was successfully written and saved to C:\\Users\\elmcfa\\PycharmProjects\\python-sasctl\\examples\\data\\BiasMetrics\\titanicModels\\RandomForest\\dmcas_lift.json\n",
      "dmcas_fitstat.json was successfully written and saved to C:\\Users\\elmcfa\\PycharmProjects\\python-sasctl\\examples\\data\\BiasMetrics\\titanicModels\\GradientBoost\\dmcas_fitstat.json\n",
      "dmcas_roc.json was successfully written and saved to C:\\Users\\elmcfa\\PycharmProjects\\python-sasctl\\examples\\data\\BiasMetrics\\titanicModels\\GradientBoost\\dmcas_roc.json\n",
      "dmcas_lift.json was successfully written and saved to C:\\Users\\elmcfa\\PycharmProjects\\python-sasctl\\examples\\data\\BiasMetrics\\titanicModels\\GradientBoost\\dmcas_lift.json\n"
     ]
    }
   ],
   "source": [
    "def write_model_stats(x_train, y_train, test_proba, y_test, model, path):\n",
    "    # Calculate train predictions\n",
    "    train_proba = model.predict_proba(x_train)\n",
    "\n",
    "    # Assign data to lists of actual and predicted values\n",
    "    train_data = pd.concat([y_train.reset_index(drop=True), pd.Series(data=train_proba[:,1])], axis=1)\n",
    "    test_data = pd.concat([y_test.reset_index(drop=True), pd.Series(data=test_proba[:,1])], axis=1)\n",
    "\n",
    "    # Calculate the model statistics, ROC chart, and Lift chart; then write to json files\n",
    "    pzmm.JSONFiles.calculate_model_statistics(\n",
    "        target_value=1,\n",
    "        prob_value=0.5,\n",
    "        train_data=train_data,\n",
    "        test_data=test_data,\n",
    "        json_path=path\n",
    "    )\n",
    "\n",
    "conn = sess.as_swat() # Connect to SWAT through the sasctl authenticated connection\n",
    "\n",
    "test_proba = [dtc.predict_proba(X_test), rfc.predict_proba(X_test), gbc.predict_proba(X_test)]\n",
    "for (mod, proba, path) in zip(model, test_proba, zip_folder):\n",
    "    write_model_stats(X_train, Y_train.astype(int), proba, Y_test.astype(int), mod, path)"
   ],
   "metadata": {
    "collapsed": false,
    "ExecuteTime": {
     "end_time": "2023-06-28T18:02:09.124278100Z",
     "start_time": "2023-06-28T18:01:51.785176600Z"
    }
   }
  },
  {
   "cell_type": "code",
   "execution_count": 143,
   "outputs": [
    {
     "name": "stderr",
     "output_type": "stream",
     "text": [
      "C:\\Users\\elmcfa\\PycharmProjects\\python-sasctl\\src\\sasctl\\pzmm\\write_score_code.py:1040: UserWarning: Due to the ambiguity of the provided metrics and prediction return types, the score code assumes that a classification and the target event probability should be returned.\n",
      "  warn(\n",
      "C:\\Users\\elmcfa\\PycharmProjects\\python-sasctl\\src\\sasctl\\pzmm\\import_model.py:45: UserWarning: No project with the name or UUID titanicModels was found.\n",
      "  warn(f\"No project with the name or UUID {project} was found.\")\n"
     ]
    },
    {
     "name": "stdout",
     "output_type": "stream",
     "text": [
      "Model score code was written successfully to C:\\Users\\elmcfa\\PycharmProjects\\python-sasctl\\examples\\data\\BiasMetrics\\titanicModels\\DecisionTree\\score_DecisionTree.py and uploaded to SAS Model Manager.\n",
      "All model files were zipped to C:\\Users\\elmcfa\\PycharmProjects\\python-sasctl\\examples\\data\\BiasMetrics\\titanicModels\\DecisionTree.\n",
      "A new project named titanicModels was created.\n",
      "Model was successfully imported into SAS Model Manager as DecisionTree with the following UUID: 9186fdfc-85c0-4b73-8ff3-4fd82b5a76a8.\n",
      "Model score code was written successfully to C:\\Users\\elmcfa\\PycharmProjects\\python-sasctl\\examples\\data\\BiasMetrics\\titanicModels\\RandomForest\\score_RandomForest.py and uploaded to SAS Model Manager.\n",
      "All model files were zipped to C:\\Users\\elmcfa\\PycharmProjects\\python-sasctl\\examples\\data\\BiasMetrics\\titanicModels\\RandomForest.\n"
     ]
    },
    {
     "name": "stderr",
     "output_type": "stream",
     "text": [
      "C:\\Users\\elmcfa\\PycharmProjects\\python-sasctl\\src\\sasctl\\pzmm\\write_score_code.py:1040: UserWarning: Due to the ambiguity of the provided metrics and prediction return types, the score code assumes that a classification and the target event probability should be returned.\n",
      "  warn(\n"
     ]
    },
    {
     "name": "stdout",
     "output_type": "stream",
     "text": [
      "Model was successfully imported into SAS Model Manager as RandomForest with the following UUID: 0c654c16-e1c9-4802-8673-cf06979d4b60.\n",
      "Model score code was written successfully to C:\\Users\\elmcfa\\PycharmProjects\\python-sasctl\\examples\\data\\BiasMetrics\\titanicModels\\GradientBoost\\score_GradientBoost.py and uploaded to SAS Model Manager.\n",
      "All model files were zipped to C:\\Users\\elmcfa\\PycharmProjects\\python-sasctl\\examples\\data\\BiasMetrics\\titanicModels\\GradientBoost.\n"
     ]
    },
    {
     "name": "stderr",
     "output_type": "stream",
     "text": [
      "C:\\Users\\elmcfa\\PycharmProjects\\python-sasctl\\src\\sasctl\\pzmm\\write_score_code.py:1040: UserWarning: Due to the ambiguity of the provided metrics and prediction return types, the score code assumes that a classification and the target event probability should be returned.\n",
      "  warn(\n"
     ]
    },
    {
     "name": "stdout",
     "output_type": "stream",
     "text": [
      "Model was successfully imported into SAS Model Manager as GradientBoost with the following UUID: 3c0e9bfe-03ac-43f0-93d4-1e56ac17a483.\n"
     ]
    }
   ],
   "source": [
    "for (prefix, path) in zip(model_prefix, zip_folder):\n",
    "    pzmm.ImportModel.import_model(\n",
    "        model_files=path, # Where are the model files?\n",
    "        model_prefix=prefix, # What is the model name?\n",
    "        project=\"titanicModels\", # What is the project name?\n",
    "        input_data=df[features], # What does example input data look like?\n",
    "        predict_method=[dtc.predict_proba, [int, int]], # What is the predict method and what does it return?\n",
    "        score_metrics=score_metrics, # What are the output variables?\n",
    "        overwrite_model=True, # Overwrite the model if it already exists?\n",
    "        target_values=[\"1\", \"0\"], # What are the expected values of the target variable?\n",
    "        model_file_name=prefix + \".pickle\", # How was the model file serialized?\n",
    "        missing_values=True # Does the data include missing values?\n",
    "    )\n",
    "    # Reinitialize the score_code variable when writing more than one model's score code\n",
    "    pzmm.ScoreCode.score_code = \"\""
   ],
   "metadata": {
    "collapsed": false,
    "ExecuteTime": {
     "end_time": "2023-06-28T18:10:04.295782600Z",
     "start_time": "2023-06-28T18:09:55.505279500Z"
    }
   }
  },
  {
   "cell_type": "code",
   "execution_count": null,
   "outputs": [],
   "source": [],
   "metadata": {
    "collapsed": false
   }
  }
 ],
 "metadata": {
  "kernelspec": {
   "display_name": "Python 3",
   "language": "python",
   "name": "python3"
  },
  "language_info": {
   "codemirror_mode": {
    "name": "ipython",
    "version": 2
   },
   "file_extension": ".py",
   "mimetype": "text/x-python",
   "name": "python",
   "nbconvert_exporter": "python",
   "pygments_lexer": "ipython2",
   "version": "2.7.6"
  }
 },
 "nbformat": 4,
 "nbformat_minor": 0
}
