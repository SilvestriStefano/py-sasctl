{
 "cells": [
  {
   "cell_type": "markdown",
   "metadata": {},
   "source": [
    "# Integrating Key Performance Indicators and Hyperparameters Into SAS Model Manager\n",
    "SAS Model Manager generates certain Key Performance Indicators (KPIs) automatically based on user created performance definitions. However, we may want to include other KPIs to measure certain things not tracked by SAS Model Manager.\n",
    "\n",
    "This can be done by performing local tests on models we\"ve passed to SAS Model Manager, then passing up the resulting values as custom KPI values.\n",
    "\n",
    "For certain python models, sasctl will also generate a json file containing the hyperparameters of the model, making them easily accessible for future use."
   ]
  },
  {
   "cell_type": "markdown",
   "metadata": {},
   "source": [
    "### Python Package Imports"
   ]
  },
  {
   "cell_type": "code",
   "execution_count": 1,
   "metadata": {},
   "outputs": [],
   "source": [
    "# Standard Library\n",
    "from pathlib import Path\n",
    "import warnings\n",
    "import getpass\n",
    "\n",
    "# Third Party\n",
    "import pandas as pd\n",
    "import pickle\n",
    "\n",
    "# Application Specific\n",
    "from sasctl import Session\n",
    "from sasctl.pzmm.model_parameters import ModelParameters as mp\n",
    "\n",
    "# Global Package Options\n",
    "pd.options.mode.chained_assignment = None  # default=\"warn\"\n",
    "warnings.simplefilter(action=\"ignore\", category=FutureWarning)"
   ]
  },
  {
   "cell_type": "markdown",
   "metadata": {},
   "source": [
    "### Setup\n",
    "This example is built to be run after the [PZMM Binary Classification Model Import](/pzmm_binary_classification_model_import.ipynb) example notebook is run."
   ]
  },
  {
   "cell_type": "code",
   "execution_count": 2,
   "metadata": {},
   "outputs": [],
   "source": [
    "username = getpass.getpass()\n",
    "password = getpass.getpass()\n",
    "host = \"demo.sas.com\" # Changes required by user\n",
    "sess = Session(host, username, password, protocol=\"http\") # For TLS-enabled servers, change protocol value to \"https\""
   ]
  },
  {
   "cell_type": "markdown",
   "metadata": {},
   "source": [
    "### Updating Model and Project Properties\n",
    "In order to allow for performance definitions to be run in SAS Model Manager, certain properties need to be set for both the model and the project."
   ]
  },
  {
   "cell_type": "code",
   "execution_count": 3,
   "metadata": {},
   "outputs": [],
   "source": [
    "from sasctl._services.model_repository import ModelRepository as mr\n",
    "\n",
    "model_name = \"DecisionTreeClassifier\"\n",
    "model_path = Path.cwd() / \"data/hmeqModels/DecisionTreeClassifier/\"\n",
    "\n",
    "model = mr.get_model(model_name)\n",
    "\n",
    "model[\"targetEvent\"] = \"1\"\n",
    "model[\"targetVariable\"] = \"BAD\"\n",
    "model[\"function\"] = \"Classification\"\n",
    "model[\"targetLevel\"] = \"Binary\"\n",
    "model[\"eventProbVar\"] = \"EM_EVENTPROBABILITY\"\n",
    "\n",
    "model = mr.update_model(model)"
   ]
  },
  {
   "cell_type": "code",
   "execution_count": 4,
   "metadata": {},
   "outputs": [],
   "source": [
    "project = mr.get_project(\"HMEQModels\")\n",
    "\n",
    "variables = model[\"inputVariables\"] + model[\"outputVariables\"]\n",
    "\n",
    "project[\"targetVariable\"] = \"BAD\"\n",
    "project[\"variables\"] = variables\n",
    "project[\"targetLevel\"] = \"Binary\"\n",
    "project[\"targetEventValue\"] = \"1\"\n",
    "project[\"classTargetValues\"] = \".5\"\n",
    "project[\"function\"] = \"Classification\"\n",
    "project[\"eventProbabilityVariable\"] = \"EM_EVENTPROBABILITY\"\n",
    "\n",
    "project = mr.update_project(project)"
   ]
  },
  {
   "cell_type": "markdown",
   "metadata": {},
   "source": [
    "### Hyperparameter Generation\n",
    "If the hyperparameter json file is not generated automatically, this code block will generate it and add it to SAS Model Manager."
   ]
  },
  {
   "cell_type": "code",
   "execution_count": 5,
   "metadata": {},
   "outputs": [],
   "source": [
    "with open(Path(model_path) / \"DecisionTreeClassifier.pickle\", \"rb\") as pickle_model:\n",
    "    tree_model = pickle.load(pickle_model)\n",
    "\n",
    "mp.generate_hyperparameters(tree_model, model_name, model_path)\n",
    "\n",
    "with open(model_path / f\"{model_name}Hyperparameters.json\", \"r\") as f:\n",
    "    mr.add_model_content(model_name, f, f\"{model_name}Hyperparameters.json\")"
   ]
  },
  {
   "cell_type": "markdown",
   "metadata": {},
   "source": [
    "Once the model has been uploaded to SAS Model Manager, custom hyperparameters can be added to the hyperparameter json file using the add_hyperparamters function. The custom hyperparameters are passed in as kwargs."
   ]
  },
  {
   "cell_type": "code",
   "execution_count": 6,
   "metadata": {},
   "outputs": [],
   "source": [
    "mp.add_hyperparameters(model_name, example=1)"
   ]
  },
  {
   "cell_type": "markdown",
   "metadata": {},
   "source": [
    "### Performance Definition\n",
    "To create a performance definition, we first have to pass up data for the performance definition to run on. All data used for performance defintions should be named using the following format: \n",
    "\n",
    "{Table Prefix}\\_{Time}\\_{Time Label}"
   ]
  },
  {
   "cell_type": "code",
   "execution_count": 7,
   "metadata": {},
   "outputs": [
    {
     "name": "stdout",
     "output_type": "stream",
     "text": [
      "1\n",
      "2\n",
      "3\n",
      "4\n"
     ]
    }
   ],
   "source": [
    "from sasctl._services.cas_management import CASManagement as cas\n",
    "\n",
    "for x in range(1, 5):\n",
    "    cas.upload_file(\n",
    "        file=f\"data/HMEQPERF_{x}_Q{x}.csv\", \n",
    "        name=f\"HMEQPERF_{x}_Q{x}\")\n",
    "    print(x)"
   ]
  },
  {
   "cell_type": "markdown",
   "metadata": {},
   "source": [
    "After pushing up the data, the performance definition can be created. When the performance definition is run, the KPIs are generated within Model Manager."
   ]
  },
  {
   "cell_type": "code",
   "execution_count": 8,
   "metadata": {},
   "outputs": [],
   "source": [
    "from sasctl._services.model_management import ModelManagement as mm\n",
    "\n",
    "perf_task = mm.create_performance_definition(table_prefix=\"hmeqperf\", project=\"HMEQModels\", scoring_required=True)"
   ]
  },
  {
   "cell_type": "code",
   "execution_count": 9,
   "metadata": {},
   "outputs": [],
   "source": [
    "project = mr.get_project(\"HMEQModels\")\n",
    "\n",
    "perf_job = mm.execute_performance_definition(perf_task)"
   ]
  },
  {
   "cell_type": "markdown",
   "metadata": {},
   "source": [
    "Once the performance defintion is run, it is possible to update the hyperparameter json file to include the KPIs that have been generated. This is not a necessary step, but could be helpful when analyzing which hyperparameters lead to better KPIs."
   ]
  },
  {
   "cell_type": "code",
   "execution_count": 10,
   "metadata": {},
   "outputs": [
    {
     "name": "stderr",
     "output_type": "stream",
     "text": [
      "~\\sasctl\\pzmm\\model_parameters.py:251: DeprecationWarning: distutils Version classes are deprecated. Use packaging.version instead.\n",
      "  if pd.__version__ >= StrictVersion(\"1.0.3\"):\n"
     ]
    },
    {
     "name": "stdout",
     "output_type": "stream",
     "text": [
      "No hyperparameter file for current model GradientBoosting. Attempting for next model...\n",
      "No hyperparameter file for current model RandomForest. Attempting for next model...\n"
     ]
    }
   ],
   "source": [
    "mp.update_kpis(\"HMEQModels\")"
   ]
  },
  {
   "cell_type": "markdown",
   "metadata": {},
   "source": [
    "### Custom KPIs\n",
    "It is also possible to generate custom key performance indicators and pass them up to SAS Model Manager. Below, using the same data sets as were used in the SAS performance definition, the recall score is calculated, and then passed up to the KPI table in SAS Model Manager."
   ]
  },
  {
   "cell_type": "code",
   "execution_count": 11,
   "metadata": {},
   "outputs": [
    {
     "name": "stdout",
     "output_type": "stream",
     "text": [
      "[0.47701149425287354, 0.304921968787515, 0.24622641509433962, 0.21799561082662766]\n",
      "Uploading custom kpis to SAS Viya...\n"
     ]
    },
    {
     "data": {
      "text/plain": [
       "[<class 'sasctl.core.RestObj'>(headers={}, data={'name': 'TimeSK', 'value': '4', 'systemKPIFlag': True}), <class 'sasctl.core.RestObj'>(headers={}, data={'name': 'TimeLabel', 'value': 'Q4', 'systemKPIFlag': True}), <class 'sasctl.core.RestObj'>(headers={}, data={'name': 'ProjectUUID', 'value': '7a6dfcc7-8356-4809-92d2-1725569cdab1', 'systemKPIFlag': True}), <class 'sasctl.core.RestObj'>(headers={}, data={'name': 'ModelName', 'value': 'DecisionTreeClassifier', 'systemKPIFlag': True}), <class 'sasctl.core.RestObj'>(headers={}, data={'name': 'ModelUUID', 'value': '4ff0e60b-4177-487c-b1ca-d78ac4812be4', 'systemKPIFlag': True}), <class 'sasctl.core.RestObj'>(headers={}, data={'name': 'ModelFlag', 'value': '-1', 'systemKPIFlag': True}), <class 'sasctl.core.RestObj'>(headers={}, data={'name': '_AUC_', 'value': '0.4123305448', 'systemKPIFlag': True}), <class 'sasctl.core.RestObj'>(headers={}, data={'name': '_F1_', 'value': '0.344488189', 'systemKPIFlag': True}), <class 'sasctl.core.RestObj'>(headers={}, data={'name': '_TPR_', 'value': '1', 'systemKPIFlag': True}), <class 'sasctl.core.RestObj'>(headers={}, data={'name': '_FPR_', 'value': '1', 'systemKPIFlag': True}), <class 'sasctl.core.RestObj'>(headers={}, data={'name': '_MISC_', 'value': '0.6822235434', 'systemKPIFlag': True}), <class 'sasctl.core.RestObj'>(headers={}, data={'name': '_ASE_', 'value': '0.6822235434', 'systemKPIFlag': True}), <class 'sasctl.core.RestObj'>(headers={}, data={'name': '_Cumlift5_', 'value': '0.8091228488', 'systemKPIFlag': True}), <class 'sasctl.core.RestObj'>(headers={}, data={'name': '_Cumlift10_', 'value': '0.8091228488', 'systemKPIFlag': True}), <class 'sasctl.core.RestObj'>(headers={}, data={'name': '_Cumlift15_', 'value': '0.8091228488', 'systemKPIFlag': True}), <class 'sasctl.core.RestObj'>(headers={}, data={'name': '_Cumlift20_', 'value': '0.8091228488', 'systemKPIFlag': True}), <class 'sasctl.core.RestObj'>(headers={}, data={'name': '_Cumlift30_', 'value': '0.8091228488', 'systemKPIFlag': True}), <class 'sasctl.core.RestObj'>(headers={}, data={'name': '_RSquared_', 'value': 'null', 'systemKPIFlag': True}), <class 'sasctl.core.RestObj'>(headers={}, data={'name': 'Datetime', 'value': '03Apr2023:19:05:34', 'systemKPIFlag': True}), <class 'sasctl.core.RestObj'>(headers={}, data={'name': '_MICRO_AVG_F1_', 'value': 'null', 'systemKPIFlag': False}), <class 'sasctl.core.RestObj'>(headers={}, data={'name': '_MACRO_AVG_F1_', 'value': 'null', 'systemKPIFlag': False}), <class 'sasctl.core.RestObj'>(headers={}, data={'name': '_WEIGHTED_AVG_F1_', 'value': 'null', 'systemKPIFlag': False}), <class 'sasctl.core.RestObj'>(headers={}, data={'name': '_GLOBAL_ACCURACY_', 'value': 'null', 'systemKPIFlag': False}), <class 'sasctl.core.RestObj'>(headers={}, data={'name': 'jaccard', 'value': '0.2179956108', 'systemKPIFlag': False})]"
      ]
     },
     "execution_count": 11,
     "metadata": {},
     "output_type": "execute_result"
    }
   ],
   "source": [
    "from sklearn.metrics import jaccard_score\n",
    "\n",
    "predictor_columns = [\"LOAN\", \"MORTDUE\", \"VALUE\", \"YOJ\", \"DEROG\", \"DELINQ\", \"CLAGE\", \"NINQ\", \"CLNO\", \"DEBTINC\"]\n",
    "target_column = \"BAD\"\n",
    "\n",
    "jaccard_list = list()\n",
    "time_labels = list()\n",
    "time_sks = list()\n",
    "name = [\"jaccard\" for x in range(4)]\n",
    "\n",
    "for x in range(1, 5):\n",
    "    test_data = pd.read_csv(f\"data/HMEQPERF_{x}_Q{x}.csv\")\n",
    "    x_test = test_data[predictor_columns]\n",
    "    y_test = test_data[target_column]\n",
    "    test_data_predictions = tree_model.predict(x_test)\n",
    "    jaccard = jaccard_score(y_test, test_data_predictions)\n",
    "    jaccard_list.append(jaccard)\n",
    "    time_labels.append(f\"Q{x}\")\n",
    "    time_sks.append(x)\n",
    "\n",
    "print(jaccard_list)\n",
    "\n",
    "#TODO: allow option to add multiple of same custom KPI\n",
    "model = mr.get_model(model_name)\n",
    "mm.create_custom_kpi(\n",
    "    model=model.id,\n",
    "    project=\"HMEQModels\",\n",
    "    kpiName=name,\n",
    "    kpiValue=jaccard_list,\n",
    "    timeLabel=time_labels,\n",
    "    timeSK=time_sks\n",
    ")"
   ]
  },
  {
   "cell_type": "markdown",
   "metadata": {},
   "source": [
    "Once the KPIs have been generated, the hyperparameter file can updated, and the new KPIs will appear in the file."
   ]
  },
  {
   "cell_type": "code",
   "execution_count": 12,
   "metadata": {},
   "outputs": [
    {
     "name": "stderr",
     "output_type": "stream",
     "text": [
      "~\\sasctl\\pzmm\\model_parameters.py:251: DeprecationWarning: distutils Version classes are deprecated. Use packaging.version instead.\n",
      "  if pd.__version__ >= StrictVersion(\"1.0.3\"):\n"
     ]
    },
    {
     "name": "stdout",
     "output_type": "stream",
     "text": [
      "No hyperparameter file for current model GradientBoosting. Attempting for next model...\n",
      "No hyperparameter file for current model RandomForest. Attempting for next model...\n",
      "[\n",
      "    {\n",
      "        \"hyperparameters\": {\n",
      "            \"ccp_alpha\": 0.0,\n",
      "            \"class_weight\": null,\n",
      "            \"criterion\": \"gini\",\n",
      "            \"max_depth\": null,\n",
      "            \"max_features\": null,\n",
      "            \"max_leaf_nodes\": null,\n",
      "            \"min_impurity_decrease\": 0.0,\n",
      "            \"min_impurity_split\": null,\n",
      "            \"min_samples_leaf\": 1,\n",
      "            \"min_samples_split\": 2,\n",
      "            \"min_weight_fraction_leaf\": 0.0,\n",
      "            \"presort\": \"deprecated\",\n",
      "            \"random_state\": 42,\n",
      "            \"splitter\": \"best\",\n",
      "            \"example\": 1\n",
      "        },\n",
      "        \"kpis\": {\n",
      "            \"Q1\": {\n",
      "                \"TimeSK\": \"1\",\n",
      "                \"ProjectUUID\": \"7a6dfcc7-8356-4809-92d2-1725569cdab1\",\n",
      "                \"ModelName\": \"DecisionTreeClassifier\",\n",
      "                \"ModelFlag\": \"-1\",\n",
      "                \"_AUC_\": \"0.1803248068\",\n",
      "                \"_F1_\": \"0.1928552243\",\n",
      "                \"_TPR_\": \"1\",\n",
      "                \"_FPR_\": \"1\",\n",
      "                \"_MISC_\": \"0.9188466112\",\n",
      "                \"_ASE_\": \"0.9188466112\",\n",
      "                \"_Cumlift5_\": \"0.3508315027\",\n",
      "                \"_Cumlift10_\": \"0.3508315027\",\n",
      "                \"_Cumlift15_\": \"0.3508315027\",\n",
      "                \"_Cumlift20_\": \"0.3508315027\",\n",
      "                \"_Cumlift30_\": \"0.3508315027\",\n",
      "                \"_RSquared_\": null,\n",
      "                \"Datetime\": \"03Apr2023:19:05:34\",\n",
      "                \"_MICRO_AVG_F1_\": null,\n",
      "                \"_MACRO_AVG_F1_\": null,\n",
      "                \"_WEIGHTED_AVG_F1_\": null,\n",
      "                \"_GLOBAL_ACCURACY_\": null,\n",
      "                \"jaccard\": \"0.4770114943\"\n",
      "            },\n",
      "            \"Q2\": {\n",
      "                \"TimeSK\": \"2\",\n",
      "                \"ProjectUUID\": \"7a6dfcc7-8356-4809-92d2-1725569cdab1\",\n",
      "                \"ModelName\": \"DecisionTreeClassifier\",\n",
      "                \"ModelFlag\": \"-1\",\n",
      "                \"_AUC_\": \"0.2989680477\",\n",
      "                \"_F1_\": \"0.2524675325\",\n",
      "                \"_TPR_\": \"1\",\n",
      "                \"_FPR_\": \"1\",\n",
      "                \"_MISC_\": \"0.8278834721\",\n",
      "                \"_ASE_\": \"0.8278834721\",\n",
      "                \"_Cumlift5_\": \"0.5839659582\",\n",
      "                \"_Cumlift10_\": \"0.5839659582\",\n",
      "                \"_Cumlift15_\": \"0.5839659582\",\n",
      "                \"_Cumlift20_\": \"0.5839659582\",\n",
      "                \"_Cumlift30_\": \"0.5839659582\",\n",
      "                \"_RSquared_\": null,\n",
      "                \"Datetime\": \"03Apr2023:19:05:34\",\n",
      "                \"_MICRO_AVG_F1_\": null,\n",
      "                \"_MACRO_AVG_F1_\": null,\n",
      "                \"_WEIGHTED_AVG_F1_\": null,\n",
      "                \"_GLOBAL_ACCURACY_\": null,\n",
      "                \"jaccard\": \"0.3049219688\"\n",
      "            },\n",
      "            \"Q3\": {\n",
      "                \"TimeSK\": \"3\",\n",
      "                \"ProjectUUID\": \"7a6dfcc7-8356-4809-92d2-1725569cdab1\",\n",
      "                \"ModelName\": \"DecisionTreeClassifier\",\n",
      "                \"ModelFlag\": \"-1\",\n",
      "                \"_AUC_\": \"0.3563914522\",\n",
      "                \"_F1_\": \"0.2858598726\",\n",
      "                \"_TPR_\": \"1\",\n",
      "                \"_FPR_\": \"1\",\n",
      "                \"_MISC_\": \"0.7624851367\",\n",
      "                \"_ASE_\": \"0.7624851367\",\n",
      "                \"_Cumlift5_\": \"0.6941192899\",\n",
      "                \"_Cumlift10_\": \"0.6941192899\",\n",
      "                \"_Cumlift15_\": \"0.6941192899\",\n",
      "                \"_Cumlift20_\": \"0.6941192899\",\n",
      "                \"_Cumlift30_\": \"0.6941192899\",\n",
      "                \"_RSquared_\": null,\n",
      "                \"Datetime\": \"03Apr2023:19:05:34\",\n",
      "                \"_MICRO_AVG_F1_\": null,\n",
      "                \"_MACRO_AVG_F1_\": null,\n",
      "                \"_WEIGHTED_AVG_F1_\": null,\n",
      "                \"_GLOBAL_ACCURACY_\": null,\n",
      "                \"jaccard\": \"0.2462264151\"\n",
      "            },\n",
      "            \"Q4\": {\n",
      "                \"TimeSK\": \"4\",\n",
      "                \"ProjectUUID\": \"7a6dfcc7-8356-4809-92d2-1725569cdab1\",\n",
      "                \"ModelName\": \"DecisionTreeClassifier\",\n",
      "                \"ModelFlag\": \"-1\",\n",
      "                \"_AUC_\": \"0.4123305448\",\n",
      "                \"_F1_\": \"0.344488189\",\n",
      "                \"_TPR_\": \"1\",\n",
      "                \"_FPR_\": \"1\",\n",
      "                \"_MISC_\": \"0.6822235434\",\n",
      "                \"_ASE_\": \"0.6822235434\",\n",
      "                \"_Cumlift5_\": \"0.8091228488\",\n",
      "                \"_Cumlift10_\": \"0.8091228488\",\n",
      "                \"_Cumlift15_\": \"0.8091228488\",\n",
      "                \"_Cumlift20_\": \"0.8091228488\",\n",
      "                \"_Cumlift30_\": \"0.8091228488\",\n",
      "                \"_RSquared_\": null,\n",
      "                \"Datetime\": \"03Apr2023:19:05:34\",\n",
      "                \"_MICRO_AVG_F1_\": null,\n",
      "                \"_MACRO_AVG_F1_\": null,\n",
      "                \"_WEIGHTED_AVG_F1_\": null,\n",
      "                \"_GLOBAL_ACCURACY_\": null,\n",
      "                \"jaccard\": \"0.2179956108\"\n",
      "            }\n",
      "        }\n",
      "    },\n",
      "    \"DecisionTreeClassifierHyperparameters.json\"\n",
      "]\n"
     ]
    }
   ],
   "source": [
    "import json\n",
    "\n",
    "mp.update_kpis(\"HMEQModels\")\n",
    "\n",
    "hyperparameters = mp.get_hyperparameters(model_name)\n",
    "\n",
    "print(json.dumps(hyperparameters, indent=4))"
   ]
  },
  {
   "cell_type": "code",
   "execution_count": null,
   "metadata": {},
   "outputs": [],
   "source": []
  }
 ],
 "metadata": {
  "kernelspec": {
   "display_name": "dev-py38",
   "language": "python",
   "name": "dev-py38"
  },
  "language_info": {
   "codemirror_mode": {
    "name": "ipython",
    "version": 3
   },
   "file_extension": ".py",
   "mimetype": "text/x-python",
   "name": "python",
   "nbconvert_exporter": "python",
   "pygments_lexer": "ipython3",
   "version": "3.8.16"
  }
 },
 "nbformat": 4,
 "nbformat_minor": 4
}
