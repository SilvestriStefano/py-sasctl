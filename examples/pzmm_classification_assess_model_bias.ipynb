{
 "cells": [
  {
   "cell_type": "markdown",
   "source": [
    "Copyright © 2023, SAS Institute Inc., Cary, NC, USA.  All Rights Reserved.\n",
    "SPDX-License-Identifier: Apache-2.0"
   ],
   "metadata": {
    "collapsed": false
   }
  },
  {
   "cell_type": "markdown",
   "source": [
    "# Titanic Dataset : Assess Bias of Classification Models\n",
    "\n",
    "This notebook provides an example of how to assess model bias for python models using the titanic dataset. The function produces JSON files that can be uploaded into Model Manager (on either SAS Viya or SAS Viya 4). Lines of code that must be modified by the user, such as directory paths or the host server are noted with the comment \"_Changes required by user._\".\n",
    "\n",
    "_**Note:** If you download only this notebook and not the rest of the repository, you must also download the titanic.csv file from the data folder in the examples directory. These files are used when executing this notebook example._\n",
    "\n",
    "Here are the steps shown in this notebook:\n",
    "\n",
    "1. Import, review, and preprocess data for model training.\n",
    "2. Build, train, and assess a scikit-learn decision tree, random forest, and gradient boosting model.\n",
    "3. Create score tables for each model using the test data.\n",
    "4. Call `assess_model_bias()` to create JSON files and return relevant data frames.\n",
    "5. Review data frames from assess bias function and generate graphics similar to Model Studio.\n",
    "6. Run through 1-5 again but with a multi-classification model."
   ],
   "metadata": {
    "collapsed": false
   }
  },
  {
   "cell_type": "markdown",
   "source": [
    "## Import Modules"
   ],
   "metadata": {
    "collapsed": false
   }
  },
  {
   "cell_type": "code",
   "execution_count": null,
   "outputs": [],
   "source": [
    "from sasctl import Session\n",
    "import sasctl.pzmm as pzmm\n",
    "from sklearn.model_selection import train_test_split\n",
    "from sklearn.ensemble import GradientBoostingClassifier, RandomForestClassifier\n",
    "from sklearn.tree import DecisionTreeClassifier\n",
    "from sklearn.metrics import classification_report, confusion_matrix\n",
    "import pandas as pd\n",
    "from pathlib import Path\n",
    "import seaborn as sns\n",
    "import numpy as np\n",
    "import matplotlib.pyplot as plt"
   ],
   "metadata": {
    "collapsed": false
   }
  },
  {
   "cell_type": "markdown",
   "source": [
    "## Load and Pre-process Data"
   ],
   "metadata": {
    "collapsed": false
   }
  },
  {
   "cell_type": "code",
   "execution_count": 2,
   "outputs": [
    {
     "data": {
      "text/plain": "   PassengerId  Survived  Pclass      Lname  \\\n0            1         0       3     Braund   \n1            2         1       1    Cumings   \n2            3         1       3  Heikkinen   \n3            4         1       1   Futrelle   \n4            5         0       3      Allen   \n\n                                          Name     Sex   Age  SibSp  Parch  \\\n0                              Mr. Owen Harris    male  22.0      1      0   \n1   Mrs. John Bradley (Florence Briggs Thayer)  female  38.0      1      0   \n2                                  Miss. Laina  female  26.0      0      0   \n3           Mrs. Jacques Heath (Lily May Peel)  female  35.0      1      0   \n4                            Mr. William Henry    male  35.0      0      0   \n\n             Ticket     Fare Cabin Embarked  \n0         A/5 21171   7.2500   NaN        S  \n1          PC 17599  71.2833   C85        C  \n2  STON/O2. 3101282   7.9250   NaN        S  \n3            113803  53.1000  C123        S  \n4            373450   8.0500   NaN        S  ",
      "text/html": "<div>\n<style scoped>\n    .dataframe tbody tr th:only-of-type {\n        vertical-align: middle;\n    }\n\n    .dataframe tbody tr th {\n        vertical-align: top;\n    }\n\n    .dataframe thead th {\n        text-align: right;\n    }\n</style>\n<table border=\"1\" class=\"dataframe\">\n  <thead>\n    <tr style=\"text-align: right;\">\n      <th></th>\n      <th>PassengerId</th>\n      <th>Survived</th>\n      <th>Pclass</th>\n      <th>Lname</th>\n      <th>Name</th>\n      <th>Sex</th>\n      <th>Age</th>\n      <th>SibSp</th>\n      <th>Parch</th>\n      <th>Ticket</th>\n      <th>Fare</th>\n      <th>Cabin</th>\n      <th>Embarked</th>\n    </tr>\n  </thead>\n  <tbody>\n    <tr>\n      <th>0</th>\n      <td>1</td>\n      <td>0</td>\n      <td>3</td>\n      <td>Braund</td>\n      <td>Mr. Owen Harris</td>\n      <td>male</td>\n      <td>22.0</td>\n      <td>1</td>\n      <td>0</td>\n      <td>A/5 21171</td>\n      <td>7.2500</td>\n      <td>NaN</td>\n      <td>S</td>\n    </tr>\n    <tr>\n      <th>1</th>\n      <td>2</td>\n      <td>1</td>\n      <td>1</td>\n      <td>Cumings</td>\n      <td>Mrs. John Bradley (Florence Briggs Thayer)</td>\n      <td>female</td>\n      <td>38.0</td>\n      <td>1</td>\n      <td>0</td>\n      <td>PC 17599</td>\n      <td>71.2833</td>\n      <td>C85</td>\n      <td>C</td>\n    </tr>\n    <tr>\n      <th>2</th>\n      <td>3</td>\n      <td>1</td>\n      <td>3</td>\n      <td>Heikkinen</td>\n      <td>Miss. Laina</td>\n      <td>female</td>\n      <td>26.0</td>\n      <td>0</td>\n      <td>0</td>\n      <td>STON/O2. 3101282</td>\n      <td>7.9250</td>\n      <td>NaN</td>\n      <td>S</td>\n    </tr>\n    <tr>\n      <th>3</th>\n      <td>4</td>\n      <td>1</td>\n      <td>1</td>\n      <td>Futrelle</td>\n      <td>Mrs. Jacques Heath (Lily May Peel)</td>\n      <td>female</td>\n      <td>35.0</td>\n      <td>1</td>\n      <td>0</td>\n      <td>113803</td>\n      <td>53.1000</td>\n      <td>C123</td>\n      <td>S</td>\n    </tr>\n    <tr>\n      <th>4</th>\n      <td>5</td>\n      <td>0</td>\n      <td>3</td>\n      <td>Allen</td>\n      <td>Mr. William Henry</td>\n      <td>male</td>\n      <td>35.0</td>\n      <td>0</td>\n      <td>0</td>\n      <td>373450</td>\n      <td>8.0500</td>\n      <td>NaN</td>\n      <td>S</td>\n    </tr>\n  </tbody>\n</table>\n</div>"
     },
     "execution_count": 2,
     "metadata": {},
     "output_type": "execute_result"
    }
   ],
   "source": [
    "df_raw = pd.read_csv('data/titanic.csv')\n",
    "df_raw.head()"
   ],
   "metadata": {
    "collapsed": false,
    "ExecuteTime": {
     "end_time": "2023-07-05T11:43:10.165576600Z",
     "start_time": "2023-07-05T11:43:10.008417500Z"
    }
   }
  },
  {
   "cell_type": "code",
   "execution_count": 3,
   "outputs": [
    {
     "data": {
      "text/plain": "Sex\nmale      100\nfemale     56\nName: count, dtype: int64"
     },
     "execution_count": 3,
     "metadata": {},
     "output_type": "execute_result"
    }
   ],
   "source": [
    "df_raw['Sex'].value_counts()"
   ],
   "metadata": {
    "collapsed": false,
    "ExecuteTime": {
     "end_time": "2023-07-05T11:43:10.650611500Z",
     "start_time": "2023-07-05T11:43:10.618601700Z"
    }
   }
  },
  {
   "cell_type": "code",
   "execution_count": 85,
   "outputs": [],
   "source": [
    "# summary statistics for survival by gender\n",
    "sns.histplot(x=df_raw['Sex'], hue=df_raw['Survived'].astype(str), multiple=\"stack\", stat=\"percent\")\n",
    "df_raw[['Sex', 'Survived']].groupby('Sex').value_counts(normalize=True).to_frame()"
   ],
   "metadata": {
    "collapsed": false
   }
  },
  {
   "cell_type": "code",
   "execution_count": 5,
   "outputs": [],
   "source": [
    "# pre-processing data\n",
    "columns = ['Survived', 'Pclass', 'Sex', 'Age', 'SibSp', 'Parch', 'Fare', 'Embarked']\n",
    "df = df_raw[columns].dropna()\n",
    "df = pd.get_dummies(df, columns=['Sex', 'Pclass', 'Embarked'])\n",
    "df = df.drop(['Sex_male', 'Pclass_3', 'Embarked_S'], axis = 1)"
   ],
   "metadata": {
    "collapsed": false,
    "ExecuteTime": {
     "end_time": "2023-07-05T11:43:11.940089900Z",
     "start_time": "2023-07-05T11:43:11.908331900Z"
    }
   }
  },
  {
   "cell_type": "code",
   "execution_count": 6,
   "outputs": [
    {
     "data": {
      "text/plain": "   Survived   Age  SibSp  Parch     Fare  Sex_female  Pclass_1  Pclass_2  \\\n0         0  22.0      1      0   7.2500       False     False     False   \n1         1  38.0      1      0  71.2833        True      True     False   \n2         1  26.0      0      0   7.9250        True     False     False   \n3         1  35.0      1      0  53.1000        True      True     False   \n4         0  35.0      0      0   8.0500       False     False     False   \n\n   Embarked_C  Embarked_Q  \n0       False       False  \n1        True       False  \n2       False       False  \n3       False       False  \n4       False       False  ",
      "text/html": "<div>\n<style scoped>\n    .dataframe tbody tr th:only-of-type {\n        vertical-align: middle;\n    }\n\n    .dataframe tbody tr th {\n        vertical-align: top;\n    }\n\n    .dataframe thead th {\n        text-align: right;\n    }\n</style>\n<table border=\"1\" class=\"dataframe\">\n  <thead>\n    <tr style=\"text-align: right;\">\n      <th></th>\n      <th>Survived</th>\n      <th>Age</th>\n      <th>SibSp</th>\n      <th>Parch</th>\n      <th>Fare</th>\n      <th>Sex_female</th>\n      <th>Pclass_1</th>\n      <th>Pclass_2</th>\n      <th>Embarked_C</th>\n      <th>Embarked_Q</th>\n    </tr>\n  </thead>\n  <tbody>\n    <tr>\n      <th>0</th>\n      <td>0</td>\n      <td>22.0</td>\n      <td>1</td>\n      <td>0</td>\n      <td>7.2500</td>\n      <td>False</td>\n      <td>False</td>\n      <td>False</td>\n      <td>False</td>\n      <td>False</td>\n    </tr>\n    <tr>\n      <th>1</th>\n      <td>1</td>\n      <td>38.0</td>\n      <td>1</td>\n      <td>0</td>\n      <td>71.2833</td>\n      <td>True</td>\n      <td>True</td>\n      <td>False</td>\n      <td>True</td>\n      <td>False</td>\n    </tr>\n    <tr>\n      <th>2</th>\n      <td>1</td>\n      <td>26.0</td>\n      <td>0</td>\n      <td>0</td>\n      <td>7.9250</td>\n      <td>True</td>\n      <td>False</td>\n      <td>False</td>\n      <td>False</td>\n      <td>False</td>\n    </tr>\n    <tr>\n      <th>3</th>\n      <td>1</td>\n      <td>35.0</td>\n      <td>1</td>\n      <td>0</td>\n      <td>53.1000</td>\n      <td>True</td>\n      <td>True</td>\n      <td>False</td>\n      <td>False</td>\n      <td>False</td>\n    </tr>\n    <tr>\n      <th>4</th>\n      <td>0</td>\n      <td>35.0</td>\n      <td>0</td>\n      <td>0</td>\n      <td>8.0500</td>\n      <td>False</td>\n      <td>False</td>\n      <td>False</td>\n      <td>False</td>\n      <td>False</td>\n    </tr>\n  </tbody>\n</table>\n</div>"
     },
     "execution_count": 6,
     "metadata": {},
     "output_type": "execute_result"
    }
   ],
   "source": [
    "df.head()"
   ],
   "metadata": {
    "collapsed": false,
    "ExecuteTime": {
     "end_time": "2023-07-05T11:43:12.813141600Z",
     "start_time": "2023-07-05T11:43:12.781774800Z"
    }
   }
  },
  {
   "cell_type": "markdown",
   "source": [
    "## Train Python Models"
   ],
   "metadata": {
    "collapsed": false
   }
  },
  {
   "cell_type": "code",
   "execution_count": 24,
   "outputs": [],
   "source": [
    "features = df.drop('Survived', axis=1).columns\n",
    "target = 'Survived'\n",
    "\n",
    "X_train, X_test, Y_train, Y_test = train_test_split(df[features], df[target], train_size=0.6, test_size=0.4,\n",
    "                                                    random_state=42)"
   ],
   "metadata": {
    "collapsed": false,
    "ExecuteTime": {
     "end_time": "2023-07-05T13:32:11.380899600Z",
     "start_time": "2023-07-05T13:32:11.352897600Z"
    }
   }
  },
  {
   "cell_type": "code",
   "execution_count": 25,
   "outputs": [
    {
     "data": {
      "text/plain": "GradientBoostingClassifier(random_state=42)",
      "text/html": "<style>#sk-container-id-2 {color: black;background-color: white;}#sk-container-id-2 pre{padding: 0;}#sk-container-id-2 div.sk-toggleable {background-color: white;}#sk-container-id-2 label.sk-toggleable__label {cursor: pointer;display: block;width: 100%;margin-bottom: 0;padding: 0.3em;box-sizing: border-box;text-align: center;}#sk-container-id-2 label.sk-toggleable__label-arrow:before {content: \"▸\";float: left;margin-right: 0.25em;color: #696969;}#sk-container-id-2 label.sk-toggleable__label-arrow:hover:before {color: black;}#sk-container-id-2 div.sk-estimator:hover label.sk-toggleable__label-arrow:before {color: black;}#sk-container-id-2 div.sk-toggleable__content {max-height: 0;max-width: 0;overflow: hidden;text-align: left;background-color: #f0f8ff;}#sk-container-id-2 div.sk-toggleable__content pre {margin: 0.2em;color: black;border-radius: 0.25em;background-color: #f0f8ff;}#sk-container-id-2 input.sk-toggleable__control:checked~div.sk-toggleable__content {max-height: 200px;max-width: 100%;overflow: auto;}#sk-container-id-2 input.sk-toggleable__control:checked~label.sk-toggleable__label-arrow:before {content: \"▾\";}#sk-container-id-2 div.sk-estimator input.sk-toggleable__control:checked~label.sk-toggleable__label {background-color: #d4ebff;}#sk-container-id-2 div.sk-label input.sk-toggleable__control:checked~label.sk-toggleable__label {background-color: #d4ebff;}#sk-container-id-2 input.sk-hidden--visually {border: 0;clip: rect(1px 1px 1px 1px);clip: rect(1px, 1px, 1px, 1px);height: 1px;margin: -1px;overflow: hidden;padding: 0;position: absolute;width: 1px;}#sk-container-id-2 div.sk-estimator {font-family: monospace;background-color: #f0f8ff;border: 1px dotted black;border-radius: 0.25em;box-sizing: border-box;margin-bottom: 0.5em;}#sk-container-id-2 div.sk-estimator:hover {background-color: #d4ebff;}#sk-container-id-2 div.sk-parallel-item::after {content: \"\";width: 100%;border-bottom: 1px solid gray;flex-grow: 1;}#sk-container-id-2 div.sk-label:hover label.sk-toggleable__label {background-color: #d4ebff;}#sk-container-id-2 div.sk-serial::before {content: \"\";position: absolute;border-left: 1px solid gray;box-sizing: border-box;top: 0;bottom: 0;left: 50%;z-index: 0;}#sk-container-id-2 div.sk-serial {display: flex;flex-direction: column;align-items: center;background-color: white;padding-right: 0.2em;padding-left: 0.2em;position: relative;}#sk-container-id-2 div.sk-item {position: relative;z-index: 1;}#sk-container-id-2 div.sk-parallel {display: flex;align-items: stretch;justify-content: center;background-color: white;position: relative;}#sk-container-id-2 div.sk-item::before, #sk-container-id-2 div.sk-parallel-item::before {content: \"\";position: absolute;border-left: 1px solid gray;box-sizing: border-box;top: 0;bottom: 0;left: 50%;z-index: -1;}#sk-container-id-2 div.sk-parallel-item {display: flex;flex-direction: column;z-index: 1;position: relative;background-color: white;}#sk-container-id-2 div.sk-parallel-item:first-child::after {align-self: flex-end;width: 50%;}#sk-container-id-2 div.sk-parallel-item:last-child::after {align-self: flex-start;width: 50%;}#sk-container-id-2 div.sk-parallel-item:only-child::after {width: 0;}#sk-container-id-2 div.sk-dashed-wrapped {border: 1px dashed gray;margin: 0 0.4em 0.5em 0.4em;box-sizing: border-box;padding-bottom: 0.4em;background-color: white;}#sk-container-id-2 div.sk-label label {font-family: monospace;font-weight: bold;display: inline-block;line-height: 1.2em;}#sk-container-id-2 div.sk-label-container {text-align: center;}#sk-container-id-2 div.sk-container {/* jupyter's `normalize.less` sets `[hidden] { display: none; }` but bootstrap.min.css set `[hidden] { display: none !important; }` so we also need the `!important` here to be able to override the default hidden behavior on the sphinx rendered scikit-learn.org. See: https://github.com/scikit-learn/scikit-learn/issues/21755 */display: inline-block !important;position: relative;}#sk-container-id-2 div.sk-text-repr-fallback {display: none;}</style><div id=\"sk-container-id-2\" class=\"sk-top-container\"><div class=\"sk-text-repr-fallback\"><pre>GradientBoostingClassifier(random_state=42)</pre><b>In a Jupyter environment, please rerun this cell to show the HTML representation or trust the notebook. <br />On GitHub, the HTML representation is unable to render, please try loading this page with nbviewer.org.</b></div><div class=\"sk-container\" hidden><div class=\"sk-item\"><div class=\"sk-estimator sk-toggleable\"><input class=\"sk-toggleable__control sk-hidden--visually\" id=\"sk-estimator-id-2\" type=\"checkbox\" checked><label for=\"sk-estimator-id-2\" class=\"sk-toggleable__label sk-toggleable__label-arrow\">GradientBoostingClassifier</label><div class=\"sk-toggleable__content\"><pre>GradientBoostingClassifier(random_state=42)</pre></div></div></div></div></div>"
     },
     "execution_count": 25,
     "metadata": {},
     "output_type": "execute_result"
    }
   ],
   "source": [
    "dtc = DecisionTreeClassifier(random_state=42)\n",
    "rfc = RandomForestClassifier(random_state=42)\n",
    "gbc = GradientBoostingClassifier(random_state=42)\n",
    "\n",
    "dtc.fit(X_train, Y_train)\n",
    "rfc.fit(X_train, Y_train)\n",
    "gbc.fit(X_train, Y_train)"
   ],
   "metadata": {
    "collapsed": false,
    "ExecuteTime": {
     "end_time": "2023-07-05T13:32:13.420206800Z",
     "start_time": "2023-07-05T13:32:13.002495Z"
    }
   }
  },
  {
   "cell_type": "markdown",
   "source": [
    "## Assess Models"
   ],
   "metadata": {
    "collapsed": false
   }
  },
  {
   "cell_type": "code",
   "execution_count": 26,
   "outputs": [],
   "source": [
    "# Calculate the importance of a predictor\n",
    "def sort_feature_importance(model, data):\n",
    "    features = {}\n",
    "    for importance, name in sorted(zip(model.feature_importances_, data.columns), reverse=True):\n",
    "        features[name] = str(np.round(importance*100, 2)) + \"%\"\n",
    "    return features"
   ],
   "metadata": {
    "collapsed": false,
    "ExecuteTime": {
     "end_time": "2023-07-05T13:32:14.996467900Z",
     "start_time": "2023-07-05T13:32:14.975581Z"
    }
   }
  },
  {
   "cell_type": "code",
   "execution_count": 27,
   "outputs": [
    {
     "data": {
      "text/plain": "           DecisionTree RandomForest GradientBoosting\nSex_female       30.81%       23.55%           32.54%\nAge              22.01%       25.76%           22.19%\nFare             21.69%       24.34%           20.77%\nSibSp            13.67%         9.8%           17.94%\nPclass_2          8.93%        5.11%            5.01%\nPclass_1          2.89%        3.89%             0.8%\nParch              0.0%        3.29%            0.13%\nEmbarked_Q         0.0%        0.63%            0.23%\nEmbarked_C         0.0%        3.63%            0.38%",
      "text/html": "<div>\n<style scoped>\n    .dataframe tbody tr th:only-of-type {\n        vertical-align: middle;\n    }\n\n    .dataframe tbody tr th {\n        vertical-align: top;\n    }\n\n    .dataframe thead th {\n        text-align: right;\n    }\n</style>\n<table border=\"1\" class=\"dataframe\">\n  <thead>\n    <tr style=\"text-align: right;\">\n      <th></th>\n      <th>DecisionTree</th>\n      <th>RandomForest</th>\n      <th>GradientBoosting</th>\n    </tr>\n  </thead>\n  <tbody>\n    <tr>\n      <th>Sex_female</th>\n      <td>30.81%</td>\n      <td>23.55%</td>\n      <td>32.54%</td>\n    </tr>\n    <tr>\n      <th>Age</th>\n      <td>22.01%</td>\n      <td>25.76%</td>\n      <td>22.19%</td>\n    </tr>\n    <tr>\n      <th>Fare</th>\n      <td>21.69%</td>\n      <td>24.34%</td>\n      <td>20.77%</td>\n    </tr>\n    <tr>\n      <th>SibSp</th>\n      <td>13.67%</td>\n      <td>9.8%</td>\n      <td>17.94%</td>\n    </tr>\n    <tr>\n      <th>Pclass_2</th>\n      <td>8.93%</td>\n      <td>5.11%</td>\n      <td>5.01%</td>\n    </tr>\n    <tr>\n      <th>Pclass_1</th>\n      <td>2.89%</td>\n      <td>3.89%</td>\n      <td>0.8%</td>\n    </tr>\n    <tr>\n      <th>Parch</th>\n      <td>0.0%</td>\n      <td>3.29%</td>\n      <td>0.13%</td>\n    </tr>\n    <tr>\n      <th>Embarked_Q</th>\n      <td>0.0%</td>\n      <td>0.63%</td>\n      <td>0.23%</td>\n    </tr>\n    <tr>\n      <th>Embarked_C</th>\n      <td>0.0%</td>\n      <td>3.63%</td>\n      <td>0.38%</td>\n    </tr>\n  </tbody>\n</table>\n</div>"
     },
     "execution_count": 27,
     "metadata": {},
     "output_type": "execute_result"
    }
   ],
   "source": [
    "importances = pd.DataFrame.from_dict(sort_feature_importance(dtc, X_train), orient=\"index\").rename(columns={0: \"DecisionTree\"})\n",
    "importances[\"RandomForest\"] = pd.DataFrame.from_dict(sort_feature_importance(rfc, X_train), orient=\"index\")\n",
    "importances[\"GradientBoosting\"] = pd.DataFrame.from_dict(sort_feature_importance(gbc, X_train), orient=\"index\")\n",
    "importances"
   ],
   "metadata": {
    "collapsed": false,
    "ExecuteTime": {
     "end_time": "2023-07-05T13:32:16.871189500Z",
     "start_time": "2023-07-05T13:32:16.827991200Z"
    }
   }
  },
  {
   "cell_type": "code",
   "execution_count": 11,
   "outputs": [
    {
     "name": "stdout",
     "output_type": "stream",
     "text": [
      "[[26  3]\n",
      " [ 5  4]]\n",
      "              precision    recall  f1-score   support\n",
      "\n",
      "           0       0.84      0.90      0.87        29\n",
      "           1       0.57      0.44      0.50         9\n",
      "\n",
      "    accuracy                           0.79        38\n",
      "   macro avg       0.71      0.67      0.68        38\n",
      "weighted avg       0.78      0.79      0.78        38\n",
      "\n",
      "Decision Tree Model Accuracy = 78.95%\n"
     ]
    }
   ],
   "source": [
    "# assess model fit\n",
    "y_dtc_predict = dtc.predict(X_test)\n",
    "y_dtc_proba = dtc.predict_proba(X_test)\n",
    "print(confusion_matrix(Y_test, y_dtc_predict))\n",
    "print(classification_report(Y_test, y_dtc_predict))\n",
    "print(\"Decision Tree Model Accuracy = \" + str(np.round(dtc.score(X_test, Y_test)*100,2)) + \"%\")"
   ],
   "metadata": {
    "collapsed": false,
    "ExecuteTime": {
     "end_time": "2023-07-05T11:41:05.215955Z",
     "start_time": "2023-07-05T11:41:05.128054500Z"
    }
   }
  },
  {
   "cell_type": "code",
   "execution_count": 12,
   "outputs": [
    {
     "name": "stdout",
     "output_type": "stream",
     "text": [
      "[[26  3]\n",
      " [ 5  4]]\n",
      "              precision    recall  f1-score   support\n",
      "\n",
      "           0       0.84      0.90      0.87        29\n",
      "           1       0.57      0.44      0.50         9\n",
      "\n",
      "    accuracy                           0.79        38\n",
      "   macro avg       0.71      0.67      0.68        38\n",
      "weighted avg       0.78      0.79      0.78        38\n",
      "\n",
      "Random Forest Model Accuracy = 78.95%\n"
     ]
    }
   ],
   "source": [
    "y_rfc_predict = rfc.predict(X_test)\n",
    "y_rfc_proba = rfc.predict_proba(X_test)\n",
    "print(confusion_matrix(Y_test, y_rfc_predict))\n",
    "print(classification_report(Y_test, y_rfc_predict))\n",
    "print(\"Random Forest Model Accuracy = \" + str(np.round(rfc.score(X_test, Y_test)*100,2)) + \"%\")"
   ],
   "metadata": {
    "collapsed": false,
    "ExecuteTime": {
     "end_time": "2023-07-05T11:41:06.843905600Z",
     "start_time": "2023-07-05T11:41:06.527771Z"
    }
   }
  },
  {
   "cell_type": "code",
   "execution_count": 13,
   "outputs": [
    {
     "name": "stdout",
     "output_type": "stream",
     "text": [
      "[[25  4]\n",
      " [ 5  4]]\n",
      "              precision    recall  f1-score   support\n",
      "\n",
      "           0       0.83      0.86      0.85        29\n",
      "           1       0.50      0.44      0.47         9\n",
      "\n",
      "    accuracy                           0.76        38\n",
      "   macro avg       0.67      0.65      0.66        38\n",
      "weighted avg       0.75      0.76      0.76        38\n",
      "\n",
      "Gradient Boosting Model Accuracy = 76.32%\n"
     ]
    }
   ],
   "source": [
    "y_gbc_predict = gbc.predict(X_test)\n",
    "y_gbc_proba = gbc.predict_proba(X_test)\n",
    "print(confusion_matrix(Y_test, y_gbc_predict))\n",
    "print(classification_report(Y_test, y_gbc_predict))\n",
    "print(\"Gradient Boosting Model Accuracy = \" + str(np.round(gbc.score(X_test, Y_test)*100,2)) + \"%\")"
   ],
   "metadata": {
    "collapsed": false,
    "ExecuteTime": {
     "end_time": "2023-07-05T11:41:07.743807700Z",
     "start_time": "2023-07-05T11:41:07.661464100Z"
    }
   }
  },
  {
   "cell_type": "markdown",
   "source": [
    "## Create Score Tables"
   ],
   "metadata": {
    "collapsed": false
   }
  },
  {
   "cell_type": "code",
   "execution_count": 28,
   "outputs": [],
   "source": [
    "# recreating sex variable\n",
    "sex = X_test['Sex_female'].apply(lambda x: 'female' if x else 'male')"
   ],
   "metadata": {
    "collapsed": false,
    "ExecuteTime": {
     "end_time": "2023-07-05T13:32:25.803362200Z",
     "start_time": "2023-07-05T13:32:25.771163300Z"
    }
   }
  },
  {
   "cell_type": "code",
   "execution_count": 29,
   "outputs": [],
   "source": [
    "def build_score_table(model):\n",
    "    score_data = {'P_Survived1': model.predict_proba(X_test)[:,1],\n",
    "                  'P_Survived0': model.predict_proba(X_test)[:,0],\n",
    "                  'Survived': Y_test.to_numpy(),\n",
    "                  'Sex': sex}\n",
    "    data = pd.DataFrame(score_data)\n",
    "    return data"
   ],
   "metadata": {
    "collapsed": false,
    "ExecuteTime": {
     "end_time": "2023-07-05T13:32:26.564624300Z",
     "start_time": "2023-07-05T13:32:26.559491400Z"
    }
   }
  },
  {
   "cell_type": "code",
   "execution_count": 30,
   "outputs": [],
   "source": [
    "score_tables = {\"DecisionTree\": build_score_table(dtc),\n",
    "                \"RandomForest\": build_score_table(rfc),\n",
    "                \"GradientBoost\": build_score_table(gbc)}"
   ],
   "metadata": {
    "collapsed": false,
    "ExecuteTime": {
     "end_time": "2023-07-05T13:32:27.984035500Z",
     "start_time": "2023-07-05T13:32:27.924957Z"
    }
   }
  },
  {
   "cell_type": "code",
   "execution_count": 31,
   "outputs": [
    {
     "name": "stdout",
     "output_type": "stream",
     "text": [
      "DecisionTree \n",
      "     P_Survived1  P_Survived0  Survived     Sex\n",
      "21          0.0          1.0         1    male\n",
      "57          0.0          1.0         0    male\n",
      "50          0.0          1.0         0    male\n",
      "99          0.0          1.0         0    male\n",
      "71          1.0          0.0         0  female\n",
      "RandomForest \n",
      "     P_Survived1  P_Survived0  Survived     Sex\n",
      "21         0.06         0.94         1    male\n",
      "57         0.38         0.62         0    male\n",
      "50         0.23         0.77         0    male\n",
      "99         0.11         0.89         0    male\n",
      "71         0.41         0.59         0  female\n",
      "GradientBoost \n",
      "     P_Survived1  P_Survived0  Survived     Sex\n",
      "21     0.004533     0.995467         1    male\n",
      "57     0.092341     0.907659         0    male\n",
      "50     0.477515     0.522485         0    male\n",
      "99     0.009657     0.990343         0    male\n",
      "71     0.900963     0.099037         0  female\n"
     ]
    }
   ],
   "source": [
    "for k,v in score_tables.items():\n",
    "    print(f'{k} \\n {v.head()}')"
   ],
   "metadata": {
    "collapsed": false,
    "ExecuteTime": {
     "end_time": "2023-07-05T13:32:28.682249300Z",
     "start_time": "2023-07-05T13:32:28.635805200Z"
    }
   }
  },
  {
   "cell_type": "markdown",
   "source": [
    "## Using `assess_model_bias()`"
   ],
   "metadata": {
    "collapsed": false
   }
  },
  {
   "cell_type": "code",
   "execution_count": 71,
   "outputs": [],
   "source": [
    "# setting up environment\n",
    "hostname = 'green.ingress-nginx.rint08-0020.race.sas.com'\n",
    "username = 'edmdev'\n",
    "password = 'Go4thsas'\n",
    "\n",
    "sess = Session(hostname, username, password, protocol='http')"
   ],
   "metadata": {
    "collapsed": false,
    "ExecuteTime": {
     "end_time": "2023-07-05T16:11:59.610368600Z",
     "start_time": "2023-07-05T16:11:58.855203500Z"
    }
   }
  },
  {
   "cell_type": "code",
   "execution_count": 33,
   "outputs": [],
   "source": [
    "# Model names\n",
    "model_prefix = [\"DecisionTree\", \"RandomForest\", \"GradientBoost\"]\n",
    "# Directory location for the model files\n",
    "zip_folder = [Path.cwd() / \"data/BiasMetrics/titanicModels/DecisionTree/\",\n",
    "             Path.cwd() / \"data/BiasMetrics/titanicModels/RandomForest/\",\n",
    "             Path.cwd() / \"data/BiasMetrics/titanicModels/GradientBoost/\"] # Changes required by user\n",
    "model = [dtc, rfc, gbc]"
   ],
   "metadata": {
    "collapsed": false,
    "ExecuteTime": {
     "end_time": "2023-07-05T13:32:42.370727300Z",
     "start_time": "2023-07-05T13:32:42.363776100Z"
    }
   }
  },
  {
   "cell_type": "code",
   "execution_count": 34,
   "outputs": [
    {
     "name": "stdout",
     "output_type": "stream",
     "text": [
      "WARNING: License for feature 'TKCAS SAS Cloud Analytic Services Server' has expired and will stop working in 43 days. Contact your installation representative to obtain a renewal.\n",
      "WARNING: License for feature 'TKCAS SAS Cloud Analytic Services Server' has expired and will stop working in 43 days. Contact your installation representative to obtain a renewal.\n",
      "WARNING: License for feature 'TKCAS SAS Cloud Analytic Services Server' has expired and will stop working in 43 days. Contact your installation representative to obtain a renewal.\n",
      "WARNING: License for feature 'TKCAS SAS Cloud Analytic Services Server' has expired and will stop working in 43 days. Contact your installation representative to obtain a renewal.\n",
      "WARNING: License for feature 'CRSFAIRAITOOLS Action Set for Assessing and Mitigating' has expired and will stop working in 43 days. Contact your installation representative to obtain a renewal.\n",
      "WARNING: License for feature 'TKCAS SAS Cloud Analytic Services Server' has expired and will stop working in 43 days. Contact your installation representative to obtain a renewal.\n",
      "WARNING: License for feature 'TKCAS SAS Cloud Analytic Services Server' has expired and will stop working in 43 days. Contact your installation representative to obtain a renewal.\n",
      "WARNING: License for feature 'TKCAS SAS Cloud Analytic Services Server' has expired and will stop working in 43 days. Contact your installation representative to obtain a renewal.\n",
      "WARNING: License for feature 'BASE Base SAS' has expired and will stop working in 43 days. Contact your installation representative to obtain a renewal.\n",
      "WARNING: License for feature 'TKCAS SAS Cloud Analytic Services Server' has expired and will stop working in 43 days. Contact your installation representative to obtain a renewal.\n",
      "WARNING: License for feature 'BASE Base SAS' has expired and will stop working in 43 days. Contact your installation representative to obtain a renewal.\n",
      "WARNING: License for feature 'TKCAS SAS Cloud Analytic Services Server' has expired and will stop working in 43 days. Contact your installation representative to obtain a renewal.\n",
      "WARNING: License for feature 'BASE Base SAS' has expired and will stop working in 43 days. Contact your installation representative to obtain a renewal.\n",
      "WARNING: License for feature 'TKCAS SAS Cloud Analytic Services Server' has expired and will stop working in 43 days. Contact your installation representative to obtain a renewal.\n",
      "WARNING: License for feature 'BASE Base SAS' has expired and will stop working in 43 days. Contact your installation representative to obtain a renewal.\n",
      "WARNING: License for feature 'TKCAS SAS Cloud Analytic Services Server' has expired and will stop working in 43 days. Contact your installation representative to obtain a renewal.\n",
      "WARNING: License for feature 'BASE Base SAS' has expired and will stop working in 43 days. Contact your installation representative to obtain a renewal.\n",
      "WARNING: License for feature 'TKCAS SAS Cloud Analytic Services Server' has expired and will stop working in 43 days. Contact your installation representative to obtain a renewal.\n",
      "WARNING: License for feature 'BASE Base SAS' has expired and will stop working in 43 days. Contact your installation representative to obtain a renewal.\n",
      "WARNING: License for feature 'TKCAS SAS Cloud Analytic Services Server' has expired and will stop working in 43 days. Contact your installation representative to obtain a renewal.\n",
      "WARNING: License for feature 'BASE Base SAS' has expired and will stop working in 43 days. Contact your installation representative to obtain a renewal.\n",
      "WARNING: License for feature 'TKCAS SAS Cloud Analytic Services Server' has expired and will stop working in 43 days. Contact your installation representative to obtain a renewal.\n",
      "WARNING: License for feature 'BASE Base SAS' has expired and will stop working in 43 days. Contact your installation representative to obtain a renewal.\n",
      "WARNING: License for feature 'TKCAS SAS Cloud Analytic Services Server' has expired and will stop working in 43 days. Contact your installation representative to obtain a renewal.\n",
      "WARNING: License for feature 'BASE Base SAS' has expired and will stop working in 43 days. Contact your installation representative to obtain a renewal.\n",
      "WARNING: License for feature 'TKCAS SAS Cloud Analytic Services Server' has expired and will stop working in 43 days. Contact your installation representative to obtain a renewal.\n",
      "WARNING: License for feature 'BASE Base SAS' has expired and will stop working in 43 days. Contact your installation representative to obtain a renewal.\n",
      "WARNING: License for feature 'TKCAS SAS Cloud Analytic Services Server' has expired and will stop working in 43 days. Contact your installation representative to obtain a renewal.\n",
      "WARNING: License for feature 'BASE Base SAS' has expired and will stop working in 43 days. Contact your installation representative to obtain a renewal.\n",
      "WARNING: License for feature 'TKCAS SAS Cloud Analytic Services Server' has expired and will stop working in 43 days. Contact your installation representative to obtain a renewal.\n",
      "WARNING: License for feature 'BASE Base SAS' has expired and will stop working in 43 days. Contact your installation representative to obtain a renewal.\n",
      "WARNING: License for feature 'TKCAS SAS Cloud Analytic Services Server' has expired and will stop working in 43 days. Contact your installation representative to obtain a renewal.\n",
      "WARNING: License for feature 'BASE Base SAS' has expired and will stop working in 43 days. Contact your installation representative to obtain a renewal.\n",
      "WARNING: License for feature 'TKCAS SAS Cloud Analytic Services Server' has expired and will stop working in 43 days. Contact your installation representative to obtain a renewal.\n",
      "WARNING: License for feature 'BASE Base SAS' has expired and will stop working in 43 days. Contact your installation representative to obtain a renewal.\n",
      "WARNING: License for feature 'TKCAS SAS Cloud Analytic Services Server' has expired and will stop working in 43 days. Contact your installation representative to obtain a renewal.\n",
      "WARNING: License for feature 'BASE Base SAS' has expired and will stop working in 43 days. Contact your installation representative to obtain a renewal.\n",
      "WARNING: License for feature 'TKCAS SAS Cloud Analytic Services Server' has expired and will stop working in 43 days. Contact your installation representative to obtain a renewal.\n",
      "WARNING: License for feature 'BASE Base SAS' has expired and will stop working in 43 days. Contact your installation representative to obtain a renewal.\n",
      "WARNING: License for feature 'TKCAS SAS Cloud Analytic Services Server' has expired and will stop working in 43 days. Contact your installation representative to obtain a renewal.\n",
      "WARNING: License for feature 'BASE Base SAS' has expired and will stop working in 43 days. Contact your installation representative to obtain a renewal.\n",
      "WARNING: License for feature 'TKCAS SAS Cloud Analytic Services Server' has expired and will stop working in 43 days. Contact your installation representative to obtain a renewal.\n",
      "WARNING: License for feature 'BASE Base SAS' has expired and will stop working in 43 days. Contact your installation representative to obtain a renewal.\n",
      "WARNING: License for feature 'TKCAS SAS Cloud Analytic Services Server' has expired and will stop working in 43 days. Contact your installation representative to obtain a renewal.\n",
      "WARNING: License for feature 'BASE Base SAS' has expired and will stop working in 43 days. Contact your installation representative to obtain a renewal.\n",
      "WARNING: License for feature 'TKCAS SAS Cloud Analytic Services Server' has expired and will stop working in 43 days. Contact your installation representative to obtain a renewal.\n",
      "WARNING: License for feature 'BASE Base SAS' has expired and will stop working in 43 days. Contact your installation representative to obtain a renewal.\n",
      "WARNING: License for feature 'TKCAS SAS Cloud Analytic Services Server' has expired and will stop working in 43 days. Contact your installation representative to obtain a renewal.\n",
      "WARNING: License for feature 'BASE Base SAS' has expired and will stop working in 43 days. Contact your installation representative to obtain a renewal.\n",
      "WARNING: License for feature 'TKCAS SAS Cloud Analytic Services Server' has expired and will stop working in 43 days. Contact your installation representative to obtain a renewal.\n",
      "WARNING: License for feature 'BASE Base SAS' has expired and will stop working in 43 days. Contact your installation representative to obtain a renewal.\n",
      "WARNING: License for feature 'TKCAS SAS Cloud Analytic Services Server' has expired and will stop working in 43 days. Contact your installation representative to obtain a renewal.\n",
      "WARNING: License for feature 'BASE Base SAS' has expired and will stop working in 43 days. Contact your installation representative to obtain a renewal.\n",
      "WARNING: License for feature 'TKCAS SAS Cloud Analytic Services Server' has expired and will stop working in 43 days. Contact your installation representative to obtain a renewal.\n",
      "WARNING: License for feature 'BASE Base SAS' has expired and will stop working in 43 days. Contact your installation representative to obtain a renewal.\n",
      "WARNING: License for feature 'TKCAS SAS Cloud Analytic Services Server' has expired and will stop working in 43 days. Contact your installation representative to obtain a renewal.\n",
      "WARNING: License for feature 'BASE Base SAS' has expired and will stop working in 43 days. Contact your installation representative to obtain a renewal.\n",
      "WARNING: License for feature 'TKCAS SAS Cloud Analytic Services Server' has expired and will stop working in 43 days. Contact your installation representative to obtain a renewal.\n",
      "WARNING: License for feature 'BASE Base SAS' has expired and will stop working in 43 days. Contact your installation representative to obtain a renewal.\n",
      "WARNING: License for feature 'TKCAS SAS Cloud Analytic Services Server' has expired and will stop working in 43 days. Contact your installation representative to obtain a renewal.\n",
      "WARNING: License for feature 'BASE Base SAS' has expired and will stop working in 43 days. Contact your installation representative to obtain a renewal.\n",
      "WARNING: License for feature 'TKCAS SAS Cloud Analytic Services Server' has expired and will stop working in 43 days. Contact your installation representative to obtain a renewal.\n",
      "WARNING: License for feature 'BASE Base SAS' has expired and will stop working in 43 days. Contact your installation representative to obtain a renewal.\n",
      "WARNING: License for feature 'TKCAS SAS Cloud Analytic Services Server' has expired and will stop working in 43 days. Contact your installation representative to obtain a renewal.\n",
      "WARNING: License for feature 'BASE Base SAS' has expired and will stop working in 43 days. Contact your installation representative to obtain a renewal.\n",
      "WARNING: License for feature 'TKCAS SAS Cloud Analytic Services Server' has expired and will stop working in 43 days. Contact your installation representative to obtain a renewal.\n",
      "WARNING: License for feature 'BASE Base SAS' has expired and will stop working in 43 days. Contact your installation representative to obtain a renewal.\n",
      "WARNING: License for feature 'TKCAS SAS Cloud Analytic Services Server' has expired and will stop working in 43 days. Contact your installation representative to obtain a renewal.\n",
      "WARNING: License for feature 'BASE Base SAS' has expired and will stop working in 43 days. Contact your installation representative to obtain a renewal.\n",
      "WARNING: License for feature 'TKCAS SAS Cloud Analytic Services Server' has expired and will stop working in 43 days. Contact your installation representative to obtain a renewal.\n",
      "WARNING: License for feature 'BASE Base SAS' has expired and will stop working in 43 days. Contact your installation representative to obtain a renewal.\n",
      "WARNING: License for feature 'TKCAS SAS Cloud Analytic Services Server' has expired and will stop working in 43 days. Contact your installation representative to obtain a renewal.\n",
      "WARNING: License for feature 'BASE Base SAS' has expired and will stop working in 43 days. Contact your installation representative to obtain a renewal.\n",
      "WARNING: License for feature 'TKCAS SAS Cloud Analytic Services Server' has expired and will stop working in 43 days. Contact your installation representative to obtain a renewal.\n",
      "WARNING: License for feature 'BASE Base SAS' has expired and will stop working in 43 days. Contact your installation representative to obtain a renewal.\n",
      "WARNING: License for feature 'TKCAS SAS Cloud Analytic Services Server' has expired and will stop working in 43 days. Contact your installation representative to obtain a renewal.\n",
      "WARNING: License for feature 'BASE Base SAS' has expired and will stop working in 43 days. Contact your installation representative to obtain a renewal.\n",
      "WARNING: License for feature 'TKCAS SAS Cloud Analytic Services Server' has expired and will stop working in 43 days. Contact your installation representative to obtain a renewal.\n",
      "WARNING: License for feature 'BASE Base SAS' has expired and will stop working in 43 days. Contact your installation representative to obtain a renewal.\n",
      "WARNING: License for feature 'TKCAS SAS Cloud Analytic Services Server' has expired and will stop working in 43 days. Contact your installation representative to obtain a renewal.\n",
      "WARNING: License for feature 'BASE Base SAS' has expired and will stop working in 43 days. Contact your installation representative to obtain a renewal.\n",
      "WARNING: License for feature 'TKCAS SAS Cloud Analytic Services Server' has expired and will stop working in 43 days. Contact your installation representative to obtain a renewal.\n",
      "WARNING: License for feature 'BASE Base SAS' has expired and will stop working in 43 days. Contact your installation representative to obtain a renewal.\n",
      "WARNING: License for feature 'TKCAS SAS Cloud Analytic Services Server' has expired and will stop working in 43 days. Contact your installation representative to obtain a renewal.\n",
      "WARNING: License for feature 'BASE Base SAS' has expired and will stop working in 43 days. Contact your installation representative to obtain a renewal.\n",
      "WARNING: License for feature 'TKCAS SAS Cloud Analytic Services Server' has expired and will stop working in 43 days. Contact your installation representative to obtain a renewal.\n",
      "WARNING: License for feature 'BASE Base SAS' has expired and will stop working in 43 days. Contact your installation representative to obtain a renewal.\n",
      "WARNING: License for feature 'TKCAS SAS Cloud Analytic Services Server' has expired and will stop working in 43 days. Contact your installation representative to obtain a renewal.\n",
      "WARNING: License for feature 'BASE Base SAS' has expired and will stop working in 43 days. Contact your installation representative to obtain a renewal.\n",
      "WARNING: License for feature 'TKCAS SAS Cloud Analytic Services Server' has expired and will stop working in 43 days. Contact your installation representative to obtain a renewal.\n",
      "WARNING: License for feature 'BASE Base SAS' has expired and will stop working in 43 days. Contact your installation representative to obtain a renewal.\n",
      "WARNING: License for feature 'TKCAS SAS Cloud Analytic Services Server' has expired and will stop working in 43 days. Contact your installation representative to obtain a renewal.\n",
      "WARNING: License for feature 'BASE Base SAS' has expired and will stop working in 43 days. Contact your installation representative to obtain a renewal.\n",
      "WARNING: License for feature 'TKCAS SAS Cloud Analytic Services Server' has expired and will stop working in 43 days. Contact your installation representative to obtain a renewal.\n",
      "WARNING: License for feature 'BASE Base SAS' has expired and will stop working in 43 days. Contact your installation representative to obtain a renewal.\n",
      "WARNING: License for feature 'TKCAS SAS Cloud Analytic Services Server' has expired and will stop working in 43 days. Contact your installation representative to obtain a renewal.\n",
      "WARNING: License for feature 'BASE Base SAS' has expired and will stop working in 43 days. Contact your installation representative to obtain a renewal.\n",
      "WARNING: License for feature 'TKCAS SAS Cloud Analytic Services Server' has expired and will stop working in 43 days. Contact your installation representative to obtain a renewal.\n",
      "WARNING: License for feature 'BASE Base SAS' has expired and will stop working in 43 days. Contact your installation representative to obtain a renewal.\n",
      "WARNING: License for feature 'TKCAS SAS Cloud Analytic Services Server' has expired and will stop working in 43 days. Contact your installation representative to obtain a renewal.\n",
      "WARNING: License for feature 'BASE Base SAS' has expired and will stop working in 43 days. Contact your installation representative to obtain a renewal.\n",
      "WARNING: License for feature 'TKCAS SAS Cloud Analytic Services Server' has expired and will stop working in 43 days. Contact your installation representative to obtain a renewal.\n",
      "WARNING: License for feature 'BASE Base SAS' has expired and will stop working in 43 days. Contact your installation representative to obtain a renewal.\n",
      "WARNING: License for feature 'TKCAS SAS Cloud Analytic Services Server' has expired and will stop working in 43 days. Contact your installation representative to obtain a renewal.\n",
      "WARNING: License for feature 'BASE Base SAS' has expired and will stop working in 43 days. Contact your installation representative to obtain a renewal.\n",
      "WARNING: License for feature 'TKCAS SAS Cloud Analytic Services Server' has expired and will stop working in 43 days. Contact your installation representative to obtain a renewal.\n",
      "WARNING: License for feature 'BASE Base SAS' has expired and will stop working in 43 days. Contact your installation representative to obtain a renewal.\n",
      "WARNING: License for feature 'TKCAS SAS Cloud Analytic Services Server' has expired and will stop working in 43 days. Contact your installation representative to obtain a renewal.\n",
      "WARNING: License for feature 'BASE Base SAS' has expired and will stop working in 43 days. Contact your installation representative to obtain a renewal.\n",
      "WARNING: License for feature 'TKCAS SAS Cloud Analytic Services Server' has expired and will stop working in 43 days. Contact your installation representative to obtain a renewal.\n",
      "WARNING: License for feature 'BASE Base SAS' has expired and will stop working in 43 days. Contact your installation representative to obtain a renewal.\n",
      "WARNING: License for feature 'TKCAS SAS Cloud Analytic Services Server' has expired and will stop working in 43 days. Contact your installation representative to obtain a renewal.\n",
      "WARNING: License for feature 'BASE Base SAS' has expired and will stop working in 43 days. Contact your installation representative to obtain a renewal.\n",
      "WARNING: License for feature 'TKCAS SAS Cloud Analytic Services Server' has expired and will stop working in 43 days. Contact your installation representative to obtain a renewal.\n",
      "WARNING: License for feature 'BASE Base SAS' has expired and will stop working in 43 days. Contact your installation representative to obtain a renewal.\n",
      "WARNING: License for feature 'TKCAS SAS Cloud Analytic Services Server' has expired and will stop working in 43 days. Contact your installation representative to obtain a renewal.\n",
      "WARNING: License for feature 'BASE Base SAS' has expired and will stop working in 43 days. Contact your installation representative to obtain a renewal.\n",
      "WARNING: License for feature 'TKCAS SAS Cloud Analytic Services Server' has expired and will stop working in 43 days. Contact your installation representative to obtain a renewal.\n",
      "WARNING: License for feature 'BASE Base SAS' has expired and will stop working in 43 days. Contact your installation representative to obtain a renewal.\n",
      "WARNING: License for feature 'TKCAS SAS Cloud Analytic Services Server' has expired and will stop working in 43 days. Contact your installation representative to obtain a renewal.\n",
      "WARNING: License for feature 'BASE Base SAS' has expired and will stop working in 43 days. Contact your installation representative to obtain a renewal.\n",
      "WARNING: License for feature 'TKCAS SAS Cloud Analytic Services Server' has expired and will stop working in 43 days. Contact your installation representative to obtain a renewal.\n",
      "WARNING: License for feature 'BASE Base SAS' has expired and will stop working in 43 days. Contact your installation representative to obtain a renewal.\n",
      "WARNING: License for feature 'TKCAS SAS Cloud Analytic Services Server' has expired and will stop working in 43 days. Contact your installation representative to obtain a renewal.\n",
      "WARNING: License for feature 'BASE Base SAS' has expired and will stop working in 43 days. Contact your installation representative to obtain a renewal.\n",
      "WARNING: License for feature 'TKCAS SAS Cloud Analytic Services Server' has expired and will stop working in 43 days. Contact your installation representative to obtain a renewal.\n",
      "WARNING: License for feature 'BASE Base SAS' has expired and will stop working in 43 days. Contact your installation representative to obtain a renewal.\n",
      "WARNING: License for feature 'TKCAS SAS Cloud Analytic Services Server' has expired and will stop working in 43 days. Contact your installation representative to obtain a renewal.\n",
      "WARNING: License for feature 'BASE Base SAS' has expired and will stop working in 43 days. Contact your installation representative to obtain a renewal.\n",
      "WARNING: License for feature 'TKCAS SAS Cloud Analytic Services Server' has expired and will stop working in 43 days. Contact your installation representative to obtain a renewal.\n",
      "WARNING: License for feature 'BASE Base SAS' has expired and will stop working in 43 days. Contact your installation representative to obtain a renewal.\n",
      "WARNING: License for feature 'TKCAS SAS Cloud Analytic Services Server' has expired and will stop working in 43 days. Contact your installation representative to obtain a renewal.\n",
      "WARNING: License for feature 'BASE Base SAS' has expired and will stop working in 43 days. Contact your installation representative to obtain a renewal.\n",
      "WARNING: License for feature 'TKCAS SAS Cloud Analytic Services Server' has expired and will stop working in 43 days. Contact your installation representative to obtain a renewal.\n",
      "WARNING: License for feature 'BASE Base SAS' has expired and will stop working in 43 days. Contact your installation representative to obtain a renewal.\n",
      "WARNING: License for feature 'TKCAS SAS Cloud Analytic Services Server' has expired and will stop working in 43 days. Contact your installation representative to obtain a renewal.\n",
      "WARNING: License for feature 'BASE Base SAS' has expired and will stop working in 43 days. Contact your installation representative to obtain a renewal.\n",
      "WARNING: License for feature 'TKCAS SAS Cloud Analytic Services Server' has expired and will stop working in 43 days. Contact your installation representative to obtain a renewal.\n",
      "WARNING: License for feature 'BASE Base SAS' has expired and will stop working in 43 days. Contact your installation representative to obtain a renewal.\n",
      "WARNING: License for feature 'TKCAS SAS Cloud Analytic Services Server' has expired and will stop working in 43 days. Contact your installation representative to obtain a renewal.\n",
      "WARNING: License for feature 'BASE Base SAS' has expired and will stop working in 43 days. Contact your installation representative to obtain a renewal.\n",
      "WARNING: License for feature 'TKCAS SAS Cloud Analytic Services Server' has expired and will stop working in 43 days. Contact your installation representative to obtain a renewal.\n",
      "WARNING: License for feature 'BASE Base SAS' has expired and will stop working in 43 days. Contact your installation representative to obtain a renewal.\n",
      "WARNING: License for feature 'TKCAS SAS Cloud Analytic Services Server' has expired and will stop working in 43 days. Contact your installation representative to obtain a renewal.\n",
      "WARNING: License for feature 'BASE Base SAS' has expired and will stop working in 43 days. Contact your installation representative to obtain a renewal.\n",
      "WARNING: License for feature 'TKCAS SAS Cloud Analytic Services Server' has expired and will stop working in 43 days. Contact your installation representative to obtain a renewal.\n",
      "WARNING: License for feature 'BASE Base SAS' has expired and will stop working in 43 days. Contact your installation representative to obtain a renewal.\n",
      "WARNING: License for feature 'TKCAS SAS Cloud Analytic Services Server' has expired and will stop working in 43 days. Contact your installation representative to obtain a renewal.\n",
      "WARNING: License for feature 'BASE Base SAS' has expired and will stop working in 43 days. Contact your installation representative to obtain a renewal.\n",
      "WARNING: License for feature 'TKCAS SAS Cloud Analytic Services Server' has expired and will stop working in 43 days. Contact your installation representative to obtain a renewal.\n",
      "WARNING: License for feature 'BASE Base SAS' has expired and will stop working in 43 days. Contact your installation representative to obtain a renewal.\n",
      "WARNING: License for feature 'TKCAS SAS Cloud Analytic Services Server' has expired and will stop working in 43 days. Contact your installation representative to obtain a renewal.\n",
      "WARNING: License for feature 'BASE Base SAS' has expired and will stop working in 43 days. Contact your installation representative to obtain a renewal.\n",
      "WARNING: License for feature 'TKCAS SAS Cloud Analytic Services Server' has expired and will stop working in 43 days. Contact your installation representative to obtain a renewal.\n",
      "WARNING: License for feature 'BASE Base SAS' has expired and will stop working in 43 days. Contact your installation representative to obtain a renewal.\n",
      "maxDifferences.json was successfully written and saved to C:\\Users\\elmcfa\\PycharmProjects\\python-sasctl\\examples\\data\\BiasMetrics\\titanicModels\\DecisionTree\\maxDifferences.json\n",
      "groupMetrics.json was successfully written and saved to C:\\Users\\elmcfa\\PycharmProjects\\python-sasctl\\examples\\data\\BiasMetrics\\titanicModels\\DecisionTree\\groupMetrics.json\n",
      "WARNING: License for feature 'TKCAS SAS Cloud Analytic Services Server' has expired and will stop working in 43 days. Contact your installation representative to obtain a renewal.\n",
      "WARNING: License for feature 'TKCAS SAS Cloud Analytic Services Server' has expired and will stop working in 43 days. Contact your installation representative to obtain a renewal.\n",
      "WARNING: License for feature 'TKCAS SAS Cloud Analytic Services Server' has expired and will stop working in 43 days. Contact your installation representative to obtain a renewal.\n",
      "WARNING: License for feature 'TKCAS SAS Cloud Analytic Services Server' has expired and will stop working in 43 days. Contact your installation representative to obtain a renewal.\n",
      "WARNING: License for feature 'CRSFAIRAITOOLS Action Set for Assessing and Mitigating' has expired and will stop working in 43 days. Contact your installation representative to obtain a renewal.\n",
      "WARNING: License for feature 'TKCAS SAS Cloud Analytic Services Server' has expired and will stop working in 43 days. Contact your installation representative to obtain a renewal.\n",
      "WARNING: License for feature 'TKCAS SAS Cloud Analytic Services Server' has expired and will stop working in 43 days. Contact your installation representative to obtain a renewal.\n",
      "WARNING: License for feature 'TKCAS SAS Cloud Analytic Services Server' has expired and will stop working in 43 days. Contact your installation representative to obtain a renewal.\n",
      "WARNING: License for feature 'BASE Base SAS' has expired and will stop working in 43 days. Contact your installation representative to obtain a renewal.\n",
      "WARNING: License for feature 'TKCAS SAS Cloud Analytic Services Server' has expired and will stop working in 43 days. Contact your installation representative to obtain a renewal.\n",
      "WARNING: License for feature 'BASE Base SAS' has expired and will stop working in 43 days. Contact your installation representative to obtain a renewal.\n",
      "WARNING: License for feature 'TKCAS SAS Cloud Analytic Services Server' has expired and will stop working in 43 days. Contact your installation representative to obtain a renewal.\n",
      "WARNING: License for feature 'BASE Base SAS' has expired and will stop working in 43 days. Contact your installation representative to obtain a renewal.\n",
      "WARNING: License for feature 'TKCAS SAS Cloud Analytic Services Server' has expired and will stop working in 43 days. Contact your installation representative to obtain a renewal.\n",
      "WARNING: License for feature 'BASE Base SAS' has expired and will stop working in 43 days. Contact your installation representative to obtain a renewal.\n",
      "WARNING: License for feature 'TKCAS SAS Cloud Analytic Services Server' has expired and will stop working in 43 days. Contact your installation representative to obtain a renewal.\n",
      "WARNING: License for feature 'BASE Base SAS' has expired and will stop working in 43 days. Contact your installation representative to obtain a renewal.\n",
      "WARNING: License for feature 'TKCAS SAS Cloud Analytic Services Server' has expired and will stop working in 43 days. Contact your installation representative to obtain a renewal.\n",
      "WARNING: License for feature 'BASE Base SAS' has expired and will stop working in 43 days. Contact your installation representative to obtain a renewal.\n",
      "WARNING: License for feature 'TKCAS SAS Cloud Analytic Services Server' has expired and will stop working in 43 days. Contact your installation representative to obtain a renewal.\n",
      "WARNING: License for feature 'BASE Base SAS' has expired and will stop working in 43 days. Contact your installation representative to obtain a renewal.\n",
      "WARNING: License for feature 'TKCAS SAS Cloud Analytic Services Server' has expired and will stop working in 43 days. Contact your installation representative to obtain a renewal.\n",
      "WARNING: License for feature 'BASE Base SAS' has expired and will stop working in 43 days. Contact your installation representative to obtain a renewal.\n",
      "WARNING: License for feature 'TKCAS SAS Cloud Analytic Services Server' has expired and will stop working in 43 days. Contact your installation representative to obtain a renewal.\n",
      "WARNING: License for feature 'BASE Base SAS' has expired and will stop working in 43 days. Contact your installation representative to obtain a renewal.\n",
      "WARNING: License for feature 'TKCAS SAS Cloud Analytic Services Server' has expired and will stop working in 43 days. Contact your installation representative to obtain a renewal.\n",
      "WARNING: License for feature 'BASE Base SAS' has expired and will stop working in 43 days. Contact your installation representative to obtain a renewal.\n",
      "WARNING: License for feature 'TKCAS SAS Cloud Analytic Services Server' has expired and will stop working in 43 days. Contact your installation representative to obtain a renewal.\n",
      "WARNING: License for feature 'BASE Base SAS' has expired and will stop working in 43 days. Contact your installation representative to obtain a renewal.\n",
      "WARNING: License for feature 'TKCAS SAS Cloud Analytic Services Server' has expired and will stop working in 43 days. Contact your installation representative to obtain a renewal.\n",
      "WARNING: License for feature 'BASE Base SAS' has expired and will stop working in 43 days. Contact your installation representative to obtain a renewal.\n",
      "WARNING: License for feature 'TKCAS SAS Cloud Analytic Services Server' has expired and will stop working in 43 days. Contact your installation representative to obtain a renewal.\n",
      "WARNING: License for feature 'BASE Base SAS' has expired and will stop working in 43 days. Contact your installation representative to obtain a renewal.\n",
      "WARNING: License for feature 'TKCAS SAS Cloud Analytic Services Server' has expired and will stop working in 43 days. Contact your installation representative to obtain a renewal.\n",
      "WARNING: License for feature 'BASE Base SAS' has expired and will stop working in 43 days. Contact your installation representative to obtain a renewal.\n",
      "WARNING: License for feature 'TKCAS SAS Cloud Analytic Services Server' has expired and will stop working in 43 days. Contact your installation representative to obtain a renewal.\n",
      "WARNING: License for feature 'BASE Base SAS' has expired and will stop working in 43 days. Contact your installation representative to obtain a renewal.\n",
      "WARNING: License for feature 'TKCAS SAS Cloud Analytic Services Server' has expired and will stop working in 43 days. Contact your installation representative to obtain a renewal.\n",
      "WARNING: License for feature 'BASE Base SAS' has expired and will stop working in 43 days. Contact your installation representative to obtain a renewal.\n",
      "WARNING: License for feature 'TKCAS SAS Cloud Analytic Services Server' has expired and will stop working in 43 days. Contact your installation representative to obtain a renewal.\n",
      "WARNING: License for feature 'BASE Base SAS' has expired and will stop working in 43 days. Contact your installation representative to obtain a renewal.\n",
      "WARNING: License for feature 'TKCAS SAS Cloud Analytic Services Server' has expired and will stop working in 43 days. Contact your installation representative to obtain a renewal.\n",
      "WARNING: License for feature 'BASE Base SAS' has expired and will stop working in 43 days. Contact your installation representative to obtain a renewal.\n",
      "WARNING: License for feature 'TKCAS SAS Cloud Analytic Services Server' has expired and will stop working in 43 days. Contact your installation representative to obtain a renewal.\n",
      "WARNING: License for feature 'BASE Base SAS' has expired and will stop working in 43 days. Contact your installation representative to obtain a renewal.\n",
      "WARNING: License for feature 'TKCAS SAS Cloud Analytic Services Server' has expired and will stop working in 43 days. Contact your installation representative to obtain a renewal.\n",
      "WARNING: License for feature 'BASE Base SAS' has expired and will stop working in 43 days. Contact your installation representative to obtain a renewal.\n",
      "WARNING: License for feature 'TKCAS SAS Cloud Analytic Services Server' has expired and will stop working in 43 days. Contact your installation representative to obtain a renewal.\n",
      "WARNING: License for feature 'BASE Base SAS' has expired and will stop working in 43 days. Contact your installation representative to obtain a renewal.\n",
      "WARNING: License for feature 'TKCAS SAS Cloud Analytic Services Server' has expired and will stop working in 43 days. Contact your installation representative to obtain a renewal.\n",
      "WARNING: License for feature 'BASE Base SAS' has expired and will stop working in 43 days. Contact your installation representative to obtain a renewal.\n",
      "WARNING: License for feature 'TKCAS SAS Cloud Analytic Services Server' has expired and will stop working in 43 days. Contact your installation representative to obtain a renewal.\n",
      "WARNING: License for feature 'BASE Base SAS' has expired and will stop working in 43 days. Contact your installation representative to obtain a renewal.\n",
      "WARNING: License for feature 'TKCAS SAS Cloud Analytic Services Server' has expired and will stop working in 43 days. Contact your installation representative to obtain a renewal.\n",
      "WARNING: License for feature 'BASE Base SAS' has expired and will stop working in 43 days. Contact your installation representative to obtain a renewal.\n",
      "WARNING: License for feature 'TKCAS SAS Cloud Analytic Services Server' has expired and will stop working in 43 days. Contact your installation representative to obtain a renewal.\n",
      "WARNING: License for feature 'BASE Base SAS' has expired and will stop working in 43 days. Contact your installation representative to obtain a renewal.\n",
      "WARNING: License for feature 'TKCAS SAS Cloud Analytic Services Server' has expired and will stop working in 43 days. Contact your installation representative to obtain a renewal.\n",
      "WARNING: License for feature 'BASE Base SAS' has expired and will stop working in 43 days. Contact your installation representative to obtain a renewal.\n",
      "WARNING: License for feature 'TKCAS SAS Cloud Analytic Services Server' has expired and will stop working in 43 days. Contact your installation representative to obtain a renewal.\n",
      "WARNING: License for feature 'BASE Base SAS' has expired and will stop working in 43 days. Contact your installation representative to obtain a renewal.\n",
      "WARNING: License for feature 'TKCAS SAS Cloud Analytic Services Server' has expired and will stop working in 43 days. Contact your installation representative to obtain a renewal.\n",
      "WARNING: License for feature 'BASE Base SAS' has expired and will stop working in 43 days. Contact your installation representative to obtain a renewal.\n",
      "WARNING: License for feature 'TKCAS SAS Cloud Analytic Services Server' has expired and will stop working in 43 days. Contact your installation representative to obtain a renewal.\n",
      "WARNING: License for feature 'BASE Base SAS' has expired and will stop working in 43 days. Contact your installation representative to obtain a renewal.\n",
      "WARNING: License for feature 'TKCAS SAS Cloud Analytic Services Server' has expired and will stop working in 43 days. Contact your installation representative to obtain a renewal.\n",
      "WARNING: License for feature 'BASE Base SAS' has expired and will stop working in 43 days. Contact your installation representative to obtain a renewal.\n",
      "WARNING: License for feature 'TKCAS SAS Cloud Analytic Services Server' has expired and will stop working in 43 days. Contact your installation representative to obtain a renewal.\n",
      "WARNING: License for feature 'BASE Base SAS' has expired and will stop working in 43 days. Contact your installation representative to obtain a renewal.\n",
      "WARNING: License for feature 'TKCAS SAS Cloud Analytic Services Server' has expired and will stop working in 43 days. Contact your installation representative to obtain a renewal.\n",
      "WARNING: License for feature 'BASE Base SAS' has expired and will stop working in 43 days. Contact your installation representative to obtain a renewal.\n",
      "WARNING: License for feature 'TKCAS SAS Cloud Analytic Services Server' has expired and will stop working in 43 days. Contact your installation representative to obtain a renewal.\n",
      "WARNING: License for feature 'BASE Base SAS' has expired and will stop working in 43 days. Contact your installation representative to obtain a renewal.\n",
      "WARNING: License for feature 'TKCAS SAS Cloud Analytic Services Server' has expired and will stop working in 43 days. Contact your installation representative to obtain a renewal.\n",
      "WARNING: License for feature 'BASE Base SAS' has expired and will stop working in 43 days. Contact your installation representative to obtain a renewal.\n",
      "WARNING: License for feature 'TKCAS SAS Cloud Analytic Services Server' has expired and will stop working in 43 days. Contact your installation representative to obtain a renewal.\n",
      "WARNING: License for feature 'BASE Base SAS' has expired and will stop working in 43 days. Contact your installation representative to obtain a renewal.\n",
      "WARNING: License for feature 'TKCAS SAS Cloud Analytic Services Server' has expired and will stop working in 43 days. Contact your installation representative to obtain a renewal.\n",
      "WARNING: License for feature 'BASE Base SAS' has expired and will stop working in 43 days. Contact your installation representative to obtain a renewal.\n",
      "WARNING: License for feature 'TKCAS SAS Cloud Analytic Services Server' has expired and will stop working in 43 days. Contact your installation representative to obtain a renewal.\n",
      "WARNING: License for feature 'BASE Base SAS' has expired and will stop working in 43 days. Contact your installation representative to obtain a renewal.\n",
      "WARNING: License for feature 'TKCAS SAS Cloud Analytic Services Server' has expired and will stop working in 43 days. Contact your installation representative to obtain a renewal.\n",
      "WARNING: License for feature 'BASE Base SAS' has expired and will stop working in 43 days. Contact your installation representative to obtain a renewal.\n",
      "WARNING: License for feature 'TKCAS SAS Cloud Analytic Services Server' has expired and will stop working in 43 days. Contact your installation representative to obtain a renewal.\n",
      "WARNING: License for feature 'BASE Base SAS' has expired and will stop working in 43 days. Contact your installation representative to obtain a renewal.\n",
      "WARNING: License for feature 'TKCAS SAS Cloud Analytic Services Server' has expired and will stop working in 43 days. Contact your installation representative to obtain a renewal.\n",
      "WARNING: License for feature 'BASE Base SAS' has expired and will stop working in 43 days. Contact your installation representative to obtain a renewal.\n",
      "WARNING: License for feature 'TKCAS SAS Cloud Analytic Services Server' has expired and will stop working in 43 days. Contact your installation representative to obtain a renewal.\n",
      "WARNING: License for feature 'BASE Base SAS' has expired and will stop working in 43 days. Contact your installation representative to obtain a renewal.\n",
      "WARNING: License for feature 'TKCAS SAS Cloud Analytic Services Server' has expired and will stop working in 43 days. Contact your installation representative to obtain a renewal.\n",
      "WARNING: License for feature 'BASE Base SAS' has expired and will stop working in 43 days. Contact your installation representative to obtain a renewal.\n",
      "WARNING: License for feature 'TKCAS SAS Cloud Analytic Services Server' has expired and will stop working in 43 days. Contact your installation representative to obtain a renewal.\n",
      "WARNING: License for feature 'BASE Base SAS' has expired and will stop working in 43 days. Contact your installation representative to obtain a renewal.\n",
      "WARNING: License for feature 'TKCAS SAS Cloud Analytic Services Server' has expired and will stop working in 43 days. Contact your installation representative to obtain a renewal.\n",
      "WARNING: License for feature 'BASE Base SAS' has expired and will stop working in 43 days. Contact your installation representative to obtain a renewal.\n",
      "WARNING: License for feature 'TKCAS SAS Cloud Analytic Services Server' has expired and will stop working in 43 days. Contact your installation representative to obtain a renewal.\n",
      "WARNING: License for feature 'BASE Base SAS' has expired and will stop working in 43 days. Contact your installation representative to obtain a renewal.\n",
      "WARNING: License for feature 'TKCAS SAS Cloud Analytic Services Server' has expired and will stop working in 43 days. Contact your installation representative to obtain a renewal.\n",
      "WARNING: License for feature 'BASE Base SAS' has expired and will stop working in 43 days. Contact your installation representative to obtain a renewal.\n",
      "WARNING: License for feature 'TKCAS SAS Cloud Analytic Services Server' has expired and will stop working in 43 days. Contact your installation representative to obtain a renewal.\n",
      "WARNING: License for feature 'BASE Base SAS' has expired and will stop working in 43 days. Contact your installation representative to obtain a renewal.\n",
      "WARNING: License for feature 'TKCAS SAS Cloud Analytic Services Server' has expired and will stop working in 43 days. Contact your installation representative to obtain a renewal.\n",
      "WARNING: License for feature 'BASE Base SAS' has expired and will stop working in 43 days. Contact your installation representative to obtain a renewal.\n",
      "WARNING: License for feature 'TKCAS SAS Cloud Analytic Services Server' has expired and will stop working in 43 days. Contact your installation representative to obtain a renewal.\n",
      "WARNING: License for feature 'BASE Base SAS' has expired and will stop working in 43 days. Contact your installation representative to obtain a renewal.\n",
      "WARNING: License for feature 'TKCAS SAS Cloud Analytic Services Server' has expired and will stop working in 43 days. Contact your installation representative to obtain a renewal.\n",
      "WARNING: License for feature 'BASE Base SAS' has expired and will stop working in 43 days. Contact your installation representative to obtain a renewal.\n",
      "WARNING: License for feature 'TKCAS SAS Cloud Analytic Services Server' has expired and will stop working in 43 days. Contact your installation representative to obtain a renewal.\n",
      "WARNING: License for feature 'BASE Base SAS' has expired and will stop working in 43 days. Contact your installation representative to obtain a renewal.\n",
      "WARNING: License for feature 'TKCAS SAS Cloud Analytic Services Server' has expired and will stop working in 43 days. Contact your installation representative to obtain a renewal.\n",
      "WARNING: License for feature 'BASE Base SAS' has expired and will stop working in 43 days. Contact your installation representative to obtain a renewal.\n",
      "WARNING: License for feature 'TKCAS SAS Cloud Analytic Services Server' has expired and will stop working in 43 days. Contact your installation representative to obtain a renewal.\n",
      "WARNING: License for feature 'BASE Base SAS' has expired and will stop working in 43 days. Contact your installation representative to obtain a renewal.\n",
      "WARNING: License for feature 'TKCAS SAS Cloud Analytic Services Server' has expired and will stop working in 43 days. Contact your installation representative to obtain a renewal.\n",
      "WARNING: License for feature 'BASE Base SAS' has expired and will stop working in 43 days. Contact your installation representative to obtain a renewal.\n",
      "WARNING: License for feature 'TKCAS SAS Cloud Analytic Services Server' has expired and will stop working in 43 days. Contact your installation representative to obtain a renewal.\n",
      "WARNING: License for feature 'BASE Base SAS' has expired and will stop working in 43 days. Contact your installation representative to obtain a renewal.\n",
      "WARNING: License for feature 'TKCAS SAS Cloud Analytic Services Server' has expired and will stop working in 43 days. Contact your installation representative to obtain a renewal.\n",
      "WARNING: License for feature 'BASE Base SAS' has expired and will stop working in 43 days. Contact your installation representative to obtain a renewal.\n",
      "WARNING: License for feature 'TKCAS SAS Cloud Analytic Services Server' has expired and will stop working in 43 days. Contact your installation representative to obtain a renewal.\n",
      "WARNING: License for feature 'BASE Base SAS' has expired and will stop working in 43 days. Contact your installation representative to obtain a renewal.\n",
      "WARNING: License for feature 'TKCAS SAS Cloud Analytic Services Server' has expired and will stop working in 43 days. Contact your installation representative to obtain a renewal.\n",
      "WARNING: License for feature 'BASE Base SAS' has expired and will stop working in 43 days. Contact your installation representative to obtain a renewal.\n",
      "WARNING: License for feature 'TKCAS SAS Cloud Analytic Services Server' has expired and will stop working in 43 days. Contact your installation representative to obtain a renewal.\n",
      "WARNING: License for feature 'BASE Base SAS' has expired and will stop working in 43 days. Contact your installation representative to obtain a renewal.\n",
      "WARNING: License for feature 'TKCAS SAS Cloud Analytic Services Server' has expired and will stop working in 43 days. Contact your installation representative to obtain a renewal.\n",
      "WARNING: License for feature 'BASE Base SAS' has expired and will stop working in 43 days. Contact your installation representative to obtain a renewal.\n",
      "WARNING: License for feature 'TKCAS SAS Cloud Analytic Services Server' has expired and will stop working in 43 days. Contact your installation representative to obtain a renewal.\n",
      "WARNING: License for feature 'BASE Base SAS' has expired and will stop working in 43 days. Contact your installation representative to obtain a renewal.\n",
      "WARNING: License for feature 'TKCAS SAS Cloud Analytic Services Server' has expired and will stop working in 43 days. Contact your installation representative to obtain a renewal.\n",
      "WARNING: License for feature 'BASE Base SAS' has expired and will stop working in 43 days. Contact your installation representative to obtain a renewal.\n",
      "WARNING: License for feature 'TKCAS SAS Cloud Analytic Services Server' has expired and will stop working in 43 days. Contact your installation representative to obtain a renewal.\n",
      "WARNING: License for feature 'BASE Base SAS' has expired and will stop working in 43 days. Contact your installation representative to obtain a renewal.\n",
      "WARNING: License for feature 'TKCAS SAS Cloud Analytic Services Server' has expired and will stop working in 43 days. Contact your installation representative to obtain a renewal.\n",
      "WARNING: License for feature 'BASE Base SAS' has expired and will stop working in 43 days. Contact your installation representative to obtain a renewal.\n",
      "WARNING: License for feature 'TKCAS SAS Cloud Analytic Services Server' has expired and will stop working in 43 days. Contact your installation representative to obtain a renewal.\n",
      "WARNING: License for feature 'BASE Base SAS' has expired and will stop working in 43 days. Contact your installation representative to obtain a renewal.\n",
      "WARNING: License for feature 'TKCAS SAS Cloud Analytic Services Server' has expired and will stop working in 43 days. Contact your installation representative to obtain a renewal.\n",
      "WARNING: License for feature 'BASE Base SAS' has expired and will stop working in 43 days. Contact your installation representative to obtain a renewal.\n",
      "WARNING: License for feature 'TKCAS SAS Cloud Analytic Services Server' has expired and will stop working in 43 days. Contact your installation representative to obtain a renewal.\n",
      "WARNING: License for feature 'BASE Base SAS' has expired and will stop working in 43 days. Contact your installation representative to obtain a renewal.\n",
      "WARNING: License for feature 'TKCAS SAS Cloud Analytic Services Server' has expired and will stop working in 43 days. Contact your installation representative to obtain a renewal.\n",
      "WARNING: License for feature 'BASE Base SAS' has expired and will stop working in 43 days. Contact your installation representative to obtain a renewal.\n",
      "WARNING: License for feature 'TKCAS SAS Cloud Analytic Services Server' has expired and will stop working in 43 days. Contact your installation representative to obtain a renewal.\n",
      "WARNING: License for feature 'BASE Base SAS' has expired and will stop working in 43 days. Contact your installation representative to obtain a renewal.\n",
      "WARNING: License for feature 'TKCAS SAS Cloud Analytic Services Server' has expired and will stop working in 43 days. Contact your installation representative to obtain a renewal.\n",
      "WARNING: License for feature 'BASE Base SAS' has expired and will stop working in 43 days. Contact your installation representative to obtain a renewal.\n",
      "WARNING: License for feature 'TKCAS SAS Cloud Analytic Services Server' has expired and will stop working in 43 days. Contact your installation representative to obtain a renewal.\n",
      "WARNING: License for feature 'BASE Base SAS' has expired and will stop working in 43 days. Contact your installation representative to obtain a renewal.\n",
      "WARNING: License for feature 'TKCAS SAS Cloud Analytic Services Server' has expired and will stop working in 43 days. Contact your installation representative to obtain a renewal.\n",
      "WARNING: License for feature 'BASE Base SAS' has expired and will stop working in 43 days. Contact your installation representative to obtain a renewal.\n",
      "WARNING: License for feature 'TKCAS SAS Cloud Analytic Services Server' has expired and will stop working in 43 days. Contact your installation representative to obtain a renewal.\n",
      "WARNING: License for feature 'BASE Base SAS' has expired and will stop working in 43 days. Contact your installation representative to obtain a renewal.\n",
      "WARNING: License for feature 'TKCAS SAS Cloud Analytic Services Server' has expired and will stop working in 43 days. Contact your installation representative to obtain a renewal.\n",
      "WARNING: License for feature 'BASE Base SAS' has expired and will stop working in 43 days. Contact your installation representative to obtain a renewal.\n",
      "maxDifferences.json was successfully written and saved to C:\\Users\\elmcfa\\PycharmProjects\\python-sasctl\\examples\\data\\BiasMetrics\\titanicModels\\RandomForest\\maxDifferences.json\n",
      "groupMetrics.json was successfully written and saved to C:\\Users\\elmcfa\\PycharmProjects\\python-sasctl\\examples\\data\\BiasMetrics\\titanicModels\\RandomForest\\groupMetrics.json\n",
      "WARNING: License for feature 'TKCAS SAS Cloud Analytic Services Server' has expired and will stop working in 43 days. Contact your installation representative to obtain a renewal.\n",
      "WARNING: License for feature 'TKCAS SAS Cloud Analytic Services Server' has expired and will stop working in 43 days. Contact your installation representative to obtain a renewal.\n",
      "WARNING: License for feature 'TKCAS SAS Cloud Analytic Services Server' has expired and will stop working in 43 days. Contact your installation representative to obtain a renewal.\n",
      "WARNING: License for feature 'TKCAS SAS Cloud Analytic Services Server' has expired and will stop working in 43 days. Contact your installation representative to obtain a renewal.\n",
      "WARNING: License for feature 'CRSFAIRAITOOLS Action Set for Assessing and Mitigating' has expired and will stop working in 43 days. Contact your installation representative to obtain a renewal.\n",
      "WARNING: License for feature 'TKCAS SAS Cloud Analytic Services Server' has expired and will stop working in 43 days. Contact your installation representative to obtain a renewal.\n",
      "WARNING: License for feature 'TKCAS SAS Cloud Analytic Services Server' has expired and will stop working in 43 days. Contact your installation representative to obtain a renewal.\n",
      "WARNING: License for feature 'TKCAS SAS Cloud Analytic Services Server' has expired and will stop working in 43 days. Contact your installation representative to obtain a renewal.\n",
      "WARNING: License for feature 'BASE Base SAS' has expired and will stop working in 43 days. Contact your installation representative to obtain a renewal.\n",
      "WARNING: License for feature 'TKCAS SAS Cloud Analytic Services Server' has expired and will stop working in 43 days. Contact your installation representative to obtain a renewal.\n",
      "WARNING: License for feature 'BASE Base SAS' has expired and will stop working in 43 days. Contact your installation representative to obtain a renewal.\n",
      "WARNING: License for feature 'TKCAS SAS Cloud Analytic Services Server' has expired and will stop working in 43 days. Contact your installation representative to obtain a renewal.\n",
      "WARNING: License for feature 'BASE Base SAS' has expired and will stop working in 43 days. Contact your installation representative to obtain a renewal.\n",
      "WARNING: License for feature 'TKCAS SAS Cloud Analytic Services Server' has expired and will stop working in 43 days. Contact your installation representative to obtain a renewal.\n",
      "WARNING: License for feature 'BASE Base SAS' has expired and will stop working in 43 days. Contact your installation representative to obtain a renewal.\n",
      "WARNING: License for feature 'TKCAS SAS Cloud Analytic Services Server' has expired and will stop working in 43 days. Contact your installation representative to obtain a renewal.\n",
      "WARNING: License for feature 'BASE Base SAS' has expired and will stop working in 43 days. Contact your installation representative to obtain a renewal.\n",
      "WARNING: License for feature 'TKCAS SAS Cloud Analytic Services Server' has expired and will stop working in 43 days. Contact your installation representative to obtain a renewal.\n",
      "WARNING: License for feature 'BASE Base SAS' has expired and will stop working in 43 days. Contact your installation representative to obtain a renewal.\n",
      "WARNING: License for feature 'TKCAS SAS Cloud Analytic Services Server' has expired and will stop working in 43 days. Contact your installation representative to obtain a renewal.\n",
      "WARNING: License for feature 'BASE Base SAS' has expired and will stop working in 43 days. Contact your installation representative to obtain a renewal.\n",
      "WARNING: License for feature 'TKCAS SAS Cloud Analytic Services Server' has expired and will stop working in 43 days. Contact your installation representative to obtain a renewal.\n",
      "WARNING: License for feature 'BASE Base SAS' has expired and will stop working in 43 days. Contact your installation representative to obtain a renewal.\n",
      "WARNING: License for feature 'TKCAS SAS Cloud Analytic Services Server' has expired and will stop working in 43 days. Contact your installation representative to obtain a renewal.\n",
      "WARNING: License for feature 'BASE Base SAS' has expired and will stop working in 43 days. Contact your installation representative to obtain a renewal.\n",
      "WARNING: License for feature 'TKCAS SAS Cloud Analytic Services Server' has expired and will stop working in 43 days. Contact your installation representative to obtain a renewal.\n",
      "WARNING: License for feature 'BASE Base SAS' has expired and will stop working in 43 days. Contact your installation representative to obtain a renewal.\n",
      "WARNING: License for feature 'TKCAS SAS Cloud Analytic Services Server' has expired and will stop working in 43 days. Contact your installation representative to obtain a renewal.\n",
      "WARNING: License for feature 'BASE Base SAS' has expired and will stop working in 43 days. Contact your installation representative to obtain a renewal.\n",
      "WARNING: License for feature 'TKCAS SAS Cloud Analytic Services Server' has expired and will stop working in 43 days. Contact your installation representative to obtain a renewal.\n",
      "WARNING: License for feature 'BASE Base SAS' has expired and will stop working in 43 days. Contact your installation representative to obtain a renewal.\n",
      "WARNING: License for feature 'TKCAS SAS Cloud Analytic Services Server' has expired and will stop working in 43 days. Contact your installation representative to obtain a renewal.\n",
      "WARNING: License for feature 'BASE Base SAS' has expired and will stop working in 43 days. Contact your installation representative to obtain a renewal.\n",
      "WARNING: License for feature 'TKCAS SAS Cloud Analytic Services Server' has expired and will stop working in 43 days. Contact your installation representative to obtain a renewal.\n",
      "WARNING: License for feature 'BASE Base SAS' has expired and will stop working in 43 days. Contact your installation representative to obtain a renewal.\n",
      "WARNING: License for feature 'TKCAS SAS Cloud Analytic Services Server' has expired and will stop working in 43 days. Contact your installation representative to obtain a renewal.\n",
      "WARNING: License for feature 'BASE Base SAS' has expired and will stop working in 43 days. Contact your installation representative to obtain a renewal.\n",
      "WARNING: License for feature 'TKCAS SAS Cloud Analytic Services Server' has expired and will stop working in 43 days. Contact your installation representative to obtain a renewal.\n",
      "WARNING: License for feature 'BASE Base SAS' has expired and will stop working in 43 days. Contact your installation representative to obtain a renewal.\n",
      "WARNING: License for feature 'TKCAS SAS Cloud Analytic Services Server' has expired and will stop working in 43 days. Contact your installation representative to obtain a renewal.\n",
      "WARNING: License for feature 'BASE Base SAS' has expired and will stop working in 43 days. Contact your installation representative to obtain a renewal.\n",
      "WARNING: License for feature 'TKCAS SAS Cloud Analytic Services Server' has expired and will stop working in 43 days. Contact your installation representative to obtain a renewal.\n",
      "WARNING: License for feature 'BASE Base SAS' has expired and will stop working in 43 days. Contact your installation representative to obtain a renewal.\n",
      "WARNING: License for feature 'TKCAS SAS Cloud Analytic Services Server' has expired and will stop working in 43 days. Contact your installation representative to obtain a renewal.\n",
      "WARNING: License for feature 'BASE Base SAS' has expired and will stop working in 43 days. Contact your installation representative to obtain a renewal.\n",
      "WARNING: License for feature 'TKCAS SAS Cloud Analytic Services Server' has expired and will stop working in 43 days. Contact your installation representative to obtain a renewal.\n",
      "WARNING: License for feature 'BASE Base SAS' has expired and will stop working in 43 days. Contact your installation representative to obtain a renewal.\n",
      "WARNING: License for feature 'TKCAS SAS Cloud Analytic Services Server' has expired and will stop working in 43 days. Contact your installation representative to obtain a renewal.\n",
      "WARNING: License for feature 'BASE Base SAS' has expired and will stop working in 43 days. Contact your installation representative to obtain a renewal.\n",
      "WARNING: License for feature 'TKCAS SAS Cloud Analytic Services Server' has expired and will stop working in 43 days. Contact your installation representative to obtain a renewal.\n",
      "WARNING: License for feature 'BASE Base SAS' has expired and will stop working in 43 days. Contact your installation representative to obtain a renewal.\n",
      "WARNING: License for feature 'TKCAS SAS Cloud Analytic Services Server' has expired and will stop working in 43 days. Contact your installation representative to obtain a renewal.\n",
      "WARNING: License for feature 'BASE Base SAS' has expired and will stop working in 43 days. Contact your installation representative to obtain a renewal.\n",
      "WARNING: License for feature 'TKCAS SAS Cloud Analytic Services Server' has expired and will stop working in 43 days. Contact your installation representative to obtain a renewal.\n",
      "WARNING: License for feature 'BASE Base SAS' has expired and will stop working in 43 days. Contact your installation representative to obtain a renewal.\n",
      "WARNING: License for feature 'TKCAS SAS Cloud Analytic Services Server' has expired and will stop working in 43 days. Contact your installation representative to obtain a renewal.\n",
      "WARNING: License for feature 'BASE Base SAS' has expired and will stop working in 43 days. Contact your installation representative to obtain a renewal.\n",
      "WARNING: License for feature 'TKCAS SAS Cloud Analytic Services Server' has expired and will stop working in 43 days. Contact your installation representative to obtain a renewal.\n",
      "WARNING: License for feature 'BASE Base SAS' has expired and will stop working in 43 days. Contact your installation representative to obtain a renewal.\n",
      "WARNING: License for feature 'TKCAS SAS Cloud Analytic Services Server' has expired and will stop working in 43 days. Contact your installation representative to obtain a renewal.\n",
      "WARNING: License for feature 'BASE Base SAS' has expired and will stop working in 43 days. Contact your installation representative to obtain a renewal.\n",
      "WARNING: License for feature 'TKCAS SAS Cloud Analytic Services Server' has expired and will stop working in 43 days. Contact your installation representative to obtain a renewal.\n",
      "WARNING: License for feature 'BASE Base SAS' has expired and will stop working in 43 days. Contact your installation representative to obtain a renewal.\n",
      "WARNING: License for feature 'TKCAS SAS Cloud Analytic Services Server' has expired and will stop working in 43 days. Contact your installation representative to obtain a renewal.\n",
      "WARNING: License for feature 'BASE Base SAS' has expired and will stop working in 43 days. Contact your installation representative to obtain a renewal.\n",
      "WARNING: License for feature 'TKCAS SAS Cloud Analytic Services Server' has expired and will stop working in 43 days. Contact your installation representative to obtain a renewal.\n",
      "WARNING: License for feature 'BASE Base SAS' has expired and will stop working in 43 days. Contact your installation representative to obtain a renewal.\n",
      "WARNING: License for feature 'TKCAS SAS Cloud Analytic Services Server' has expired and will stop working in 43 days. Contact your installation representative to obtain a renewal.\n",
      "WARNING: License for feature 'BASE Base SAS' has expired and will stop working in 43 days. Contact your installation representative to obtain a renewal.\n",
      "WARNING: License for feature 'TKCAS SAS Cloud Analytic Services Server' has expired and will stop working in 43 days. Contact your installation representative to obtain a renewal.\n",
      "WARNING: License for feature 'BASE Base SAS' has expired and will stop working in 43 days. Contact your installation representative to obtain a renewal.\n",
      "WARNING: License for feature 'TKCAS SAS Cloud Analytic Services Server' has expired and will stop working in 43 days. Contact your installation representative to obtain a renewal.\n",
      "WARNING: License for feature 'BASE Base SAS' has expired and will stop working in 43 days. Contact your installation representative to obtain a renewal.\n",
      "WARNING: License for feature 'TKCAS SAS Cloud Analytic Services Server' has expired and will stop working in 43 days. Contact your installation representative to obtain a renewal.\n",
      "WARNING: License for feature 'BASE Base SAS' has expired and will stop working in 43 days. Contact your installation representative to obtain a renewal.\n",
      "WARNING: License for feature 'TKCAS SAS Cloud Analytic Services Server' has expired and will stop working in 43 days. Contact your installation representative to obtain a renewal.\n",
      "WARNING: License for feature 'BASE Base SAS' has expired and will stop working in 43 days. Contact your installation representative to obtain a renewal.\n",
      "WARNING: License for feature 'TKCAS SAS Cloud Analytic Services Server' has expired and will stop working in 43 days. Contact your installation representative to obtain a renewal.\n",
      "WARNING: License for feature 'BASE Base SAS' has expired and will stop working in 43 days. Contact your installation representative to obtain a renewal.\n",
      "WARNING: License for feature 'TKCAS SAS Cloud Analytic Services Server' has expired and will stop working in 43 days. Contact your installation representative to obtain a renewal.\n",
      "WARNING: License for feature 'BASE Base SAS' has expired and will stop working in 43 days. Contact your installation representative to obtain a renewal.\n",
      "WARNING: License for feature 'TKCAS SAS Cloud Analytic Services Server' has expired and will stop working in 43 days. Contact your installation representative to obtain a renewal.\n",
      "WARNING: License for feature 'BASE Base SAS' has expired and will stop working in 43 days. Contact your installation representative to obtain a renewal.\n",
      "WARNING: License for feature 'TKCAS SAS Cloud Analytic Services Server' has expired and will stop working in 43 days. Contact your installation representative to obtain a renewal.\n",
      "WARNING: License for feature 'BASE Base SAS' has expired and will stop working in 43 days. Contact your installation representative to obtain a renewal.\n",
      "WARNING: License for feature 'TKCAS SAS Cloud Analytic Services Server' has expired and will stop working in 43 days. Contact your installation representative to obtain a renewal.\n",
      "WARNING: License for feature 'BASE Base SAS' has expired and will stop working in 43 days. Contact your installation representative to obtain a renewal.\n",
      "WARNING: License for feature 'TKCAS SAS Cloud Analytic Services Server' has expired and will stop working in 43 days. Contact your installation representative to obtain a renewal.\n",
      "WARNING: License for feature 'BASE Base SAS' has expired and will stop working in 43 days. Contact your installation representative to obtain a renewal.\n",
      "WARNING: License for feature 'TKCAS SAS Cloud Analytic Services Server' has expired and will stop working in 43 days. Contact your installation representative to obtain a renewal.\n",
      "WARNING: License for feature 'BASE Base SAS' has expired and will stop working in 43 days. Contact your installation representative to obtain a renewal.\n",
      "WARNING: License for feature 'TKCAS SAS Cloud Analytic Services Server' has expired and will stop working in 43 days. Contact your installation representative to obtain a renewal.\n",
      "WARNING: License for feature 'BASE Base SAS' has expired and will stop working in 43 days. Contact your installation representative to obtain a renewal.\n",
      "WARNING: License for feature 'TKCAS SAS Cloud Analytic Services Server' has expired and will stop working in 43 days. Contact your installation representative to obtain a renewal.\n",
      "WARNING: License for feature 'BASE Base SAS' has expired and will stop working in 43 days. Contact your installation representative to obtain a renewal.\n",
      "WARNING: License for feature 'TKCAS SAS Cloud Analytic Services Server' has expired and will stop working in 43 days. Contact your installation representative to obtain a renewal.\n",
      "WARNING: License for feature 'BASE Base SAS' has expired and will stop working in 43 days. Contact your installation representative to obtain a renewal.\n",
      "WARNING: License for feature 'TKCAS SAS Cloud Analytic Services Server' has expired and will stop working in 43 days. Contact your installation representative to obtain a renewal.\n",
      "WARNING: License for feature 'BASE Base SAS' has expired and will stop working in 43 days. Contact your installation representative to obtain a renewal.\n",
      "WARNING: License for feature 'TKCAS SAS Cloud Analytic Services Server' has expired and will stop working in 43 days. Contact your installation representative to obtain a renewal.\n",
      "WARNING: License for feature 'BASE Base SAS' has expired and will stop working in 43 days. Contact your installation representative to obtain a renewal.\n",
      "WARNING: License for feature 'TKCAS SAS Cloud Analytic Services Server' has expired and will stop working in 43 days. Contact your installation representative to obtain a renewal.\n",
      "WARNING: License for feature 'BASE Base SAS' has expired and will stop working in 43 days. Contact your installation representative to obtain a renewal.\n",
      "WARNING: License for feature 'TKCAS SAS Cloud Analytic Services Server' has expired and will stop working in 43 days. Contact your installation representative to obtain a renewal.\n",
      "WARNING: License for feature 'BASE Base SAS' has expired and will stop working in 43 days. Contact your installation representative to obtain a renewal.\n",
      "WARNING: License for feature 'TKCAS SAS Cloud Analytic Services Server' has expired and will stop working in 43 days. Contact your installation representative to obtain a renewal.\n",
      "WARNING: License for feature 'BASE Base SAS' has expired and will stop working in 43 days. Contact your installation representative to obtain a renewal.\n",
      "WARNING: License for feature 'TKCAS SAS Cloud Analytic Services Server' has expired and will stop working in 43 days. Contact your installation representative to obtain a renewal.\n",
      "WARNING: License for feature 'BASE Base SAS' has expired and will stop working in 43 days. Contact your installation representative to obtain a renewal.\n",
      "WARNING: License for feature 'TKCAS SAS Cloud Analytic Services Server' has expired and will stop working in 43 days. Contact your installation representative to obtain a renewal.\n",
      "WARNING: License for feature 'BASE Base SAS' has expired and will stop working in 43 days. Contact your installation representative to obtain a renewal.\n",
      "WARNING: License for feature 'TKCAS SAS Cloud Analytic Services Server' has expired and will stop working in 43 days. Contact your installation representative to obtain a renewal.\n",
      "WARNING: License for feature 'BASE Base SAS' has expired and will stop working in 43 days. Contact your installation representative to obtain a renewal.\n",
      "WARNING: License for feature 'TKCAS SAS Cloud Analytic Services Server' has expired and will stop working in 43 days. Contact your installation representative to obtain a renewal.\n",
      "WARNING: License for feature 'BASE Base SAS' has expired and will stop working in 43 days. Contact your installation representative to obtain a renewal.\n",
      "WARNING: License for feature 'TKCAS SAS Cloud Analytic Services Server' has expired and will stop working in 43 days. Contact your installation representative to obtain a renewal.\n",
      "WARNING: License for feature 'BASE Base SAS' has expired and will stop working in 43 days. Contact your installation representative to obtain a renewal.\n",
      "WARNING: License for feature 'TKCAS SAS Cloud Analytic Services Server' has expired and will stop working in 43 days. Contact your installation representative to obtain a renewal.\n",
      "WARNING: License for feature 'BASE Base SAS' has expired and will stop working in 43 days. Contact your installation representative to obtain a renewal.\n",
      "WARNING: License for feature 'TKCAS SAS Cloud Analytic Services Server' has expired and will stop working in 43 days. Contact your installation representative to obtain a renewal.\n",
      "WARNING: License for feature 'BASE Base SAS' has expired and will stop working in 43 days. Contact your installation representative to obtain a renewal.\n",
      "WARNING: License for feature 'TKCAS SAS Cloud Analytic Services Server' has expired and will stop working in 43 days. Contact your installation representative to obtain a renewal.\n",
      "WARNING: License for feature 'BASE Base SAS' has expired and will stop working in 43 days. Contact your installation representative to obtain a renewal.\n",
      "WARNING: License for feature 'TKCAS SAS Cloud Analytic Services Server' has expired and will stop working in 43 days. Contact your installation representative to obtain a renewal.\n",
      "WARNING: License for feature 'BASE Base SAS' has expired and will stop working in 43 days. Contact your installation representative to obtain a renewal.\n",
      "WARNING: License for feature 'TKCAS SAS Cloud Analytic Services Server' has expired and will stop working in 43 days. Contact your installation representative to obtain a renewal.\n",
      "WARNING: License for feature 'BASE Base SAS' has expired and will stop working in 43 days. Contact your installation representative to obtain a renewal.\n",
      "WARNING: License for feature 'TKCAS SAS Cloud Analytic Services Server' has expired and will stop working in 43 days. Contact your installation representative to obtain a renewal.\n",
      "WARNING: License for feature 'BASE Base SAS' has expired and will stop working in 43 days. Contact your installation representative to obtain a renewal.\n",
      "WARNING: License for feature 'TKCAS SAS Cloud Analytic Services Server' has expired and will stop working in 43 days. Contact your installation representative to obtain a renewal.\n",
      "WARNING: License for feature 'BASE Base SAS' has expired and will stop working in 43 days. Contact your installation representative to obtain a renewal.\n",
      "WARNING: License for feature 'TKCAS SAS Cloud Analytic Services Server' has expired and will stop working in 43 days. Contact your installation representative to obtain a renewal.\n",
      "WARNING: License for feature 'BASE Base SAS' has expired and will stop working in 43 days. Contact your installation representative to obtain a renewal.\n",
      "WARNING: License for feature 'TKCAS SAS Cloud Analytic Services Server' has expired and will stop working in 43 days. Contact your installation representative to obtain a renewal.\n",
      "WARNING: License for feature 'BASE Base SAS' has expired and will stop working in 43 days. Contact your installation representative to obtain a renewal.\n",
      "WARNING: License for feature 'TKCAS SAS Cloud Analytic Services Server' has expired and will stop working in 43 days. Contact your installation representative to obtain a renewal.\n",
      "WARNING: License for feature 'BASE Base SAS' has expired and will stop working in 43 days. Contact your installation representative to obtain a renewal.\n",
      "WARNING: License for feature 'TKCAS SAS Cloud Analytic Services Server' has expired and will stop working in 43 days. Contact your installation representative to obtain a renewal.\n",
      "WARNING: License for feature 'BASE Base SAS' has expired and will stop working in 43 days. Contact your installation representative to obtain a renewal.\n",
      "WARNING: License for feature 'TKCAS SAS Cloud Analytic Services Server' has expired and will stop working in 43 days. Contact your installation representative to obtain a renewal.\n",
      "WARNING: License for feature 'BASE Base SAS' has expired and will stop working in 43 days. Contact your installation representative to obtain a renewal.\n",
      "WARNING: License for feature 'TKCAS SAS Cloud Analytic Services Server' has expired and will stop working in 43 days. Contact your installation representative to obtain a renewal.\n",
      "WARNING: License for feature 'BASE Base SAS' has expired and will stop working in 43 days. Contact your installation representative to obtain a renewal.\n",
      "WARNING: License for feature 'TKCAS SAS Cloud Analytic Services Server' has expired and will stop working in 43 days. Contact your installation representative to obtain a renewal.\n",
      "WARNING: License for feature 'BASE Base SAS' has expired and will stop working in 43 days. Contact your installation representative to obtain a renewal.\n",
      "WARNING: License for feature 'TKCAS SAS Cloud Analytic Services Server' has expired and will stop working in 43 days. Contact your installation representative to obtain a renewal.\n",
      "WARNING: License for feature 'BASE Base SAS' has expired and will stop working in 43 days. Contact your installation representative to obtain a renewal.\n",
      "WARNING: License for feature 'TKCAS SAS Cloud Analytic Services Server' has expired and will stop working in 43 days. Contact your installation representative to obtain a renewal.\n",
      "WARNING: License for feature 'BASE Base SAS' has expired and will stop working in 43 days. Contact your installation representative to obtain a renewal.\n",
      "WARNING: License for feature 'TKCAS SAS Cloud Analytic Services Server' has expired and will stop working in 43 days. Contact your installation representative to obtain a renewal.\n",
      "WARNING: License for feature 'BASE Base SAS' has expired and will stop working in 43 days. Contact your installation representative to obtain a renewal.\n",
      "WARNING: License for feature 'TKCAS SAS Cloud Analytic Services Server' has expired and will stop working in 43 days. Contact your installation representative to obtain a renewal.\n",
      "WARNING: License for feature 'BASE Base SAS' has expired and will stop working in 43 days. Contact your installation representative to obtain a renewal.\n",
      "WARNING: License for feature 'TKCAS SAS Cloud Analytic Services Server' has expired and will stop working in 43 days. Contact your installation representative to obtain a renewal.\n",
      "WARNING: License for feature 'BASE Base SAS' has expired and will stop working in 43 days. Contact your installation representative to obtain a renewal.\n",
      "maxDifferences.json was successfully written and saved to C:\\Users\\elmcfa\\PycharmProjects\\python-sasctl\\examples\\data\\BiasMetrics\\titanicModels\\GradientBoost\\maxDifferences.json\n",
      "groupMetrics.json was successfully written and saved to C:\\Users\\elmcfa\\PycharmProjects\\python-sasctl\\examples\\data\\BiasMetrics\\titanicModels\\GradientBoost\\groupMetrics.json\n"
     ]
    }
   ],
   "source": [
    "# creating assess bias json files and getting dataframes\n",
    "assess_bias_dfs = {}\n",
    "\n",
    "for (model, path) in zip(model_prefix, zip_folder):\n",
    "    dfs = pzmm.JSONFiles.assess_model_bias(\n",
    "        score_table=score_tables[model],\n",
    "        actual_values='Survived', # actual classes\n",
    "        sensitive_values='Sex', # variable to assess for bias, can add more as a list\n",
    "        prob_values=['P_Survived1', 'P_Survived0'], # first class will be the target class\n",
    "        levels=['1', '0'], # same order as prob_values\n",
    "        json_path=path, # can same directory as other MM files and upload all files to MM\n",
    "        return_dataframes=True # returns group metrics and max differences data frames, default is False\n",
    "    )\n",
    "\n",
    "    assess_bias_dfs[model] = dfs"
   ],
   "metadata": {
    "collapsed": false,
    "ExecuteTime": {
     "end_time": "2023-07-05T13:33:01.690975100Z",
     "start_time": "2023-07-05T13:32:42.913739300Z"
    }
   }
  },
  {
   "cell_type": "markdown",
   "source": [
    "## Assess Model Bias Output"
   ],
   "metadata": {
    "collapsed": false
   }
  },
  {
   "cell_type": "markdown",
   "source": [
    "### Example Data Frames"
   ],
   "metadata": {
    "collapsed": false
   }
  },
  {
   "cell_type": "code",
   "execution_count": 47,
   "outputs": [
    {
     "data": {
      "text/plain": "   INTO_EVENT   LEVEL  PREDICTED_EVENT  P_Survived0  P_Survived1 VLABEL  \\\n0    0.266667  female         0.468000     0.532000     0.468000          \n1    0.028571    male         0.180286     0.819714     0.180286          \n\n  _DATAROLE_ _VARIABLE_     _acc_     _ase_  ...    _mcll_  _misccutoff_  \\\n0       TEST        Sex  0.466667  0.295813  ...  0.827098      0.533333   \n1       TEST        Sex  0.885714  0.108351  ...  0.377885      0.114286   \n\n   _miscks_  _nobs_    _rase_  _resp_  _tn_    _tnr_  _tp_  _tpr_  \n0  0.266667    15.0  0.543887     0.0   4.0  0.80000   3.0    0.3  \n1  0.828571    35.0  0.329168     0.0  31.0  0.96875   0.0    0.0  \n\n[2 rows x 35 columns]",
      "text/html": "<div>\n<style scoped>\n    .dataframe tbody tr th:only-of-type {\n        vertical-align: middle;\n    }\n\n    .dataframe tbody tr th {\n        vertical-align: top;\n    }\n\n    .dataframe thead th {\n        text-align: right;\n    }\n</style>\n<table border=\"1\" class=\"dataframe\">\n  <thead>\n    <tr style=\"text-align: right;\">\n      <th></th>\n      <th>INTO_EVENT</th>\n      <th>LEVEL</th>\n      <th>PREDICTED_EVENT</th>\n      <th>P_Survived0</th>\n      <th>P_Survived1</th>\n      <th>VLABEL</th>\n      <th>_DATAROLE_</th>\n      <th>_VARIABLE_</th>\n      <th>_acc_</th>\n      <th>_ase_</th>\n      <th>...</th>\n      <th>_mcll_</th>\n      <th>_misccutoff_</th>\n      <th>_miscks_</th>\n      <th>_nobs_</th>\n      <th>_rase_</th>\n      <th>_resp_</th>\n      <th>_tn_</th>\n      <th>_tnr_</th>\n      <th>_tp_</th>\n      <th>_tpr_</th>\n    </tr>\n  </thead>\n  <tbody>\n    <tr>\n      <th>0</th>\n      <td>0.266667</td>\n      <td>female</td>\n      <td>0.468000</td>\n      <td>0.532000</td>\n      <td>0.468000</td>\n      <td></td>\n      <td>TEST</td>\n      <td>Sex</td>\n      <td>0.466667</td>\n      <td>0.295813</td>\n      <td>...</td>\n      <td>0.827098</td>\n      <td>0.533333</td>\n      <td>0.266667</td>\n      <td>15.0</td>\n      <td>0.543887</td>\n      <td>0.0</td>\n      <td>4.0</td>\n      <td>0.80000</td>\n      <td>3.0</td>\n      <td>0.3</td>\n    </tr>\n    <tr>\n      <th>1</th>\n      <td>0.028571</td>\n      <td>male</td>\n      <td>0.180286</td>\n      <td>0.819714</td>\n      <td>0.180286</td>\n      <td></td>\n      <td>TEST</td>\n      <td>Sex</td>\n      <td>0.885714</td>\n      <td>0.108351</td>\n      <td>...</td>\n      <td>0.377885</td>\n      <td>0.114286</td>\n      <td>0.828571</td>\n      <td>35.0</td>\n      <td>0.329168</td>\n      <td>0.0</td>\n      <td>31.0</td>\n      <td>0.96875</td>\n      <td>0.0</td>\n      <td>0.0</td>\n    </tr>\n  </tbody>\n</table>\n<p>2 rows × 35 columns</p>\n</div>"
     },
     "execution_count": 47,
     "metadata": {},
     "output_type": "execute_result"
    }
   ],
   "source": [
    "assess_bias_dfs['RandomForest']['groupMetricsData'].head()"
   ],
   "metadata": {
    "collapsed": false,
    "ExecuteTime": {
     "end_time": "2023-07-05T15:33:00.877857600Z",
     "start_time": "2023-07-05T15:33:00.853188Z"
    }
   }
  },
  {
   "cell_type": "code",
   "execution_count": 48,
   "outputs": [
    {
     "data": {
      "text/plain": "     BASE COMPARE       Metric          MetricLabel VLABEL _DATAROLE_  \\\n0  female    male  P_Survived1  Average P_Survived1              TEST   \n1    male  female  P_Survived0  Average P_Survived0              TEST   \n2  female    male          TPR   True Positive Rate              TEST   \n3  female    male          FPR  False Positive Rate              TEST   \n4    male  female          TNR   True Negative Rate              TEST   \n\n  _VARIABLE_   maxdiff  \n0        Sex  0.287714  \n1        Sex  0.287714  \n2        Sex  0.300000  \n3        Sex  0.168750  \n4        Sex  0.168750  ",
      "text/html": "<div>\n<style scoped>\n    .dataframe tbody tr th:only-of-type {\n        vertical-align: middle;\n    }\n\n    .dataframe tbody tr th {\n        vertical-align: top;\n    }\n\n    .dataframe thead th {\n        text-align: right;\n    }\n</style>\n<table border=\"1\" class=\"dataframe\">\n  <thead>\n    <tr style=\"text-align: right;\">\n      <th></th>\n      <th>BASE</th>\n      <th>COMPARE</th>\n      <th>Metric</th>\n      <th>MetricLabel</th>\n      <th>VLABEL</th>\n      <th>_DATAROLE_</th>\n      <th>_VARIABLE_</th>\n      <th>maxdiff</th>\n    </tr>\n  </thead>\n  <tbody>\n    <tr>\n      <th>0</th>\n      <td>female</td>\n      <td>male</td>\n      <td>P_Survived1</td>\n      <td>Average P_Survived1</td>\n      <td></td>\n      <td>TEST</td>\n      <td>Sex</td>\n      <td>0.287714</td>\n    </tr>\n    <tr>\n      <th>1</th>\n      <td>male</td>\n      <td>female</td>\n      <td>P_Survived0</td>\n      <td>Average P_Survived0</td>\n      <td></td>\n      <td>TEST</td>\n      <td>Sex</td>\n      <td>0.287714</td>\n    </tr>\n    <tr>\n      <th>2</th>\n      <td>female</td>\n      <td>male</td>\n      <td>TPR</td>\n      <td>True Positive Rate</td>\n      <td></td>\n      <td>TEST</td>\n      <td>Sex</td>\n      <td>0.300000</td>\n    </tr>\n    <tr>\n      <th>3</th>\n      <td>female</td>\n      <td>male</td>\n      <td>FPR</td>\n      <td>False Positive Rate</td>\n      <td></td>\n      <td>TEST</td>\n      <td>Sex</td>\n      <td>0.168750</td>\n    </tr>\n    <tr>\n      <th>4</th>\n      <td>male</td>\n      <td>female</td>\n      <td>TNR</td>\n      <td>True Negative Rate</td>\n      <td></td>\n      <td>TEST</td>\n      <td>Sex</td>\n      <td>0.168750</td>\n    </tr>\n  </tbody>\n</table>\n</div>"
     },
     "execution_count": 48,
     "metadata": {},
     "output_type": "execute_result"
    }
   ],
   "source": [
    "assess_bias_dfs['RandomForest']['maxDifferencesData'].head()"
   ],
   "metadata": {
    "collapsed": false,
    "ExecuteTime": {
     "end_time": "2023-07-05T15:33:22.652492Z",
     "start_time": "2023-07-05T15:33:22.605493500Z"
    }
   }
  },
  {
   "cell_type": "code",
   "execution_count": 49,
   "outputs": [
    {
     "data": {
      "text/plain": "              Metric                              MetricLabel     Value  \\\n0  DemographicParity  Demographic Parity (Statistical Parity)  0.238095   \n1   PredictiveParity                        Predictive Parity  0.287714   \n2      EqualAccuracy                           Equal Accuracy  0.419048   \n3      EqualizedOdds                           Equalized Odds  0.300000   \n4   EqualOpportunity                        Equal Opportunity  0.300000   \n\n     Base Compare                                               Note  \\\n0  female    male                                                      \n1  female    male                                                      \n2    male  female                                                      \n3  female    male  The maximum TPR difference is greater than the...   \n4  female    male                                                      \n\n  _VARIABLE_  \n0        Sex  \n1        Sex  \n2        Sex  \n3        Sex  \n4        Sex  ",
      "text/html": "<div>\n<style scoped>\n    .dataframe tbody tr th:only-of-type {\n        vertical-align: middle;\n    }\n\n    .dataframe tbody tr th {\n        vertical-align: top;\n    }\n\n    .dataframe thead th {\n        text-align: right;\n    }\n</style>\n<table border=\"1\" class=\"dataframe\">\n  <thead>\n    <tr style=\"text-align: right;\">\n      <th></th>\n      <th>Metric</th>\n      <th>MetricLabel</th>\n      <th>Value</th>\n      <th>Base</th>\n      <th>Compare</th>\n      <th>Note</th>\n      <th>_VARIABLE_</th>\n    </tr>\n  </thead>\n  <tbody>\n    <tr>\n      <th>0</th>\n      <td>DemographicParity</td>\n      <td>Demographic Parity (Statistical Parity)</td>\n      <td>0.238095</td>\n      <td>female</td>\n      <td>male</td>\n      <td></td>\n      <td>Sex</td>\n    </tr>\n    <tr>\n      <th>1</th>\n      <td>PredictiveParity</td>\n      <td>Predictive Parity</td>\n      <td>0.287714</td>\n      <td>female</td>\n      <td>male</td>\n      <td></td>\n      <td>Sex</td>\n    </tr>\n    <tr>\n      <th>2</th>\n      <td>EqualAccuracy</td>\n      <td>Equal Accuracy</td>\n      <td>0.419048</td>\n      <td>male</td>\n      <td>female</td>\n      <td></td>\n      <td>Sex</td>\n    </tr>\n    <tr>\n      <th>3</th>\n      <td>EqualizedOdds</td>\n      <td>Equalized Odds</td>\n      <td>0.300000</td>\n      <td>female</td>\n      <td>male</td>\n      <td>The maximum TPR difference is greater than the...</td>\n      <td>Sex</td>\n    </tr>\n    <tr>\n      <th>4</th>\n      <td>EqualOpportunity</td>\n      <td>Equal Opportunity</td>\n      <td>0.300000</td>\n      <td>female</td>\n      <td>male</td>\n      <td></td>\n      <td>Sex</td>\n    </tr>\n  </tbody>\n</table>\n</div>"
     },
     "execution_count": 49,
     "metadata": {},
     "output_type": "execute_result"
    }
   ],
   "source": [
    "assess_bias_dfs['RandomForest']['biasMetricsData'].head()"
   ],
   "metadata": {
    "collapsed": false,
    "ExecuteTime": {
     "end_time": "2023-07-05T15:33:34.160731Z",
     "start_time": "2023-07-05T15:33:34.113668800Z"
    }
   }
  },
  {
   "cell_type": "markdown",
   "source": [
    "### Performance Bias"
   ],
   "metadata": {
    "collapsed": false
   }
  },
  {
   "cell_type": "code",
   "execution_count": 38,
   "outputs": [],
   "source": [
    "plt.rcParams[\"figure.figsize\"] = [7, 4]\n",
    "plt.rcParams[\"figure.autolayout\"] = True"
   ],
   "metadata": {
    "collapsed": false,
    "ExecuteTime": {
     "end_time": "2023-07-05T13:33:01.980147100Z",
     "start_time": "2023-07-05T13:33:01.805935300Z"
    }
   }
  },
  {
   "cell_type": "code",
   "execution_count": 39,
   "outputs": [
    {
     "data": {
      "text/plain": "<Figure size 700x400 with 3 Axes>",
      "image/png": "[encoded data removed]"
     },
     "metadata": {},
     "output_type": "display_data"
    }
   ],
   "source": [
    "fig, axes = plt.subplots(1, 3)\n",
    "fig.suptitle(\"Log Loss by Model\")\n",
    "\n",
    "sns.barplot(data=assess_bias_dfs['DecisionTree']['groupMetricsData'], x=\"LEVEL\", y='_mcll_', ax=axes[0]).set(title=\"Decision Tree\")\n",
    "sns.barplot(data=assess_bias_dfs['RandomForest']['groupMetricsData'], x=\"LEVEL\", y='_mcll_', ax=axes[1]).set(title=\"Random Forest\")\n",
    "sns.barplot(data=assess_bias_dfs['GradientBoost']['groupMetricsData'], x=\"LEVEL\", y='_mcll_', ax=axes[2]).set(title=\"Gradient Boosting\")\n",
    "\n",
    "plt.show()"
   ],
   "metadata": {
    "collapsed": false,
    "ExecuteTime": {
     "end_time": "2023-07-05T13:33:02.520937Z",
     "start_time": "2023-07-05T13:33:01.835773700Z"
    }
   }
  },
  {
   "cell_type": "markdown",
   "source": [
    "Log Loss: $$L_{log}(y|p) = -(ylog(p) + (1-y)log(1-p))$$\n",
    "Log loss measures accuracy and uncertainty. Lower values indicate either higher accuracy and or higher certainty. Here, the male category has better log loss values across the board."
   ],
   "metadata": {
    "collapsed": false
   }
  },
  {
   "cell_type": "code",
   "execution_count": 40,
   "outputs": [
    {
     "data": {
      "text/plain": "<Figure size 700x400 with 3 Axes>",
      "image/png": "[encoded data removed]"
     },
     "metadata": {},
     "output_type": "display_data"
    }
   ],
   "source": [
    "fig, axes = plt.subplots(1, 3)\n",
    "fig.suptitle(\"True Positive Rate by Model\")\n",
    "\n",
    "sns.barplot(data=assess_bias_dfs['DecisionTree']['groupMetricsData'], x=\"LEVEL\", y='_tpr_', ax=axes[0]).set(title=\"Decision Tree\")\n",
    "sns.barplot(data=assess_bias_dfs['RandomForest']['groupMetricsData'], x=\"LEVEL\", y='_tpr_', ax=axes[1]).set(title=\"Random Forest\")\n",
    "sns.barplot(data=assess_bias_dfs['GradientBoost']['groupMetricsData'], x=\"LEVEL\", y='_tpr_', ax=axes[2]).set(title=\"Gradient Boosting\")\n",
    "\n",
    "plt.show()"
   ],
   "metadata": {
    "collapsed": false,
    "ExecuteTime": {
     "end_time": "2023-07-05T13:33:03.490021700Z",
     "start_time": "2023-07-05T13:33:02.520937Z"
    }
   }
  },
  {
   "cell_type": "markdown",
   "source": [
    "True Positive Rate: $$\\frac{TP} {TP+FN}$$\n",
    "Higher true positive rates, or sensitivity, indicate that a higher portion of observations in the positive class are correctly classified. This metric coincides with the concept of equal opportunity where people who qualify for something are accepted at equal rates. No males were predicted to survive, despite some surviving, so the true positive rate for this category is 0."
   ],
   "metadata": {
    "collapsed": false
   }
  },
  {
   "cell_type": "code",
   "execution_count": 44,
   "outputs": [
    {
     "data": {
      "text/plain": "<Figure size 700x400 with 3 Axes>",
      "image/png": "[encoded data removed]"
     },
     "metadata": {},
     "output_type": "display_data"
    }
   ],
   "source": [
    "fig, axes = plt.subplots(1, 3)\n",
    "fig.suptitle(\"Best Kolmogorov-Smirnov along ROC by Model\")\n",
    "\n",
    "sns.barplot(data=assess_bias_dfs['DecisionTree']['groupMetricsData'], x=\"LEVEL\", y='_ks_', ax=axes[0]).set(title=\"Decision Tree\")\n",
    "sns.barplot(data=assess_bias_dfs['RandomForest']['groupMetricsData'], x=\"LEVEL\", y='_ks_', ax=axes[1]).set(title=\"Random Forest\")\n",
    "sns.barplot(data=assess_bias_dfs['GradientBoost']['groupMetricsData'], x=\"LEVEL\", y='_ks_', ax=axes[2]).set(title=\"Gradient Boosting\")\n",
    "\n",
    "plt.show()"
   ],
   "metadata": {
    "collapsed": false,
    "ExecuteTime": {
     "end_time": "2023-07-05T14:25:56.343012200Z",
     "start_time": "2023-07-05T14:25:55.875629900Z"
    }
   }
  },
  {
   "cell_type": "markdown",
   "source": [
    "Max Kolmogorov-Smirnov: $$max(\\mid{F_{Survive=1}(x) - F_{Survive=0}(x)\\mid)$$\n",
    "\n",
    "The best Kolmogorov-Smirnov statistic for binary classification problems is the maximum CDF difference between the predicted probability distributions of each level. Higher values indicate that a binary classification model is more capable of distinguishing the two classes. Except for the decision tree model where both values are 0, the models are better at distinguishing survival and death for females compared to males."
   ],
   "metadata": {
    "collapsed": false
   }
  },
  {
   "cell_type": "markdown",
   "source": [
    "### Average Prediction for Event"
   ],
   "metadata": {
    "collapsed": false
   }
  },
  {
   "cell_type": "code",
   "execution_count": 46,
   "outputs": [
    {
     "data": {
      "text/plain": "<Figure size 700x400 with 3 Axes>",
      "image/png": "[encoded data removed]"
     },
     "metadata": {},
     "output_type": "display_data"
    }
   ],
   "source": [
    "fig, axes = plt.subplots(1, 3)\n",
    "fig.suptitle(\"Predicted Probability of Survival by Model\")\n",
    "\n",
    "sns.barplot(data=assess_bias_dfs['DecisionTree']['groupMetricsData'], x=\"LEVEL\", y='PREDICTED_EVENT', ax=axes[0]).set(title=\"Decision Tree\")\n",
    "sns.barplot(data=assess_bias_dfs['RandomForest']['groupMetricsData'], x=\"LEVEL\", y='PREDICTED_EVENT', ax=axes[1]).set(title=\"Random Forest\")\n",
    "sns.barplot(data=assess_bias_dfs['GradientBoost']['groupMetricsData'], x=\"LEVEL\", y='PREDICTED_EVENT', ax=axes[2]).set(title=\"Gradient Boosting\")\n",
    "\n",
    "plt.show()"
   ],
   "metadata": {
    "collapsed": false,
    "ExecuteTime": {
     "end_time": "2023-07-05T15:31:14.486074Z",
     "start_time": "2023-07-05T15:31:13.938161300Z"
    }
   }
  },
  {
   "cell_type": "markdown",
   "source": [
    "The predicted event metric is the average predicted probability of the target class. The metric coincides with the concept of predictive parity where ideally each group has the same probability of an event. In this case, the event of interest is survival and the female category has a much higher predicted probability of surviving."
   ],
   "metadata": {
    "collapsed": false
   }
  },
  {
   "cell_type": "markdown",
   "source": [
    "## Multi-classification Example\n",
    "This section provides a quick overview for how to assess bias on a multi-classification model and the corresponding outputs. This example will also use the titanic dataset."
   ],
   "metadata": {
    "collapsed": false
   }
  },
  {
   "cell_type": "markdown",
   "source": [
    "### Load and Pre-process Data"
   ],
   "metadata": {
    "collapsed": false
   }
  },
  {
   "cell_type": "code",
   "execution_count": 51,
   "outputs": [
    {
     "data": {
      "text/plain": "   PassengerId  Survived  Pclass      Lname  \\\n0            1         0       3     Braund   \n1            2         1       1    Cumings   \n2            3         1       3  Heikkinen   \n3            4         1       1   Futrelle   \n4            5         0       3      Allen   \n\n                                          Name     Sex   Age  SibSp  Parch  \\\n0                              Mr. Owen Harris    male  22.0      1      0   \n1   Mrs. John Bradley (Florence Briggs Thayer)  female  38.0      1      0   \n2                                  Miss. Laina  female  26.0      0      0   \n3           Mrs. Jacques Heath (Lily May Peel)  female  35.0      1      0   \n4                            Mr. William Henry    male  35.0      0      0   \n\n             Ticket     Fare Cabin Embarked  \n0         A/5 21171   7.2500   NaN        S  \n1          PC 17599  71.2833   C85        C  \n2  STON/O2. 3101282   7.9250   NaN        S  \n3            113803  53.1000  C123        S  \n4            373450   8.0500   NaN        S  ",
      "text/html": "<div>\n<style scoped>\n    .dataframe tbody tr th:only-of-type {\n        vertical-align: middle;\n    }\n\n    .dataframe tbody tr th {\n        vertical-align: top;\n    }\n\n    .dataframe thead th {\n        text-align: right;\n    }\n</style>\n<table border=\"1\" class=\"dataframe\">\n  <thead>\n    <tr style=\"text-align: right;\">\n      <th></th>\n      <th>PassengerId</th>\n      <th>Survived</th>\n      <th>Pclass</th>\n      <th>Lname</th>\n      <th>Name</th>\n      <th>Sex</th>\n      <th>Age</th>\n      <th>SibSp</th>\n      <th>Parch</th>\n      <th>Ticket</th>\n      <th>Fare</th>\n      <th>Cabin</th>\n      <th>Embarked</th>\n    </tr>\n  </thead>\n  <tbody>\n    <tr>\n      <th>0</th>\n      <td>1</td>\n      <td>0</td>\n      <td>3</td>\n      <td>Braund</td>\n      <td>Mr. Owen Harris</td>\n      <td>male</td>\n      <td>22.0</td>\n      <td>1</td>\n      <td>0</td>\n      <td>A/5 21171</td>\n      <td>7.2500</td>\n      <td>NaN</td>\n      <td>S</td>\n    </tr>\n    <tr>\n      <th>1</th>\n      <td>2</td>\n      <td>1</td>\n      <td>1</td>\n      <td>Cumings</td>\n      <td>Mrs. John Bradley (Florence Briggs Thayer)</td>\n      <td>female</td>\n      <td>38.0</td>\n      <td>1</td>\n      <td>0</td>\n      <td>PC 17599</td>\n      <td>71.2833</td>\n      <td>C85</td>\n      <td>C</td>\n    </tr>\n    <tr>\n      <th>2</th>\n      <td>3</td>\n      <td>1</td>\n      <td>3</td>\n      <td>Heikkinen</td>\n      <td>Miss. Laina</td>\n      <td>female</td>\n      <td>26.0</td>\n      <td>0</td>\n      <td>0</td>\n      <td>STON/O2. 3101282</td>\n      <td>7.9250</td>\n      <td>NaN</td>\n      <td>S</td>\n    </tr>\n    <tr>\n      <th>3</th>\n      <td>4</td>\n      <td>1</td>\n      <td>1</td>\n      <td>Futrelle</td>\n      <td>Mrs. Jacques Heath (Lily May Peel)</td>\n      <td>female</td>\n      <td>35.0</td>\n      <td>1</td>\n      <td>0</td>\n      <td>113803</td>\n      <td>53.1000</td>\n      <td>C123</td>\n      <td>S</td>\n    </tr>\n    <tr>\n      <th>4</th>\n      <td>5</td>\n      <td>0</td>\n      <td>3</td>\n      <td>Allen</td>\n      <td>Mr. William Henry</td>\n      <td>male</td>\n      <td>35.0</td>\n      <td>0</td>\n      <td>0</td>\n      <td>373450</td>\n      <td>8.0500</td>\n      <td>NaN</td>\n      <td>S</td>\n    </tr>\n  </tbody>\n</table>\n</div>"
     },
     "execution_count": 51,
     "metadata": {},
     "output_type": "execute_result"
    }
   ],
   "source": [
    "df_raw.head()"
   ],
   "metadata": {
    "collapsed": false,
    "ExecuteTime": {
     "end_time": "2023-07-05T15:52:25.237364800Z",
     "start_time": "2023-07-05T15:52:25.203104900Z"
    }
   }
  },
  {
   "cell_type": "code",
   "execution_count": 59,
   "outputs": [],
   "source": [
    "columns = ['Survived', 'Pclass', 'Sex', 'Age', 'SibSp', 'Parch', 'Fare', 'Embarked']\n",
    "df = df_raw[columns].dropna()\n",
    "df = pd.get_dummies(df, columns=['Sex', 'Embarked'])\n",
    "df['Survived'] = df['Survived'].astype(str)"
   ],
   "metadata": {
    "collapsed": false,
    "ExecuteTime": {
     "end_time": "2023-07-05T15:58:08.474882100Z",
     "start_time": "2023-07-05T15:58:08.443450400Z"
    }
   }
  },
  {
   "cell_type": "code",
   "execution_count": 61,
   "outputs": [
    {
     "data": {
      "text/plain": "  Survived  Pclass   Age  SibSp  Parch     Fare  Sex_female  Embarked_C  \\\n0        0       3  22.0      1      0   7.2500       False       False   \n1        1       1  38.0      1      0  71.2833        True        True   \n2        1       3  26.0      0      0   7.9250        True       False   \n3        1       1  35.0      1      0  53.1000        True       False   \n4        0       3  35.0      0      0   8.0500       False       False   \n\n   Embarked_Q  \n0       False  \n1       False  \n2       False  \n3       False  \n4       False  ",
      "text/html": "<div>\n<style scoped>\n    .dataframe tbody tr th:only-of-type {\n        vertical-align: middle;\n    }\n\n    .dataframe tbody tr th {\n        vertical-align: top;\n    }\n\n    .dataframe thead th {\n        text-align: right;\n    }\n</style>\n<table border=\"1\" class=\"dataframe\">\n  <thead>\n    <tr style=\"text-align: right;\">\n      <th></th>\n      <th>Survived</th>\n      <th>Pclass</th>\n      <th>Age</th>\n      <th>SibSp</th>\n      <th>Parch</th>\n      <th>Fare</th>\n      <th>Sex_female</th>\n      <th>Embarked_C</th>\n      <th>Embarked_Q</th>\n    </tr>\n  </thead>\n  <tbody>\n    <tr>\n      <th>0</th>\n      <td>0</td>\n      <td>3</td>\n      <td>22.0</td>\n      <td>1</td>\n      <td>0</td>\n      <td>7.2500</td>\n      <td>False</td>\n      <td>False</td>\n      <td>False</td>\n    </tr>\n    <tr>\n      <th>1</th>\n      <td>1</td>\n      <td>1</td>\n      <td>38.0</td>\n      <td>1</td>\n      <td>0</td>\n      <td>71.2833</td>\n      <td>True</td>\n      <td>True</td>\n      <td>False</td>\n    </tr>\n    <tr>\n      <th>2</th>\n      <td>1</td>\n      <td>3</td>\n      <td>26.0</td>\n      <td>0</td>\n      <td>0</td>\n      <td>7.9250</td>\n      <td>True</td>\n      <td>False</td>\n      <td>False</td>\n    </tr>\n    <tr>\n      <th>3</th>\n      <td>1</td>\n      <td>1</td>\n      <td>35.0</td>\n      <td>1</td>\n      <td>0</td>\n      <td>53.1000</td>\n      <td>True</td>\n      <td>False</td>\n      <td>False</td>\n    </tr>\n    <tr>\n      <th>4</th>\n      <td>0</td>\n      <td>3</td>\n      <td>35.0</td>\n      <td>0</td>\n      <td>0</td>\n      <td>8.0500</td>\n      <td>False</td>\n      <td>False</td>\n      <td>False</td>\n    </tr>\n  </tbody>\n</table>\n</div>"
     },
     "execution_count": 61,
     "metadata": {},
     "output_type": "execute_result"
    }
   ],
   "source": [
    "df = df.drop(['Sex_male', 'Embarked_S'], axis=1)\n",
    "df.head()"
   ],
   "metadata": {
    "collapsed": false,
    "ExecuteTime": {
     "end_time": "2023-07-05T15:58:16.565741500Z",
     "start_time": "2023-07-05T15:58:16.549757600Z"
    }
   }
  },
  {
   "cell_type": "markdown",
   "source": [
    "### Train Python Model"
   ],
   "metadata": {
    "collapsed": false
   }
  },
  {
   "cell_type": "code",
   "execution_count": 62,
   "outputs": [],
   "source": [
    "features = df.drop('Pclass', axis=1).columns\n",
    "target = 'Pclass'\n",
    "\n",
    "X_train, X_test, Y_train, Y_test = train_test_split(df[features], df[target], train_size=0.6, test_size=0.4,\n",
    "                                                    random_state=42)"
   ],
   "metadata": {
    "collapsed": false,
    "ExecuteTime": {
     "end_time": "2023-07-05T16:01:00.536400200Z",
     "start_time": "2023-07-05T16:01:00.525211900Z"
    }
   }
  },
  {
   "cell_type": "code",
   "execution_count": 63,
   "outputs": [
    {
     "data": {
      "text/plain": "RandomForestClassifier(random_state=42)",
      "text/html": "<style>#sk-container-id-3 {color: black;background-color: white;}#sk-container-id-3 pre{padding: 0;}#sk-container-id-3 div.sk-toggleable {background-color: white;}#sk-container-id-3 label.sk-toggleable__label {cursor: pointer;display: block;width: 100%;margin-bottom: 0;padding: 0.3em;box-sizing: border-box;text-align: center;}#sk-container-id-3 label.sk-toggleable__label-arrow:before {content: \"▸\";float: left;margin-right: 0.25em;color: #696969;}#sk-container-id-3 label.sk-toggleable__label-arrow:hover:before {color: black;}#sk-container-id-3 div.sk-estimator:hover label.sk-toggleable__label-arrow:before {color: black;}#sk-container-id-3 div.sk-toggleable__content {max-height: 0;max-width: 0;overflow: hidden;text-align: left;background-color: #f0f8ff;}#sk-container-id-3 div.sk-toggleable__content pre {margin: 0.2em;color: black;border-radius: 0.25em;background-color: #f0f8ff;}#sk-container-id-3 input.sk-toggleable__control:checked~div.sk-toggleable__content {max-height: 200px;max-width: 100%;overflow: auto;}#sk-container-id-3 input.sk-toggleable__control:checked~label.sk-toggleable__label-arrow:before {content: \"▾\";}#sk-container-id-3 div.sk-estimator input.sk-toggleable__control:checked~label.sk-toggleable__label {background-color: #d4ebff;}#sk-container-id-3 div.sk-label input.sk-toggleable__control:checked~label.sk-toggleable__label {background-color: #d4ebff;}#sk-container-id-3 input.sk-hidden--visually {border: 0;clip: rect(1px 1px 1px 1px);clip: rect(1px, 1px, 1px, 1px);height: 1px;margin: -1px;overflow: hidden;padding: 0;position: absolute;width: 1px;}#sk-container-id-3 div.sk-estimator {font-family: monospace;background-color: #f0f8ff;border: 1px dotted black;border-radius: 0.25em;box-sizing: border-box;margin-bottom: 0.5em;}#sk-container-id-3 div.sk-estimator:hover {background-color: #d4ebff;}#sk-container-id-3 div.sk-parallel-item::after {content: \"\";width: 100%;border-bottom: 1px solid gray;flex-grow: 1;}#sk-container-id-3 div.sk-label:hover label.sk-toggleable__label {background-color: #d4ebff;}#sk-container-id-3 div.sk-serial::before {content: \"\";position: absolute;border-left: 1px solid gray;box-sizing: border-box;top: 0;bottom: 0;left: 50%;z-index: 0;}#sk-container-id-3 div.sk-serial {display: flex;flex-direction: column;align-items: center;background-color: white;padding-right: 0.2em;padding-left: 0.2em;position: relative;}#sk-container-id-3 div.sk-item {position: relative;z-index: 1;}#sk-container-id-3 div.sk-parallel {display: flex;align-items: stretch;justify-content: center;background-color: white;position: relative;}#sk-container-id-3 div.sk-item::before, #sk-container-id-3 div.sk-parallel-item::before {content: \"\";position: absolute;border-left: 1px solid gray;box-sizing: border-box;top: 0;bottom: 0;left: 50%;z-index: -1;}#sk-container-id-3 div.sk-parallel-item {display: flex;flex-direction: column;z-index: 1;position: relative;background-color: white;}#sk-container-id-3 div.sk-parallel-item:first-child::after {align-self: flex-end;width: 50%;}#sk-container-id-3 div.sk-parallel-item:last-child::after {align-self: flex-start;width: 50%;}#sk-container-id-3 div.sk-parallel-item:only-child::after {width: 0;}#sk-container-id-3 div.sk-dashed-wrapped {border: 1px dashed gray;margin: 0 0.4em 0.5em 0.4em;box-sizing: border-box;padding-bottom: 0.4em;background-color: white;}#sk-container-id-3 div.sk-label label {font-family: monospace;font-weight: bold;display: inline-block;line-height: 1.2em;}#sk-container-id-3 div.sk-label-container {text-align: center;}#sk-container-id-3 div.sk-container {/* jupyter's `normalize.less` sets `[hidden] { display: none; }` but bootstrap.min.css set `[hidden] { display: none !important; }` so we also need the `!important` here to be able to override the default hidden behavior on the sphinx rendered scikit-learn.org. See: https://github.com/scikit-learn/scikit-learn/issues/21755 */display: inline-block !important;position: relative;}#sk-container-id-3 div.sk-text-repr-fallback {display: none;}</style><div id=\"sk-container-id-3\" class=\"sk-top-container\"><div class=\"sk-text-repr-fallback\"><pre>RandomForestClassifier(random_state=42)</pre><b>In a Jupyter environment, please rerun this cell to show the HTML representation or trust the notebook. <br />On GitHub, the HTML representation is unable to render, please try loading this page with nbviewer.org.</b></div><div class=\"sk-container\" hidden><div class=\"sk-item\"><div class=\"sk-estimator sk-toggleable\"><input class=\"sk-toggleable__control sk-hidden--visually\" id=\"sk-estimator-id-3\" type=\"checkbox\" checked><label for=\"sk-estimator-id-3\" class=\"sk-toggleable__label sk-toggleable__label-arrow\">RandomForestClassifier</label><div class=\"sk-toggleable__content\"><pre>RandomForestClassifier(random_state=42)</pre></div></div></div></div></div>"
     },
     "execution_count": 63,
     "metadata": {},
     "output_type": "execute_result"
    }
   ],
   "source": [
    "rfc = RandomForestClassifier(random_state=42)\n",
    "rfc.fit(X_train, Y_train)"
   ],
   "metadata": {
    "collapsed": false,
    "ExecuteTime": {
     "end_time": "2023-07-05T16:01:02.030817500Z",
     "start_time": "2023-07-05T16:01:01.705734300Z"
    }
   }
  },
  {
   "cell_type": "markdown",
   "source": [
    "### Assess Model"
   ],
   "metadata": {
    "collapsed": false
   }
  },
  {
   "cell_type": "code",
   "execution_count": 64,
   "outputs": [
    {
     "data": {
      "text/plain": "           RandomForest\nFare             53.18%\nAge              21.58%\nSibSp             6.94%\nParch             4.84%\nSurvived          4.75%\nEmbarked_C        4.18%\nSex_female        3.65%\nEmbarked_Q        0.88%",
      "text/html": "<div>\n<style scoped>\n    .dataframe tbody tr th:only-of-type {\n        vertical-align: middle;\n    }\n\n    .dataframe tbody tr th {\n        vertical-align: top;\n    }\n\n    .dataframe thead th {\n        text-align: right;\n    }\n</style>\n<table border=\"1\" class=\"dataframe\">\n  <thead>\n    <tr style=\"text-align: right;\">\n      <th></th>\n      <th>RandomForest</th>\n    </tr>\n  </thead>\n  <tbody>\n    <tr>\n      <th>Fare</th>\n      <td>53.18%</td>\n    </tr>\n    <tr>\n      <th>Age</th>\n      <td>21.58%</td>\n    </tr>\n    <tr>\n      <th>SibSp</th>\n      <td>6.94%</td>\n    </tr>\n    <tr>\n      <th>Parch</th>\n      <td>4.84%</td>\n    </tr>\n    <tr>\n      <th>Survived</th>\n      <td>4.75%</td>\n    </tr>\n    <tr>\n      <th>Embarked_C</th>\n      <td>4.18%</td>\n    </tr>\n    <tr>\n      <th>Sex_female</th>\n      <td>3.65%</td>\n    </tr>\n    <tr>\n      <th>Embarked_Q</th>\n      <td>0.88%</td>\n    </tr>\n  </tbody>\n</table>\n</div>"
     },
     "execution_count": 64,
     "metadata": {},
     "output_type": "execute_result"
    }
   ],
   "source": [
    "pd.DataFrame.from_dict(sort_feature_importance(rfc, X_train), orient=\"index\").rename(columns={0: \"RandomForest\"})"
   ],
   "metadata": {
    "collapsed": false,
    "ExecuteTime": {
     "end_time": "2023-07-05T16:01:28.453439Z",
     "start_time": "2023-07-05T16:01:28.430935Z"
    }
   }
  },
  {
   "cell_type": "markdown",
   "source": [
    "### Creating Score Table"
   ],
   "metadata": {
    "collapsed": false
   }
  },
  {
   "cell_type": "code",
   "execution_count": 65,
   "outputs": [],
   "source": [
    "# recreating sex variable\n",
    "sex = X_test['Sex_female'].apply(lambda x: 'female' if x else 'male')"
   ],
   "metadata": {
    "collapsed": false,
    "ExecuteTime": {
     "end_time": "2023-07-05T16:02:48.488919800Z",
     "start_time": "2023-07-05T16:02:48.459855300Z"
    }
   }
  },
  {
   "cell_type": "code",
   "execution_count": 66,
   "outputs": [
    {
     "data": {
      "text/plain": "array([1, 2, 3], dtype=int64)"
     },
     "execution_count": 66,
     "metadata": {},
     "output_type": "execute_result"
    }
   ],
   "source": [
    "rfc.classes_"
   ],
   "metadata": {
    "collapsed": false,
    "ExecuteTime": {
     "end_time": "2023-07-05T16:05:05.615093800Z",
     "start_time": "2023-07-05T16:05:05.599357300Z"
    }
   }
  },
  {
   "cell_type": "code",
   "execution_count": 68,
   "outputs": [],
   "source": [
    "score_data = {'P_Pclass1': rfc.predict_proba(X_test)[:,0],\n",
    "              'P_Pclass2': rfc.predict_proba(X_test)[:,1],\n",
    "              'P_Pclass3': rfc.predict_proba(X_test)[:,2],\n",
    "              'Pclass': Y_test.to_numpy(),\n",
    "              'Sex': sex}\n",
    "score_table = pd.DataFrame(score_data)"
   ],
   "metadata": {
    "collapsed": false,
    "ExecuteTime": {
     "end_time": "2023-07-05T16:06:00.544132100Z",
     "start_time": "2023-07-05T16:06:00.496863100Z"
    }
   }
  },
  {
   "cell_type": "code",
   "execution_count": 69,
   "outputs": [
    {
     "data": {
      "text/plain": "    P_Pclass1  P_Pclass2  P_Pclass3  Pclass     Sex\n21       0.10       0.45       0.45       2    male\n57       0.09       0.22       0.69       3    male\n50       0.22       0.21       0.57       3    male\n99       0.07       0.79       0.14       2    male\n71       0.35       0.15       0.50       3  female",
      "text/html": "<div>\n<style scoped>\n    .dataframe tbody tr th:only-of-type {\n        vertical-align: middle;\n    }\n\n    .dataframe tbody tr th {\n        vertical-align: top;\n    }\n\n    .dataframe thead th {\n        text-align: right;\n    }\n</style>\n<table border=\"1\" class=\"dataframe\">\n  <thead>\n    <tr style=\"text-align: right;\">\n      <th></th>\n      <th>P_Pclass1</th>\n      <th>P_Pclass2</th>\n      <th>P_Pclass3</th>\n      <th>Pclass</th>\n      <th>Sex</th>\n    </tr>\n  </thead>\n  <tbody>\n    <tr>\n      <th>21</th>\n      <td>0.10</td>\n      <td>0.45</td>\n      <td>0.45</td>\n      <td>2</td>\n      <td>male</td>\n    </tr>\n    <tr>\n      <th>57</th>\n      <td>0.09</td>\n      <td>0.22</td>\n      <td>0.69</td>\n      <td>3</td>\n      <td>male</td>\n    </tr>\n    <tr>\n      <th>50</th>\n      <td>0.22</td>\n      <td>0.21</td>\n      <td>0.57</td>\n      <td>3</td>\n      <td>male</td>\n    </tr>\n    <tr>\n      <th>99</th>\n      <td>0.07</td>\n      <td>0.79</td>\n      <td>0.14</td>\n      <td>2</td>\n      <td>male</td>\n    </tr>\n    <tr>\n      <th>71</th>\n      <td>0.35</td>\n      <td>0.15</td>\n      <td>0.50</td>\n      <td>3</td>\n      <td>female</td>\n    </tr>\n  </tbody>\n</table>\n</div>"
     },
     "execution_count": 69,
     "metadata": {},
     "output_type": "execute_result"
    }
   ],
   "source": [
    "score_table.head()"
   ],
   "metadata": {
    "collapsed": false,
    "ExecuteTime": {
     "end_time": "2023-07-05T16:06:03.597568100Z",
     "start_time": "2023-07-05T16:06:03.518990900Z"
    }
   }
  },
  {
   "cell_type": "markdown",
   "source": [
    "### Using `assess_model_bias()`"
   ],
   "metadata": {
    "collapsed": false
   }
  },
  {
   "cell_type": "code",
   "execution_count": null,
   "outputs": [],
   "source": [
    "# creating assess bias json files and getting dataframes\n",
    "dfs = pzmm.JSONFiles.assess_model_bias(\n",
    "        score_table=score_table,\n",
    "        actual_values='Pclass',\n",
    "        sensitive_values='Sex',\n",
    "        prob_values=['P_Pclass1', 'P_Pclass2', 'P_Pclass3'],\n",
    "        levels=['1', '2', '3'],\n",
    "        json_path=Path.cwd() / \"data/BiasMetrics/titanicModels/MultiRandomForest/\",\n",
    "        return_dataframes=True\n",
    "    )"
   ],
   "metadata": {
    "collapsed": false
   }
  },
  {
   "cell_type": "markdown",
   "source": [
    "### Assess Model Bias Output"
   ],
   "metadata": {
    "collapsed": false
   }
  },
  {
   "cell_type": "code",
   "execution_count": 74,
   "outputs": [
    {
     "data": {
      "text/plain": "   INTO_EVENT   LEVEL  PREDICTED_EVENT  P_Pclass1  P_Pclass2  P_Pclass3  \\\n0    0.066667  female         0.149333   0.149333   0.340000   0.510667   \n1    0.171429    male         0.225714   0.225714   0.272286   0.502000   \n\n  VLABEL _DATAROLE_ _VARIABLE_     _acc_  ...    _mcll_  _misccutoff_  \\\n0              TEST        Sex  0.933333  ...  0.643379      0.066667   \n1              TEST        Sex  0.885714  ...  0.527678      0.114286   \n\n   _miscks_  _nobs_    _rase_  _resp_  _tn_     _tnr_  _tp_  _tpr_  \n0  0.200000    15.0  0.363563    50.0  13.0  1.000000   1.0  0.500  \n1  0.142857    35.0  0.318224    12.5  26.0  0.962963   5.0  0.625  \n\n[2 rows x 36 columns]",
      "text/html": "<div>\n<style scoped>\n    .dataframe tbody tr th:only-of-type {\n        vertical-align: middle;\n    }\n\n    .dataframe tbody tr th {\n        vertical-align: top;\n    }\n\n    .dataframe thead th {\n        text-align: right;\n    }\n</style>\n<table border=\"1\" class=\"dataframe\">\n  <thead>\n    <tr style=\"text-align: right;\">\n      <th></th>\n      <th>INTO_EVENT</th>\n      <th>LEVEL</th>\n      <th>PREDICTED_EVENT</th>\n      <th>P_Pclass1</th>\n      <th>P_Pclass2</th>\n      <th>P_Pclass3</th>\n      <th>VLABEL</th>\n      <th>_DATAROLE_</th>\n      <th>_VARIABLE_</th>\n      <th>_acc_</th>\n      <th>...</th>\n      <th>_mcll_</th>\n      <th>_misccutoff_</th>\n      <th>_miscks_</th>\n      <th>_nobs_</th>\n      <th>_rase_</th>\n      <th>_resp_</th>\n      <th>_tn_</th>\n      <th>_tnr_</th>\n      <th>_tp_</th>\n      <th>_tpr_</th>\n    </tr>\n  </thead>\n  <tbody>\n    <tr>\n      <th>0</th>\n      <td>0.066667</td>\n      <td>female</td>\n      <td>0.149333</td>\n      <td>0.149333</td>\n      <td>0.340000</td>\n      <td>0.510667</td>\n      <td></td>\n      <td>TEST</td>\n      <td>Sex</td>\n      <td>0.933333</td>\n      <td>...</td>\n      <td>0.643379</td>\n      <td>0.066667</td>\n      <td>0.200000</td>\n      <td>15.0</td>\n      <td>0.363563</td>\n      <td>50.0</td>\n      <td>13.0</td>\n      <td>1.000000</td>\n      <td>1.0</td>\n      <td>0.500</td>\n    </tr>\n    <tr>\n      <th>1</th>\n      <td>0.171429</td>\n      <td>male</td>\n      <td>0.225714</td>\n      <td>0.225714</td>\n      <td>0.272286</td>\n      <td>0.502000</td>\n      <td></td>\n      <td>TEST</td>\n      <td>Sex</td>\n      <td>0.885714</td>\n      <td>...</td>\n      <td>0.527678</td>\n      <td>0.114286</td>\n      <td>0.142857</td>\n      <td>35.0</td>\n      <td>0.318224</td>\n      <td>12.5</td>\n      <td>26.0</td>\n      <td>0.962963</td>\n      <td>5.0</td>\n      <td>0.625</td>\n    </tr>\n  </tbody>\n</table>\n<p>2 rows × 36 columns</p>\n</div>"
     },
     "execution_count": 74,
     "metadata": {},
     "output_type": "execute_result"
    }
   ],
   "source": [
    "dfs['groupMetricsData'].head()"
   ],
   "metadata": {
    "collapsed": false,
    "ExecuteTime": {
     "end_time": "2023-07-05T16:15:38.059672800Z",
     "start_time": "2023-07-05T16:15:38.012821Z"
    }
   }
  },
  {
   "cell_type": "code",
   "execution_count": 75,
   "outputs": [
    {
     "data": {
      "text/plain": "     BASE COMPARE     Metric          MetricLabel VLABEL _DATAROLE_  \\\n0    male  female  P_Pclass1    Average P_Pclass1              TEST   \n1  female    male  P_Pclass2    Average P_Pclass2              TEST   \n2  female    male  P_Pclass3    Average P_Pclass3              TEST   \n3    male  female        TPR   True Positive Rate              TEST   \n4    male  female        FPR  False Positive Rate              TEST   \n\n  _VARIABLE_   maxdiff  \n0        Sex  0.076381  \n1        Sex  0.067714  \n2        Sex  0.008667  \n3        Sex  0.125000  \n4        Sex  0.037037  ",
      "text/html": "<div>\n<style scoped>\n    .dataframe tbody tr th:only-of-type {\n        vertical-align: middle;\n    }\n\n    .dataframe tbody tr th {\n        vertical-align: top;\n    }\n\n    .dataframe thead th {\n        text-align: right;\n    }\n</style>\n<table border=\"1\" class=\"dataframe\">\n  <thead>\n    <tr style=\"text-align: right;\">\n      <th></th>\n      <th>BASE</th>\n      <th>COMPARE</th>\n      <th>Metric</th>\n      <th>MetricLabel</th>\n      <th>VLABEL</th>\n      <th>_DATAROLE_</th>\n      <th>_VARIABLE_</th>\n      <th>maxdiff</th>\n    </tr>\n  </thead>\n  <tbody>\n    <tr>\n      <th>0</th>\n      <td>male</td>\n      <td>female</td>\n      <td>P_Pclass1</td>\n      <td>Average P_Pclass1</td>\n      <td></td>\n      <td>TEST</td>\n      <td>Sex</td>\n      <td>0.076381</td>\n    </tr>\n    <tr>\n      <th>1</th>\n      <td>female</td>\n      <td>male</td>\n      <td>P_Pclass2</td>\n      <td>Average P_Pclass2</td>\n      <td></td>\n      <td>TEST</td>\n      <td>Sex</td>\n      <td>0.067714</td>\n    </tr>\n    <tr>\n      <th>2</th>\n      <td>female</td>\n      <td>male</td>\n      <td>P_Pclass3</td>\n      <td>Average P_Pclass3</td>\n      <td></td>\n      <td>TEST</td>\n      <td>Sex</td>\n      <td>0.008667</td>\n    </tr>\n    <tr>\n      <th>3</th>\n      <td>male</td>\n      <td>female</td>\n      <td>TPR</td>\n      <td>True Positive Rate</td>\n      <td></td>\n      <td>TEST</td>\n      <td>Sex</td>\n      <td>0.125000</td>\n    </tr>\n    <tr>\n      <th>4</th>\n      <td>male</td>\n      <td>female</td>\n      <td>FPR</td>\n      <td>False Positive Rate</td>\n      <td></td>\n      <td>TEST</td>\n      <td>Sex</td>\n      <td>0.037037</td>\n    </tr>\n  </tbody>\n</table>\n</div>"
     },
     "execution_count": 75,
     "metadata": {},
     "output_type": "execute_result"
    }
   ],
   "source": [
    "dfs['maxDifferencesData'].head()"
   ],
   "metadata": {
    "collapsed": false,
    "ExecuteTime": {
     "end_time": "2023-07-05T16:17:16.202528900Z",
     "start_time": "2023-07-05T16:17:16.186631300Z"
    }
   }
  },
  {
   "cell_type": "code",
   "execution_count": 76,
   "outputs": [
    {
     "data": {
      "text/plain": "              Metric                              MetricLabel     Value  \\\n0  DemographicParity  Demographic Parity (Statistical Parity)  0.104762   \n1   PredictiveParity                        Predictive Parity  0.076381   \n2      EqualAccuracy                           Equal Accuracy  0.047619   \n3      EqualizedOdds                           Equalized Odds  0.125000   \n4   EqualOpportunity                        Equal Opportunity  0.125000   \n\n     Base Compare                                               Note  \\\n0    male  female                                                      \n1    male  female                                                      \n2  female    male                                                      \n3    male  female  The maximum TPR difference is greater than the...   \n4    male  female                                                      \n\n  _VARIABLE_  \n0        Sex  \n1        Sex  \n2        Sex  \n3        Sex  \n4        Sex  ",
      "text/html": "<div>\n<style scoped>\n    .dataframe tbody tr th:only-of-type {\n        vertical-align: middle;\n    }\n\n    .dataframe tbody tr th {\n        vertical-align: top;\n    }\n\n    .dataframe thead th {\n        text-align: right;\n    }\n</style>\n<table border=\"1\" class=\"dataframe\">\n  <thead>\n    <tr style=\"text-align: right;\">\n      <th></th>\n      <th>Metric</th>\n      <th>MetricLabel</th>\n      <th>Value</th>\n      <th>Base</th>\n      <th>Compare</th>\n      <th>Note</th>\n      <th>_VARIABLE_</th>\n    </tr>\n  </thead>\n  <tbody>\n    <tr>\n      <th>0</th>\n      <td>DemographicParity</td>\n      <td>Demographic Parity (Statistical Parity)</td>\n      <td>0.104762</td>\n      <td>male</td>\n      <td>female</td>\n      <td></td>\n      <td>Sex</td>\n    </tr>\n    <tr>\n      <th>1</th>\n      <td>PredictiveParity</td>\n      <td>Predictive Parity</td>\n      <td>0.076381</td>\n      <td>male</td>\n      <td>female</td>\n      <td></td>\n      <td>Sex</td>\n    </tr>\n    <tr>\n      <th>2</th>\n      <td>EqualAccuracy</td>\n      <td>Equal Accuracy</td>\n      <td>0.047619</td>\n      <td>female</td>\n      <td>male</td>\n      <td></td>\n      <td>Sex</td>\n    </tr>\n    <tr>\n      <th>3</th>\n      <td>EqualizedOdds</td>\n      <td>Equalized Odds</td>\n      <td>0.125000</td>\n      <td>male</td>\n      <td>female</td>\n      <td>The maximum TPR difference is greater than the...</td>\n      <td>Sex</td>\n    </tr>\n    <tr>\n      <th>4</th>\n      <td>EqualOpportunity</td>\n      <td>Equal Opportunity</td>\n      <td>0.125000</td>\n      <td>male</td>\n      <td>female</td>\n      <td></td>\n      <td>Sex</td>\n    </tr>\n  </tbody>\n</table>\n</div>"
     },
     "execution_count": 76,
     "metadata": {},
     "output_type": "execute_result"
    }
   ],
   "source": [
    "dfs['biasMetricsData'].head()"
   ],
   "metadata": {
    "collapsed": false,
    "ExecuteTime": {
     "end_time": "2023-07-05T16:17:17.659580600Z",
     "start_time": "2023-07-05T16:17:17.581446700Z"
    }
   }
  },
  {
   "cell_type": "markdown",
   "source": [
    "*Performance Bias*"
   ],
   "metadata": {
    "collapsed": false
   }
  },
  {
   "cell_type": "code",
   "execution_count": 77,
   "outputs": [
    {
     "data": {
      "text/plain": "<Figure size 700x400 with 2 Axes>",
      "image/png": "[encoded data removed]"
     },
     "metadata": {},
     "output_type": "display_data"
    }
   ],
   "source": [
    "fig, axes = plt.subplots(1, 2)\n",
    "fig.suptitle(\"Log Loss and Max KS for Random Forest\")\n",
    "\n",
    "sns.barplot(data=dfs['groupMetricsData'], x=\"LEVEL\", y='_mcll_', ax=axes[0]).set(title=\"Multiclass Log Loss\")\n",
    "sns.barplot(data=dfs['groupMetricsData'], x=\"LEVEL\", y='_ks_', ax=axes[1]).set(title=\"Max KS\")\n",
    "\n",
    "plt.show()"
   ],
   "metadata": {
    "collapsed": false,
    "ExecuteTime": {
     "end_time": "2023-07-05T16:20:55.563690600Z",
     "start_time": "2023-07-05T16:20:55.053436900Z"
    }
   }
  },
  {
   "cell_type": "markdown",
   "source": [
    "*Average Prediction for Event*"
   ],
   "metadata": {
    "collapsed": false
   }
  },
  {
   "cell_type": "code",
   "execution_count": 84,
   "outputs": [],
   "source": [
    "sns.barplot(data=dfs['groupMetricsData'], x=\"LEVEL\", y='PREDICTED_EVENT')"
   ],
   "metadata": {
    "collapsed": false
   }
  },
  {
   "cell_type": "code",
   "execution_count": null,
   "outputs": [],
   "source": [],
   "metadata": {
    "collapsed": false
   }
  }
 ],
 "metadata": {
  "kernelspec": {
   "display_name": "Python 3",
   "language": "python",
   "name": "python3"
  },
  "language_info": {
   "codemirror_mode": {
    "name": "ipython",
    "version": 2
   },
   "file_extension": ".py",
   "mimetype": "text/x-python",
   "name": "python",
   "nbconvert_exporter": "python",
   "pygments_lexer": "ipython2",
   "version": "2.7.6"
  }
 },
 "nbformat": 4,
 "nbformat_minor": 0
}
